{
 "cells": [
  {
   "cell_type": "markdown",
   "metadata": {},
   "source": [
    "# Logarithms and heteroskedasticity\n",
    "\n",
    "Here's a [question from the Reddit statistics forum](https://www.reddit.com/r/statistics/comments/1czsban/eq_is_it_correct_to_use_logarithmic/).\n",
    "\n",
    "> Is it correct to use logarithmic transformation in order to mitigate heteroskedasticity? \n",
    ">\n",
    "> For my studies I gathered data on certain preferences across a group of people. I am trying to figure out if I can pinpoint preferences to factors such as gender in this case.\n",
    ">\n",
    "> I used mixed ANOVA analysis with good success however one of my hypothesis came up with heteroskedasticity when doing Levene's test. [I've been] breaking my head all day on how to solve this. I've now used logarithmic transformation to all 3 test results and run another Levene's. When using the media value the test now results [in] homoskedasticity, however interaction is no longer significant?\n",
    ">\n",
    "> Is this the correct way to deal with this problem or is there something I am missing? Thanks in advance to everyone taking their time to help.\n",
    "\n",
    "Although the question is about ANOVA, I'm going to reframe it in terms of regression, for two reasons:\n",
    "\n",
    "* Discussion of heteroskedasticity is clearer in the context of regression.\n",
    "\n",
    "* For many problems, a regression model is better than ANOVA anyway."
   ]
  },
  {
   "cell_type": "markdown",
   "metadata": {
    "tags": [
     "remove-print"
    ]
   },
   "source": [
    "[Click here to run this notebook on Colab](https://colab.research.google.com/github/AllenDowney/DataQnA/blob/main/nb/log_heterosked.ipynb)."
   ]
  },
  {
   "cell_type": "markdown",
   "metadata": {
    "tags": [
     "hide-cell"
    ]
   },
   "source": [
    "I'll download a utilities module with some of my frequently-used functions, and then import the usual libraries."
   ]
  },
  {
   "cell_type": "code",
   "execution_count": 1,
   "metadata": {
    "tags": [
     "hide-cell"
    ]
   },
   "outputs": [],
   "source": [
    "from os.path import basename, exists\n",
    "\n",
    "def download(url):\n",
    "    filename = basename(url)\n",
    "    if not exists(filename):\n",
    "        from urllib.request import urlretrieve\n",
    "\n",
    "        local, _ = urlretrieve(url, filename)\n",
    "        print(\"Downloaded \" + str(local))\n",
    "    return filename\n",
    "\n",
    "download('https://github.com/AllenDowney/DataQnA/raw/main/nb/utils.py')\n",
    "\n",
    "import numpy as np\n",
    "import matplotlib.pyplot as plt\n",
    "import pandas as pd\n",
    "import seaborn as sns\n",
    "\n",
    "from utils import decorate"
   ]
  },
  {
   "cell_type": "code",
   "execution_count": 2,
   "metadata": {
    "tags": [
     "hide-cell"
    ]
   },
   "outputs": [],
   "source": [
    "# install the empiricaldist library, if necessary\n",
    "\n",
    "try:\n",
    "    import empiricaldist\n",
    "except ImportError:\n",
    "    !pip install empiricaldist"
   ]
  },
  {
   "cell_type": "markdown",
   "metadata": {},
   "source": [
    "## What is heteroskedasticity?\n",
    "\n",
    "Linear regression is based on a model of the data-generating process where the independent variable `y` is the sum of\n",
    "\n",
    "* A linear function of `x` with an unknown slope and intercept, and\n",
    "\n",
    "* Random values drawn from a Gaussian distribution with mean 0 and unknown standard deviation, `sigma`, that does not depend on `x`.\n",
    "\n",
    "If, contrary to the second assumption, `sigma` depends on `x`, the data-generating process is heteroskedastic.\n",
    "Some amount of heteroskedasticity is common in real data, but most of the time it's not a problem, because:\n",
    "\n",
    "*  Heteroskedasticity doesn't bias the estimated parameters of the model, only the standard errors,\n",
    "\n",
    "* Even very strong heteroskedasticity doesn't affect the standard errors by much, and\n",
    "\n",
    "* For practical purposes we don't need standard errors to be particularly precise.\n",
    "\n",
    "To demonstrate, let's generate some data.\n",
    "First, we'll draw `xs` from a normal distribution."
   ]
  },
  {
   "cell_type": "code",
   "execution_count": 3,
   "metadata": {},
   "outputs": [],
   "source": [
    "np.random.seed(17)\n",
    "\n",
    "n = 200\n",
    "xs = np.random.normal(30, 1, size=n)\n",
    "xs.sort()"
   ]
  },
  {
   "cell_type": "markdown",
   "metadata": {},
   "source": [
    "To generate heteroskedastic data, I'll use `interpolate` to construct a function where `sigma` depends on `x`."
   ]
  },
  {
   "cell_type": "code",
   "execution_count": 4,
   "metadata": {},
   "outputs": [],
   "source": [
    "from scipy.interpolate import interp1d\n",
    "\n",
    "def interpolate(xs, sigma_seq):\n",
    "    return interp1d([xs.min(), xs.max()], sigma_seq)(xs)"
   ]
  },
  {
   "cell_type": "markdown",
   "metadata": {},
   "source": [
    "To generate strong heteroskedasticity, I'll vary sigma over a wide range."
   ]
  },
  {
   "cell_type": "code",
   "execution_count": 5,
   "metadata": {},
   "outputs": [
    {
     "data": {
      "text/plain": [
       "3.126391153924031"
      ]
     },
     "execution_count": 5,
     "metadata": {},
     "output_type": "execute_result"
    }
   ],
   "source": [
    "sigmas = interpolate(xs, [0.1, 6.0])\n",
    "np.mean(sigmas)"
   ]
  },
  {
   "cell_type": "markdown",
   "metadata": {},
   "source": [
    "Here's what `sigma` looks like as a function of `x`."
   ]
  },
  {
   "cell_type": "code",
   "execution_count": 6,
   "metadata": {},
   "outputs": [
    {
     "data": {
      "image/png": "[encoded data removed]",
      "text/plain": [
       "<Figure size 450x262.5 with 1 Axes>"
      ]
     },
     "metadata": {},
     "output_type": "display_data"
    }
   ],
   "source": [
    "plt.plot(xs, sigmas, '.')\n",
    "\n",
    "decorate(xlabel='x',\n",
    "         ylabel='sigma')"
   ]
  },
  {
   "cell_type": "markdown",
   "metadata": {},
   "source": [
    "Now we can generate `ys` with variable values of `sigma`."
   ]
  },
  {
   "cell_type": "code",
   "execution_count": 7,
   "metadata": {},
   "outputs": [],
   "source": [
    "ys = xs + np.random.normal(0, sigmas)"
   ]
  },
  {
   "cell_type": "markdown",
   "metadata": {},
   "source": [
    "If we make a scatter plot of the data, we see a cone shape that indicates heteroskedasticity."
   ]
  },
  {
   "cell_type": "code",
   "execution_count": 8,
   "metadata": {},
   "outputs": [
    {
     "data": {
      "image/png": "[encoded data removed]",
      "text/plain": [
       "<Figure size 450x262.5 with 1 Axes>"
      ]
     },
     "metadata": {},
     "output_type": "display_data"
    }
   ],
   "source": [
    "plt.plot(xs, ys, '.')\n",
    "\n",
    "decorate(xlabel='x', ylabel='y')"
   ]
  },
  {
   "cell_type": "markdown",
   "metadata": {},
   "source": [
    "Now let's fit a model to the data."
   ]
  },
  {
   "cell_type": "code",
   "execution_count": 9,
   "metadata": {},
   "outputs": [
    {
     "data": {
      "text/plain": [
       "(0.7580177696902339, 0.9672433174107101)"
      ]
     },
     "execution_count": 9,
     "metadata": {},
     "output_type": "execute_result"
    }
   ],
   "source": [
    "import statsmodels.api as sm\n",
    "\n",
    "X = sm.add_constant(xs)\n",
    "ols_model = sm.OLS(ys, X)\n",
    "ols_results = ols_model.fit()\n",
    "\n",
    "intercept, slope = ols_results.params\n",
    "intercept, slope"
   ]
  },
  {
   "cell_type": "markdown",
   "metadata": {},
   "source": [
    "Here's what the fitted line looks like."
   ]
  },
  {
   "cell_type": "code",
   "execution_count": 10,
   "metadata": {},
   "outputs": [
    {
     "data": {
      "image/png": "[encoded data removed]",
      "text/plain": [
       "<Figure size 450x262.5 with 1 Axes>"
      ]
     },
     "metadata": {},
     "output_type": "display_data"
    }
   ],
   "source": [
    "fys = intercept + slope * xs\n",
    "\n",
    "plt.plot(xs, ys, '.')\n",
    "plt.plot(xs, fys)\n",
    "\n",
    "decorate(xlabel='x', ylabel='y')"
   ]
  },
  {
   "cell_type": "markdown",
   "metadata": {},
   "source": [
    "If we plot the absolute values of the residuals, we can see the heteroskedasticity more clearly."
   ]
  },
  {
   "cell_type": "code",
   "execution_count": 11,
   "metadata": {},
   "outputs": [
    {
     "data": {
      "image/png": "[encoded data removed]",
      "text/plain": [
       "<Figure size 450x262.5 with 1 Axes>"
      ]
     },
     "metadata": {},
     "output_type": "display_data"
    }
   ],
   "source": [
    "resid = ys - fys\n",
    "plt.plot(xs, np.abs(resid), '.')\n",
    "\n",
    "decorate(xlabel='x', ylabel='absolute residual')"
   ]
  },
  {
   "cell_type": "markdown",
   "metadata": {},
   "source": [
    "## Testing for heteroskedasticity\n",
    "\n",
    "OP mentions using the Levene test for heteroskedasticity, which is used to test whether `sigma` is different between groups.\n",
    "For continuous values of `x` and `y`, we can use the Breusch-Pagan Lagrange Multiplier test:"
   ]
  },
  {
   "cell_type": "code",
   "execution_count": 12,
   "metadata": {},
   "outputs": [
    {
     "data": {
      "text/plain": [
       "0.0006411829020109725"
      ]
     },
     "execution_count": 12,
     "metadata": {},
     "output_type": "execute_result"
    }
   ],
   "source": [
    "from statsmodels.stats.diagnostic import het_breuschpagan\n",
    "\n",
    "_, p_value, _, _ = het_breuschpagan(resid, ols_model.exog)\n",
    "p_value"
   ]
  },
  {
   "cell_type": "markdown",
   "metadata": {},
   "source": [
    "Or White's Lagrange Multiplier test:"
   ]
  },
  {
   "cell_type": "code",
   "execution_count": 13,
   "metadata": {},
   "outputs": [
    {
     "data": {
      "text/plain": [
       "0.0019263142806157931"
      ]
     },
     "execution_count": 13,
     "metadata": {},
     "output_type": "execute_result"
    }
   ],
   "source": [
    "from statsmodels.stats.diagnostic import het_white\n",
    "\n",
    "_, p_value, _, _ = het_white(resid, ols_model.exog)\n",
    "p_value"
   ]
  },
  {
   "cell_type": "markdown",
   "metadata": {},
   "source": [
    "Both tests produce small p-values, which means that if we generate a dataset by a homoskedastic process, there is almost no chance it would have as much heteroskedasticity as the dataset we generated.\n",
    "\n",
    "If you have never heard of either of these tests, don't panic -- neither had I under I looked them up for this example.\n",
    "And don't worry about remembering them, because you should never use them again.\n",
    "Like testing for normality, testing for heteroskedasticity is never useful.\n",
    "\n",
    "Why? Because in almost any real dataset, you will find some heteroskedasticity.\n",
    "So if you test for it, there are only two possible results:\n",
    "\n",
    "* If the heteroskedasticity is small and you don't have much data, you will fail to reject the null hypothesis.\n",
    "\n",
    "* If the heteroskedasticity is large or you have a lot of data, you will reject the null hypothesis.\n",
    "\n",
    "Either way, you learn nothing -- and in particular, you don't learn the answer to the question you actually care about, which is whether the heteroskedasticity is so large that the effect on the standard errors is large enough that you should care.\n",
    "\n",
    "And the answer to that question is almost always no."
   ]
  },
  {
   "cell_type": "markdown",
   "metadata": {},
   "source": [
    "## Should we care?\n",
    "\n",
    "The dataset we generated has very large heteroskedasticity.\n",
    "Let's see how much effect that has on the results.\n",
    "Here are the standard errors from simple linear regression:"
   ]
  },
  {
   "cell_type": "code",
   "execution_count": 14,
   "metadata": {},
   "outputs": [
    {
     "data": {
      "text/plain": [
       "array([6.06159018, 0.20152957])"
      ]
     },
     "execution_count": 14,
     "metadata": {},
     "output_type": "execute_result"
    }
   ],
   "source": [
    "ols_results.bse"
   ]
  },
  {
   "cell_type": "markdown",
   "metadata": {},
   "source": [
    "Now, there are several ways to generate standard errors that are robust in the presence of heteroskedasticity.\n",
    "One is the Huber-White estimator, which we can compute like this:"
   ]
  },
  {
   "cell_type": "code",
   "execution_count": 15,
   "metadata": {},
   "outputs": [
    {
     "data": {
      "text/plain": [
       "array([6.73913518, 0.2268012 ])"
      ]
     },
     "execution_count": 15,
     "metadata": {},
     "output_type": "execute_result"
    }
   ],
   "source": [
    "robust_se = ols_results.get_robustcov_results(cov_type='HC3')\n",
    "robust_se.bse"
   ]
  },
  {
   "cell_type": "markdown",
   "metadata": {},
   "source": [
    "Another is to use Huber regression."
   ]
  },
  {
   "cell_type": "code",
   "execution_count": 16,
   "metadata": {},
   "outputs": [
    {
     "data": {
      "text/plain": [
       "array([5.92709031, 0.19705786])"
      ]
     },
     "execution_count": 16,
     "metadata": {},
     "output_type": "execute_result"
    }
   ],
   "source": [
    "huber_model = sm.RLM(ys, X, M=sm.robust.norms.HuberT())\n",
    "huber_results = huber_model.fit()\n",
    "huber_results.bse"
   ]
  },
  {
   "cell_type": "markdown",
   "metadata": {},
   "source": [
    "Another is to use quantile regression."
   ]
  },
  {
   "cell_type": "code",
   "execution_count": 17,
   "metadata": {},
   "outputs": [
    {
     "data": {
      "text/plain": [
       "array([7.6449323 , 0.25417092])"
      ]
     },
     "execution_count": 17,
     "metadata": {},
     "output_type": "execute_result"
    }
   ],
   "source": [
    "quantile_model = sm.QuantReg(ys, X)\n",
    "quantile_results = quantile_model.fit(q=0.5)\n",
    "quantile_results.bse"
   ]
  },
  {
   "cell_type": "markdown",
   "metadata": {},
   "source": [
    "And one more option is a wild bootstrap, which resamples the residuals by multiplying them by a random sequence of `1` and `-1`.\n",
    "This way of resampling preserves heteroskedasticity, because it only changes the sign of the residuals, not the magnitude, and it maintains the relationship between those magnitudes and `x`."
   ]
  },
  {
   "cell_type": "code",
   "execution_count": 18,
   "metadata": {},
   "outputs": [],
   "source": [
    "from scipy.stats import linregress\n",
    "\n",
    "def wild_bootstrap():\n",
    "    resampled = fys + ols_results.resid * np.random.choice([1, -1], size=n)\n",
    "    res = linregress(xs, resampled)\n",
    "    return res.intercept, res.slope "
   ]
  },
  {
   "cell_type": "markdown",
   "metadata": {},
   "source": [
    "We can use `wild_bootstrap` to generate a sample from the sampling distributions of the intercept and slope."
   ]
  },
  {
   "cell_type": "code",
   "execution_count": 19,
   "metadata": {},
   "outputs": [],
   "source": [
    "sample = [wild_bootstrap() for i in range(1001)] "
   ]
  },
  {
   "cell_type": "markdown",
   "metadata": {},
   "source": [
    "The standard deviation of the sampling distributions is the standard error."
   ]
  },
  {
   "cell_type": "code",
   "execution_count": 20,
   "metadata": {},
   "outputs": [
    {
     "data": {
      "text/plain": [
       "array([6.63622313, 0.22341784])"
      ]
     },
     "execution_count": 20,
     "metadata": {},
     "output_type": "execute_result"
    }
   ],
   "source": [
    "bootstrap_bse = np.std(sample, axis=0)\n",
    "bootstrap_bse"
   ]
  },
  {
   "cell_type": "markdown",
   "metadata": {},
   "source": [
    "Now let's put all of the result in a table."
   ]
  },
  {
   "cell_type": "code",
   "execution_count": 21,
   "metadata": {},
   "outputs": [
    {
     "data": {
      "text/html": [
       "<div>\n",
       "<style scoped>\n",
       "    .dataframe tbody tr th:only-of-type {\n",
       "        vertical-align: middle;\n",
       "    }\n",
       "\n",
       "    .dataframe tbody tr th {\n",
       "        vertical-align: top;\n",
       "    }\n",
       "\n",
       "    .dataframe thead th {\n",
       "        text-align: right;\n",
       "    }\n",
       "</style>\n",
       "<table border=\"1\" class=\"dataframe\">\n",
       "  <thead>\n",
       "    <tr style=\"text-align: right;\">\n",
       "      <th></th>\n",
       "      <th>SE(intercept)</th>\n",
       "      <th>SE(slope)</th>\n",
       "    </tr>\n",
       "  </thead>\n",
       "  <tbody>\n",
       "    <tr>\n",
       "      <th>Huber</th>\n",
       "      <td>5.927090</td>\n",
       "      <td>0.197058</td>\n",
       "    </tr>\n",
       "    <tr>\n",
       "      <th>OLS</th>\n",
       "      <td>6.061590</td>\n",
       "      <td>0.201530</td>\n",
       "    </tr>\n",
       "    <tr>\n",
       "      <th>bootstrap</th>\n",
       "      <td>6.636223</td>\n",
       "      <td>0.223418</td>\n",
       "    </tr>\n",
       "    <tr>\n",
       "      <th>Huber-White</th>\n",
       "      <td>6.739135</td>\n",
       "      <td>0.226801</td>\n",
       "    </tr>\n",
       "    <tr>\n",
       "      <th>quantile</th>\n",
       "      <td>7.644932</td>\n",
       "      <td>0.254171</td>\n",
       "    </tr>\n",
       "  </tbody>\n",
       "</table>\n",
       "</div>"
      ],
      "text/plain": [
       "             SE(intercept)  SE(slope)\n",
       "Huber             5.927090   0.197058\n",
       "OLS               6.061590   0.201530\n",
       "bootstrap         6.636223   0.223418\n",
       "Huber-White       6.739135   0.226801\n",
       "quantile          7.644932   0.254171"
      ]
     },
     "execution_count": 21,
     "metadata": {},
     "output_type": "execute_result"
    }
   ],
   "source": [
    "columns = ['SE(intercept)', 'SE(slope)']\n",
    "index = ['OLS', 'Huber-White', 'Huber', 'quantile', 'bootstrap']\n",
    "data = [ols_results.bse, robust_se.bse, huber_results.bse, \n",
    "        quantile_results.bse, bootstrap_bse]\n",
    "df = pd.DataFrame(data, columns=columns, index=index)\n",
    "df.sort_values(by='SE(slope)')"
   ]
  },
  {
   "cell_type": "markdown",
   "metadata": {},
   "source": [
    "The standard errors we get from different methods are notably different, but the differences probably don't matter.\n",
    "\n",
    "First, I am skeptical of the results from Huber regression.\n",
    "With this kind of heteroskedasticity, the standard errors should be larger than what we get from OLS.\n",
    "I'm not sure what's the problem is, and I haven't bothered to find out, because I don't think Huber regression is necessary in the first place.\n",
    "\n",
    "The results from bootstrapping and the Huber-White estimator are the most reliable -- which suggests that the standard errors from quantile regression are too big. \n",
    "\n",
    "In my opinion, we don't need esoteric methods to deal with heteroskedasticity.\n",
    "If it's extreme, consider using wild bootstrap.\n",
    "Otherwise, just use ordinary least squares.\n",
    "\n",
    "Now let's address OP's headline question, \"Is it correct to use logarithmic transformation in order to mitigate heteroskedasticity?\""
   ]
  },
  {
   "cell_type": "markdown",
   "metadata": {},
   "source": [
    "## Log transform help?\n",
    "\n",
    "In some cases, a log transform can reduce or eliminate heteroskedasticity.\n",
    "However, there are several reasons this is not a good idea in general:\n",
    "\n",
    "* As we've seen, heteroskedasticity is not a big problem, so it usually doesn't require any mitigation.\n",
    "\n",
    "* Taking a log transform of one or more variables in a regression model changes the meaning of the model -- it hypothesizes a relationship between the variables that might not make sense in context.\n",
    "\n",
    "* Anyway, taking a log transform doesn't always help.\n",
    "\n",
    "To demonstrate the last point, let's see what happens if we apply a log transform to the dependent variable:"
   ]
  },
  {
   "cell_type": "code",
   "execution_count": 22,
   "metadata": {},
   "outputs": [],
   "source": [
    "log_ys = np.log10(ys)"
   ]
  },
  {
   "cell_type": "markdown",
   "metadata": {},
   "source": [
    "Here's what the scatter plot looks like after the transform."
   ]
  },
  {
   "cell_type": "code",
   "execution_count": 23,
   "metadata": {},
   "outputs": [
    {
     "data": {
      "image/png": "[encoded data removed]",
      "text/plain": [
       "<Figure size 450x262.5 with 1 Axes>"
      ]
     },
     "metadata": {},
     "output_type": "display_data"
    }
   ],
   "source": [
    "plt.plot(xs, log_ys, '.')\n",
    "\n",
    "decorate(xlabel='x', ylabel='log10 y')"
   ]
  },
  {
   "cell_type": "markdown",
   "metadata": {},
   "source": [
    "Here's what we get if we fit a model to the data."
   ]
  },
  {
   "cell_type": "code",
   "execution_count": 24,
   "metadata": {},
   "outputs": [
    {
     "data": {
      "text/plain": [
       "(1.072059757295944, 0.013315487289434717)"
      ]
     },
     "execution_count": 24,
     "metadata": {},
     "output_type": "execute_result"
    }
   ],
   "source": [
    "ols_model_log = sm.OLS(log_ys, X)\n",
    "ols_results_log = ols_model_log.fit()\n",
    "\n",
    "intercept, slope = ols_results_log.params\n",
    "intercept, slope"
   ]
  },
  {
   "cell_type": "markdown",
   "metadata": {},
   "source": [
    "And here's the fitted line."
   ]
  },
  {
   "cell_type": "code",
   "execution_count": 25,
   "metadata": {},
   "outputs": [
    {
     "data": {
      "image/png": "[encoded data removed]",
      "text/plain": [
       "<Figure size 450x262.5 with 1 Axes>"
      ]
     },
     "metadata": {},
     "output_type": "display_data"
    }
   ],
   "source": [
    "log_fys = intercept + slope * xs\n",
    "\n",
    "plt.plot(xs, log_ys, '.')\n",
    "plt.plot(xs, log_fys)\n",
    "\n",
    "decorate(xlabel='x', ylabel='log10 y')"
   ]
  },
  {
   "cell_type": "markdown",
   "metadata": {},
   "source": [
    "If we plot the absolute values of the residuals, we can see that the log transform did not entirely remove the heteroskedasticity."
   ]
  },
  {
   "cell_type": "code",
   "execution_count": 26,
   "metadata": {},
   "outputs": [
    {
     "data": {
      "image/png": "[encoded data removed]",
      "text/plain": [
       "<Figure size 450x262.5 with 1 Axes>"
      ]
     },
     "metadata": {},
     "output_type": "display_data"
    }
   ],
   "source": [
    "log_resid = log_ys - log_fys\n",
    "plt.plot(xs, np.abs(log_resid), '.')\n",
    "\n",
    "decorate(xlabel='x', ylabel='absolute residual on log y')"
   ]
  },
  {
   "cell_type": "markdown",
   "metadata": {},
   "source": [
    "Which we can confirm by running the tests again (which we should never do)."
   ]
  },
  {
   "cell_type": "code",
   "execution_count": 27,
   "metadata": {},
   "outputs": [
    {
     "data": {
      "text/plain": [
       "0.002154782205265498"
      ]
     },
     "execution_count": 27,
     "metadata": {},
     "output_type": "execute_result"
    }
   ],
   "source": [
    "_, p_value, _, _ = het_breuschpagan(log_resid, ols_model_log.exog)\n",
    "p_value"
   ]
  },
  {
   "cell_type": "code",
   "execution_count": 28,
   "metadata": {},
   "outputs": [
    {
     "data": {
      "text/plain": [
       "0.006069762292696221"
      ]
     },
     "execution_count": 28,
     "metadata": {},
     "output_type": "execute_result"
    }
   ],
   "source": [
    "_, p_value, _, _ = het_white(log_resid, ols_model_log.exog)\n",
    "p_value"
   ]
  },
  {
   "cell_type": "markdown",
   "metadata": {},
   "source": [
    "The p-values are bigger, which suggests that the log transform mitigated the heteroskedasticity a little.\n",
    "But if the goal was to eliminate heteroskedasticity, the log transform didn't do it."
   ]
  },
  {
   "cell_type": "markdown",
   "metadata": {},
   "source": [
    "## Discussion\n",
    "\n",
    "To summarize:\n",
    "\n",
    "* Heteroskedasticity is common in real datasets -- if you test for it, you will often find it, provided you have enough data.\n",
    "\n",
    "* Either way, testing does not answer the question you really care about, which is whether the heteroskedasticity is extreme enough to be a problem.\n",
    "\n",
    "* Plain old linear regression is robust to heteroskedasticity, so unless it is really extreme, it is probably not a problem.\n",
    "\n",
    "* Even in the worst case, heteroskedasticity does not bias the estimated parameters -- it only affects the standard errors -- and we don't need standard errors to be particularly precise anyway.\n",
    "\n",
    "* Although a log transform can sometimes mitigate heteroskedasticity, it doesn't always succeed, and even if it does, it's usually not necessary.\n",
    "\n",
    "* A log transform changes the meaning of the regression model in ways that might not make sense in context.\n",
    "\n",
    "So, use a log transform if it makes sense in context, not to mitigate a problem that's not much of a problem in the first place."
   ]
  },
  {
   "cell_type": "markdown",
   "metadata": {},
   "source": [
    "[*Data Q&A: Answering the real questions with Python*](https://allendowney.github.io/DataQnA/index.html)\n",
    "\n",
    "Copyright 2024 [Allen B. Downey](https://allendowney.com)\n",
    "\n",
    "License: [Creative Commons Attribution-NonCommercial-ShareAlike 4.0 International](https://creativecommons.org/licenses/by-nc-sa/4.0/)"
   ]
  },
  {
   "cell_type": "code",
   "execution_count": null,
   "metadata": {},
   "outputs": [],
   "source": []
  }
 ],
 "metadata": {
  "celltoolbar": "Tags",
  "kernelspec": {
   "display_name": "Python 3 (ipykernel)",
   "language": "python",
   "name": "python3"
  },
  "language_info": {
   "codemirror_mode": {
    "name": "ipython",
    "version": 3
   },
   "file_extension": ".py",
   "mimetype": "text/x-python",
   "name": "python",
   "nbconvert_exporter": "python",
   "pygments_lexer": "ipython3",
   "version": "3.10.14"
  }
 },
 "nbformat": 4,
 "nbformat_minor": 2
}
