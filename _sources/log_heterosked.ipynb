{
 "cells": [
  {
   "cell_type": "markdown",
   "metadata": {},
   "source": [
    "# Logarithms and heteroskedasticity\n",
    "\n",
    "Here's a [question from the Reddit statistics forum](https://www.reddit.com/r/statistics/comments/1czsban/eq_is_it_correct_to_use_logarithmic/).\n",
    "\n",
    "> Is it correct to use logarithmic transformation in order to mitigate heteroskedasticity? \n",
    ">\n",
    "> Hello everyone. For my studies I gathered data on certain preferences across a group of people. I am trying to figure out if I can pinpoint preferences to factors such as gender in this case.\n",
    ">\n",
    "> I used mixed ANOVA analysis with good success however one of my hypothesis came up with heteroskedasticity when doing Levene's test. I breaking my head all day on how to solve this. I've now used logarithmic transformation to all 3 test results and run another Levene's. When using the media value the test now results [in] homoskedasticity, however interaction is no longer significant?\n",
    ">\n",
    "> Is this the correct way to deal with this problem or is there something I am missing? Thanks in advance to everyone taking their time to help.\n",
    "\n",
    "Although the question is about ANOVA, I'm going to reframe it in terms of regression, for two reasons:\n",
    "\n",
    "* Discussion of heteroskedasticity is clearer in the context of regression.\n",
    "\n",
    "* For many problems, a regression model is better than ANOVA anyway."
   ]
  },
  {
   "cell_type": "markdown",
   "metadata": {
    "tags": [
     "remove-print"
    ]
   },
   "source": [
    "[Click here to run this notebook on Colab](https://colab.research.google.com/github/AllenDowney/DataQnA/blob/main/nb/log_heterosked.ipynb)."
   ]
  },
  {
   "cell_type": "markdown",
   "metadata": {
    "tags": [
     "remove-print"
    ]
   },
   "source": [
    "I'll download a utilities module with some of my frequently-used functions, and then import the usual libraries."
   ]
  },
  {
   "cell_type": "code",
   "execution_count": 1,
   "metadata": {
    "tags": [
     "remove-print"
    ]
   },
   "outputs": [],
   "source": [
    "from os.path import basename, exists\n",
    "\n",
    "def download(url):\n",
    "    filename = basename(url)\n",
    "    if not exists(filename):\n",
    "        from urllib.request import urlretrieve\n",
    "\n",
    "        local, _ = urlretrieve(url, filename)\n",
    "        print(\"Downloaded \" + str(local))\n",
    "    return filename\n",
    "\n",
    "download('https://github.com/AllenDowney/DataQnA/raw/main/nb/utils.py')\n",
    "\n",
    "import numpy as np\n",
    "import matplotlib.pyplot as plt\n",
    "import pandas as pd\n",
    "import seaborn as sns\n",
    "\n",
    "from utils import decorate"
   ]
  },
  {
   "cell_type": "code",
   "execution_count": 2,
   "metadata": {
    "tags": [
     "hide-cell"
    ]
   },
   "outputs": [],
   "source": [
    "# install the empiricaldist library, if necessary\n",
    "\n",
    "try:\n",
    "    import empiricaldist\n",
    "except ImportError:\n",
    "    !pip install empiricaldist"
   ]
  },
  {
   "cell_type": "markdown",
   "metadata": {},
   "source": [
    "## What is heteroskedasticity?\n",
    "\n",
    "Linear regression is based on a model of the data-generating process where the independent variable $y$ is the sum of\n",
    "\n",
    "* A linear function of $x$ with an unknown slope and intercept, and\n",
    "\n",
    "* Random values drawn from a Gaussian distribution with mean $\\mu=0$ and unknown standard deviation, $\\sigma$, that does not depend on $x$.\n",
    "\n",
    "So what happens if we violate these assumptions?\n",
    "\n",
    "* If $y$ is a non-linear function of $x$, regression finds the best linear fit to the data, which might not be very good.\n",
    "\n",
    "* If $\\mu$ is not zero and it does not depend on $x$, the estimate of the intercept will be biased.\n",
    "\n",
    "* If $\\mu$ is not zero and it *does* depend on $x$, the estimate of the slope will be biased, and probably the intercept, too.\n",
    "\n",
    "* If $\\sigma$ depends on $x$, the data-generating process is heteroskedastic. In general, heteroskedasticity doesn't bias the slope or the intercept, but it might bias the standard error of the estimated parameters.\n",
    "\n",
    "Right off the bat, we see one reason not to worry much about heteroskedasticity: it doesn't bias the estimated parameters of the model, only the standard errors.\n",
    "And we really don't need standard errors to be particularly precise.\n",
    "\n",
    "Now let's see a second reason not to worry much about heteroskedasticity: even very strong heteroskedasticity doesn't affect the standard errors by much.\n",
    "\n",
    "To demonstrate, I'll generate some data.\n",
    "First, we'll draw `xs` from a normal distribution."
   ]
  },
  {
   "cell_type": "code",
   "execution_count": 3,
   "metadata": {},
   "outputs": [],
   "source": [
    "np.random.seed(1)\n",
    "\n",
    "n = 200\n",
    "xs = np.random.normal(30, 1, size=n)\n",
    "xs.sort()"
   ]
  },
  {
   "cell_type": "markdown",
   "metadata": {},
   "source": [
    "If `sigma` is constant, the model is homoskedastic."
   ]
  },
  {
   "cell_type": "code",
   "execution_count": 4,
   "metadata": {},
   "outputs": [],
   "source": [
    "sigma = 3\n",
    "ys = xs + np.random.normal(0, sigma, size=n)"
   ]
  },
  {
   "cell_type": "markdown",
   "metadata": {},
   "source": [
    "To generate heteroskedastic data, I'll use `interpolate` to construct a function where `sigma` depends on `x`."
   ]
  },
  {
   "cell_type": "code",
   "execution_count": 5,
   "metadata": {},
   "outputs": [],
   "source": [
    "from scipy.interpolate import interp1d\n",
    "\n",
    "def interpolate(xs, sigma_seq):\n",
    "    return interp1d([xs.min(), xs.max()], sigma_seq)(xs)"
   ]
  },
  {
   "cell_type": "markdown",
   "metadata": {},
   "source": [
    "To generate strong heteroskedasticity, I'll vary sigma over a wide range."
   ]
  },
  {
   "cell_type": "code",
   "execution_count": 6,
   "metadata": {},
   "outputs": [
    {
     "data": {
      "text/plain": [
       "3.121259908869169"
      ]
     },
     "execution_count": 6,
     "metadata": {},
     "output_type": "execute_result"
    }
   ],
   "source": [
    "sigmas = interpolate(xs, [0.1, 6.0])\n",
    "np.mean(sigmas)"
   ]
  },
  {
   "cell_type": "markdown",
   "metadata": {},
   "source": [
    "Here's what `sigma` looks like as a function of `x`."
   ]
  },
  {
   "cell_type": "code",
   "execution_count": 7,
   "metadata": {},
   "outputs": [
    {
     "data": {
      "image/png": "[encoded data removed]",
      "text/plain": [
       "<Figure size 450x262.5 with 1 Axes>"
      ]
     },
     "metadata": {},
     "output_type": "display_data"
    }
   ],
   "source": [
    "plt.plot(xs, sigmas, '.')\n",
    "\n",
    "decorate(xlabel='x',\n",
    "         ylabel='sigma')"
   ]
  },
  {
   "cell_type": "markdown",
   "metadata": {},
   "source": [
    "Now we can generate `ys` with variable values of `sigma`."
   ]
  },
  {
   "cell_type": "code",
   "execution_count": 8,
   "metadata": {},
   "outputs": [],
   "source": [
    "ys = xs + np.random.normal(0, sigmas)"
   ]
  },
  {
   "cell_type": "markdown",
   "metadata": {},
   "source": [
    "If we make a scatter plot of the data, we see a cone shape that is indicative of heteroskedasticity."
   ]
  },
  {
   "cell_type": "code",
   "execution_count": 9,
   "metadata": {},
   "outputs": [
    {
     "data": {
      "image/png": "[encoded data removed]",
      "text/plain": [
       "<Figure size 450x262.5 with 1 Axes>"
      ]
     },
     "metadata": {},
     "output_type": "display_data"
    }
   ],
   "source": [
    "plt.plot(xs, ys, '.')\n",
    "\n",
    "decorate(xlabel='x', ylabel='y')"
   ]
  },
  {
   "cell_type": "markdown",
   "metadata": {},
   "source": [
    "Now let's fit a model to the data."
   ]
  },
  {
   "cell_type": "code",
   "execution_count": 10,
   "metadata": {},
   "outputs": [
    {
     "data": {
      "text/plain": [
       "(-11.87454515023267, 1.4066510948880229)"
      ]
     },
     "execution_count": 10,
     "metadata": {},
     "output_type": "execute_result"
    }
   ],
   "source": [
    "import statsmodels.api as sm\n",
    "\n",
    "X = sm.add_constant(xs)\n",
    "ols_model = sm.OLS(ys, X)\n",
    "ols_results = ols_model.fit()\n",
    "\n",
    "intercept, slope = ols_results.params\n",
    "intercept, slope"
   ]
  },
  {
   "cell_type": "markdown",
   "metadata": {},
   "source": [
    "Here's what the fitted line looks like."
   ]
  },
  {
   "cell_type": "code",
   "execution_count": 11,
   "metadata": {},
   "outputs": [
    {
     "data": {
      "image/png": "[encoded data removed]",
      "text/plain": [
       "<Figure size 450x262.5 with 1 Axes>"
      ]
     },
     "metadata": {},
     "output_type": "display_data"
    }
   ],
   "source": [
    "fys = intercept + slope * xs\n",
    "\n",
    "plt.plot(xs, ys, '.')\n",
    "plt.plot(xs, fys)\n",
    "\n",
    "decorate(xlabel='x', ylabel='y')"
   ]
  },
  {
   "cell_type": "markdown",
   "metadata": {},
   "source": [
    "If we plot the absolute values of the residuals, we can see the heteroskedasticity more clearly."
   ]
  },
  {
   "cell_type": "code",
   "execution_count": 12,
   "metadata": {},
   "outputs": [
    {
     "data": {
      "image/png": "[encoded data removed]",
      "text/plain": [
       "<Figure size 450x262.5 with 1 Axes>"
      ]
     },
     "metadata": {},
     "output_type": "display_data"
    }
   ],
   "source": [
    "resid = ys - fys\n",
    "plt.plot(fys, np.abs(resid), '.')\n",
    "\n",
    "decorate(xlabel='x', ylabel='absolute residual')"
   ]
  },
  {
   "cell_type": "markdown",
   "metadata": {},
   "source": [
    "## Testing for heteroskedasticity\n",
    "\n",
    "OP mentions using the Levene test for heteroskedasticity, which is used to test whether variability is different between groups.\n",
    "For continuous values of `x` and `y`, we can use the Breusch-Pagan Lagrange Multiplier test:"
   ]
  },
  {
   "cell_type": "code",
   "execution_count": 13,
   "metadata": {},
   "outputs": [
    {
     "data": {
      "text/plain": [
       "1.4891051930874875e-05"
      ]
     },
     "execution_count": 13,
     "metadata": {},
     "output_type": "execute_result"
    }
   ],
   "source": [
    "from statsmodels.stats.diagnostic import het_breuschpagan\n",
    "\n",
    "_, p_value, _, _ = het_breuschpagan(resid, ols_model.exog)\n",
    "p_value"
   ]
  },
  {
   "cell_type": "markdown",
   "metadata": {},
   "source": [
    "Or White’s Lagrange Multiplier test:"
   ]
  },
  {
   "cell_type": "code",
   "execution_count": 14,
   "metadata": {},
   "outputs": [
    {
     "data": {
      "text/plain": [
       "4.6485804310033655e-05"
      ]
     },
     "execution_count": 14,
     "metadata": {},
     "output_type": "execute_result"
    }
   ],
   "source": [
    "from statsmodels.stats.diagnostic import het_white\n",
    "\n",
    "_, p_value, _, _ = het_white(resid, ols_model.exog)\n",
    "p_value"
   ]
  },
  {
   "cell_type": "markdown",
   "metadata": {},
   "source": [
    "Both tests produce very small p-values, which means that if we generate a dataset by a homoskedastic process, there is almost no chance it would have as much heteroskedasticity as the dataset we generated.\n",
    "\n",
    "If you have never heard of either of these tests, don't panic -- neither had I under I looked them up for this example.\n",
    "And don't worry about remembering them, because you should never use them again.\n",
    "Like testing for normality, testing for heteroskedasticity is never useful.\n",
    "\n",
    "Why? Because in almost any real dataset, you will find some heteroskedasticity.\n",
    "So if you test for it, there are only two possible results:\n",
    "\n",
    "* If the heteroskedasticity is small and you don't have much data, you will fail to reject.\n",
    "\n",
    "* If the heteroskedasticity is large or you have a lot of data, you will reject.\n",
    "\n",
    "Either way, you learn nothing.\n",
    "And in particular, you don't learn the answer to the question you actually care about, which is whether the heteroskedasticity is so large that the effect on the standard errors is large enough that you care.\n",
    "\n",
    "And the answer to that questions is almost always no.\n",
    "\n",
    "\n"
   ]
  },
  {
   "cell_type": "markdown",
   "metadata": {},
   "source": [
    "## Should we care?\n",
    "\n",
    "In the example, I generated data with a very large heteroskedasticity. Let's see how much effect that has on the results.\n",
    "Here are the standard errors from the simple linear regression:"
   ]
  },
  {
   "cell_type": "code",
   "execution_count": 15,
   "metadata": {},
   "outputs": [
    {
     "data": {
      "text/plain": [
       "array([8.08328349, 0.26836539])"
      ]
     },
     "execution_count": 15,
     "metadata": {},
     "output_type": "execute_result"
    }
   ],
   "source": [
    "ols_results.bse"
   ]
  },
  {
   "cell_type": "markdown",
   "metadata": {},
   "source": [
    "Now, there are several ways to generate standard errors that are robust in the presence of heteroskedasticity.\n",
    "One is the Huber-White estimator, which we can compute like this:"
   ]
  },
  {
   "cell_type": "code",
   "execution_count": 16,
   "metadata": {},
   "outputs": [
    {
     "data": {
      "text/plain": [
       "array([8.76715672, 0.29588086])"
      ]
     },
     "execution_count": 16,
     "metadata": {},
     "output_type": "execute_result"
    }
   ],
   "source": [
    "robust_se = ols_results.get_robustcov_results(cov_type='HC3')\n",
    "robust_se.bse"
   ]
  },
  {
   "cell_type": "markdown",
   "metadata": {},
   "source": [
    "Another is to use Huber regression."
   ]
  },
  {
   "cell_type": "code",
   "execution_count": 17,
   "metadata": {},
   "outputs": [
    {
     "data": {
      "text/plain": [
       "array([7.58399745, 0.25178907])"
      ]
     },
     "execution_count": 17,
     "metadata": {},
     "output_type": "execute_result"
    }
   ],
   "source": [
    "huber_model = sm.RLM(ys, X, M=sm.robust.norms.HuberT())\n",
    "huber_results = huber_model.fit()\n",
    "huber_results.bse"
   ]
  },
  {
   "cell_type": "markdown",
   "metadata": {},
   "source": [
    "And yet another is to use quantile regression."
   ]
  },
  {
   "cell_type": "code",
   "execution_count": 18,
   "metadata": {},
   "outputs": [
    {
     "data": {
      "text/plain": [
       "array([9.64509135, 0.32021748])"
      ]
     },
     "execution_count": 18,
     "metadata": {},
     "output_type": "execute_result"
    }
   ],
   "source": [
    "quantile_model = sm.QuantReg(ys, X)\n",
    "quantile_results = quantile_model.fit(q=0.5)\n",
    "quantile_results.bse"
   ]
  },
  {
   "cell_type": "markdown",
   "metadata": {},
   "source": [
    "And one more option is a wild bootstrap."
   ]
  },
  {
   "cell_type": "code",
   "execution_count": 19,
   "metadata": {},
   "outputs": [],
   "source": [
    "from scipy.stats import linregress\n",
    "\n",
    "def wild_bootstrap():\n",
    "    resampled = fys + ols_results.resid * np.random.normal(0, 1, size=n)\n",
    "    res = linregress(xs, resampled)\n",
    "    return res.intercept, res.slope "
   ]
  },
  {
   "cell_type": "code",
   "execution_count": 20,
   "metadata": {},
   "outputs": [],
   "source": [
    "sample = [wild_bootstrap() for i in range(1001)] "
   ]
  },
  {
   "cell_type": "code",
   "execution_count": 21,
   "metadata": {},
   "outputs": [
    {
     "data": {
      "text/plain": [
       "array([8.69641028, 0.29320446])"
      ]
     },
     "execution_count": 21,
     "metadata": {},
     "output_type": "execute_result"
    }
   ],
   "source": [
    "bootstrap_bse = np.std(sample, axis=0)\n",
    "bootstrap_bse"
   ]
  },
  {
   "cell_type": "markdown",
   "metadata": {},
   "source": [
    "Let's put those results in a table."
   ]
  },
  {
   "cell_type": "code",
   "execution_count": 22,
   "metadata": {},
   "outputs": [
    {
     "data": {
      "text/html": [
       "<div>\n",
       "<style scoped>\n",
       "    .dataframe tbody tr th:only-of-type {\n",
       "        vertical-align: middle;\n",
       "    }\n",
       "\n",
       "    .dataframe tbody tr th {\n",
       "        vertical-align: top;\n",
       "    }\n",
       "\n",
       "    .dataframe thead th {\n",
       "        text-align: right;\n",
       "    }\n",
       "</style>\n",
       "<table border=\"1\" class=\"dataframe\">\n",
       "  <thead>\n",
       "    <tr style=\"text-align: right;\">\n",
       "      <th></th>\n",
       "      <th>SE(intercept)</th>\n",
       "      <th>SE(slope)</th>\n",
       "    </tr>\n",
       "  </thead>\n",
       "  <tbody>\n",
       "    <tr>\n",
       "      <th>Huber</th>\n",
       "      <td>7.583997</td>\n",
       "      <td>0.251789</td>\n",
       "    </tr>\n",
       "    <tr>\n",
       "      <th>OLS</th>\n",
       "      <td>8.083283</td>\n",
       "      <td>0.268365</td>\n",
       "    </tr>\n",
       "    <tr>\n",
       "      <th>bootstrap</th>\n",
       "      <td>8.696410</td>\n",
       "      <td>0.293204</td>\n",
       "    </tr>\n",
       "    <tr>\n",
       "      <th>robust SE</th>\n",
       "      <td>8.767157</td>\n",
       "      <td>0.295881</td>\n",
       "    </tr>\n",
       "    <tr>\n",
       "      <th>quantile</th>\n",
       "      <td>9.645091</td>\n",
       "      <td>0.320217</td>\n",
       "    </tr>\n",
       "  </tbody>\n",
       "</table>\n",
       "</div>"
      ],
      "text/plain": [
       "           SE(intercept)  SE(slope)\n",
       "Huber           7.583997   0.251789\n",
       "OLS             8.083283   0.268365\n",
       "bootstrap       8.696410   0.293204\n",
       "robust SE       8.767157   0.295881\n",
       "quantile        9.645091   0.320217"
      ]
     },
     "execution_count": 22,
     "metadata": {},
     "output_type": "execute_result"
    }
   ],
   "source": [
    "columns = ['SE(intercept)', 'SE(slope)']\n",
    "index = ['OLS', 'robust SE', 'Huber', 'quantile', 'bootstrap']\n",
    "data = [ols_results.bse, robust_se.bse, huber_results.bse, \n",
    "        quantile_results.bse, bootstrap_bse]\n",
    "df = pd.DataFrame(data, columns=columns, index=index)\n",
    "df.sort_values(by='SE(slope)')"
   ]
  },
  {
   "cell_type": "markdown",
   "metadata": {},
   "source": [
    "The standard errors we get from different methods are notably different, but the differences probably don't matter much.\n",
    "For practical purposes, we don't need standard errors to be particularly precise.\n",
    "In my opinion, you can forget about esoteric methods for dealing with heteroskedasticity. Just use ordinary least squares or bootstrap.\n",
    "\n",
    "Now let's address OP's headline question, \"Is it correct to use logarithmic transformation in order to mitigate heteroskedasticity?\""
   ]
  },
  {
   "cell_type": "markdown",
   "metadata": {},
   "source": [
    "## Log transform help?\n",
    "\n",
    "In some cases, a log transform can reduce or eliminate heteroskedasticity. However, there are several reasons this is not a good idea in general:\n",
    "\n",
    "* As we've seen, heteroskedasticity is not a big problem, so it usually doesn't require any mitigation.\n",
    "\n",
    "* Taking a log transform doesn't always help.\n",
    "\n",
    "* Taking a log transform of one or more variables in a regression model changes the meaning of the model -- it hypothesizes a different relationship between the variables that might not  make sense in context.\n",
    "\n",
    "To demonstrate the second point, let's see what happens if we apply a log transform to the dependent variable:"
   ]
  },
  {
   "cell_type": "code",
   "execution_count": 23,
   "metadata": {},
   "outputs": [],
   "source": [
    "lys = np.log10(ys)"
   ]
  },
  {
   "cell_type": "markdown",
   "metadata": {},
   "source": [
    "Here's what the scatter plot looks like after the transform."
   ]
  },
  {
   "cell_type": "code",
   "execution_count": 24,
   "metadata": {},
   "outputs": [
    {
     "data": {
      "image/png": "[encoded data removed]",
      "text/plain": [
       "<Figure size 450x262.5 with 1 Axes>"
      ]
     },
     "metadata": {},
     "output_type": "display_data"
    }
   ],
   "source": [
    "plt.plot(xs, lys, '.')\n",
    "\n",
    "decorate(xlabel='x', ylabel='log10 y')"
   ]
  },
  {
   "cell_type": "markdown",
   "metadata": {},
   "source": [
    "Here's what we get if we fit a model to the data."
   ]
  },
  {
   "cell_type": "code",
   "execution_count": 25,
   "metadata": {},
   "outputs": [
    {
     "data": {
      "text/plain": [
       "(0.9375401725340174, 0.018046769921635564)"
      ]
     },
     "execution_count": 25,
     "metadata": {},
     "output_type": "execute_result"
    }
   ],
   "source": [
    "X = sm.add_constant(xs)\n",
    "ols_model = sm.OLS(lys, X)\n",
    "ols_results = ols_model.fit()\n",
    "\n",
    "intercept, slope = ols_results.params\n",
    "intercept, slope"
   ]
  },
  {
   "cell_type": "markdown",
   "metadata": {},
   "source": [
    "And here's the fitted line."
   ]
  },
  {
   "cell_type": "code",
   "execution_count": 26,
   "metadata": {},
   "outputs": [
    {
     "data": {
      "image/png": "[encoded data removed]",
      "text/plain": [
       "<Figure size 450x262.5 with 1 Axes>"
      ]
     },
     "metadata": {},
     "output_type": "display_data"
    }
   ],
   "source": [
    "fys = intercept + slope * xs\n",
    "\n",
    "plt.plot(xs, lys, '.')\n",
    "plt.plot(xs, fys)\n",
    "\n",
    "decorate(xlabel='x', ylabel='log10 y')"
   ]
  },
  {
   "cell_type": "markdown",
   "metadata": {},
   "source": [
    "If we plot the absolute values of the residuals, we can see that the log transform did not entirely remove the heteroskedasticity."
   ]
  },
  {
   "cell_type": "code",
   "execution_count": 27,
   "metadata": {},
   "outputs": [
    {
     "data": {
      "image/png": "[encoded data removed]",
      "text/plain": [
       "<Figure size 450x262.5 with 1 Axes>"
      ]
     },
     "metadata": {},
     "output_type": "display_data"
    }
   ],
   "source": [
    "resid = lys - fys\n",
    "plt.plot(fys, np.abs(resid), '.')\n",
    "\n",
    "decorate(xlabel='x', ylabel='absolute residual')"
   ]
  },
  {
   "cell_type": "markdown",
   "metadata": {},
   "source": [
    "Which we can confirm by running the tests again (which we should never do)."
   ]
  },
  {
   "cell_type": "code",
   "execution_count": 28,
   "metadata": {},
   "outputs": [
    {
     "data": {
      "text/plain": [
       "5.30212259044243e-05"
      ]
     },
     "execution_count": 28,
     "metadata": {},
     "output_type": "execute_result"
    }
   ],
   "source": [
    "_, p_value, _, _ = het_breuschpagan(resid, ols_model.exog)\n",
    "p_value"
   ]
  },
  {
   "cell_type": "code",
   "execution_count": 29,
   "metadata": {},
   "outputs": [
    {
     "data": {
      "text/plain": [
       "0.00019397656777266927"
      ]
     },
     "execution_count": 29,
     "metadata": {},
     "output_type": "execute_result"
    }
   ],
   "source": [
    "_, p_value, _, _ = het_white(resid, ols_model.exog)\n",
    "p_value"
   ]
  },
  {
   "cell_type": "markdown",
   "metadata": {},
   "source": [
    "The p-values are bigger, which suggests that the log transform mitigated the heteroskedasticity a little.\n",
    "But if the goal was to eliminate heteroskedasticity, the log transform didn't do it."
   ]
  },
  {
   "cell_type": "markdown",
   "metadata": {},
   "source": [
    "## Discussion\n",
    "\n",
    "To summarize:\n",
    "\n",
    "* Heteroskedasticity is common in real datasets -- if you test for it, you will often find it, provided you have enough data.\n",
    "\n",
    "* Either way, testing for heteroskedasticity does not answer the question you really care about, which is whether the heteroskedasticity is severe enough to be a problem.\n",
    "\n",
    "* Plain old linear regression is quite robust to heteroskedasticity, so unless it is really extreme, it is probably not a problem.\n",
    "\n",
    "* Even in the worst case heteroskedasticity does not bias the estimated parameters -- it only biases the standard errors. And we don't need standard errors to be particularly precise anyway.\n",
    "\n",
    "* Although a log transform can sometimes mitigate heteroskedasticity, it doesn't always succeed, and even if it does, it's usually not necessary.\n",
    "\n",
    "* What a log transform *does* do is change the meaning of the regression model in ways that might not make sense in context.\n",
    "\n",
    "So, use a log transform if it makes sense in context, not to mitigate a problem that's not much of a problem in the first place."
   ]
  },
  {
   "cell_type": "markdown",
   "metadata": {},
   "source": [
    "[*Data Q&A: Answering the real questions with Python*](https://allendowney.github.io/DataQnA/index.html)\n",
    "\n",
    "Copyright 2024 [Allen B. Downey](https://allendowney.com)\n",
    "\n",
    "License: [Creative Commons Attribution-NonCommercial-ShareAlike 4.0 International](https://creativecommons.org/licenses/by-nc-sa/4.0/)"
   ]
  },
  {
   "cell_type": "code",
   "execution_count": null,
   "metadata": {},
   "outputs": [],
   "source": []
  }
 ],
 "metadata": {
  "celltoolbar": "Tags",
  "kernelspec": {
   "display_name": "Python 3 (ipykernel)",
   "language": "python",
   "name": "python3"
  },
  "language_info": {
   "codemirror_mode": {
    "name": "ipython",
    "version": 3
   },
   "file_extension": ".py",
   "mimetype": "text/x-python",
   "name": "python",
   "nbconvert_exporter": "python",
   "pygments_lexer": "ipython3",
   "version": "3.10.14"
  }
 },
 "nbformat": 4,
 "nbformat_minor": 2
}
