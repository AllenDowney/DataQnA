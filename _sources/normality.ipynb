{
 "cells": [
  {
   "cell_type": "markdown",
   "metadata": {},
   "source": [
    "# Title\n",
    "\n",
    "Here's a [question from the Reddit statistics forum](https://www.reddit.com/r/AskStatistics/comments/1ddgpqr/comment/l860puz/?context=3).\n",
    "\n",
    "> \n",
    "\n",
    "\n",
    "\n",
    "Intro\n",
    "\n",
    "Update the link..."
   ]
  },
  {
   "cell_type": "markdown",
   "metadata": {
    "tags": [
     "remove-print"
    ]
   },
   "source": [
    "[Click here to run this notebook on Colab](https://colab.research.google.com/github/AllenDowney/DataQnA/blob/main/nb/normality.ipynb)."
   ]
  },
  {
   "cell_type": "markdown",
   "metadata": {
    "tags": [
     "remove-print"
    ]
   },
   "source": [
    "I'll download a utilities module with some of my frequently-used functions, and then import the usual libraries."
   ]
  },
  {
   "cell_type": "code",
   "execution_count": 1,
   "metadata": {
    "tags": [
     "remove-print",
     "hide-cell"
    ]
   },
   "outputs": [],
   "source": [
    "from os.path import basename, exists\n",
    "\n",
    "def download(url):\n",
    "    filename = basename(url)\n",
    "    if not exists(filename):\n",
    "        from urllib.request import urlretrieve\n",
    "\n",
    "        local, _ = urlretrieve(url, filename)\n",
    "        print(\"Downloaded \" + str(local))\n",
    "    return filename\n",
    "\n",
    "download('https://github.com/AllenDowney/DataQnA/raw/main/nb/utils.py')\n",
    "\n",
    "import numpy as np\n",
    "import matplotlib.pyplot as plt\n",
    "import pandas as pd\n",
    "import seaborn as sns\n",
    "\n",
    "from utils import decorate"
   ]
  },
  {
   "cell_type": "code",
   "execution_count": 2,
   "metadata": {
    "tags": [
     "hide-cell",
     "remove-print"
    ]
   },
   "outputs": [],
   "source": [
    "# install the empiricaldist library, if necessary\n",
    "\n",
    "try:\n",
    "    import empiricaldist\n",
    "except ImportError:\n",
    "    !pip install empiricaldist"
   ]
  },
  {
   "cell_type": "markdown",
   "metadata": {},
   "source": [
    "## Answer"
   ]
  },
  {
   "cell_type": "code",
   "execution_count": 3,
   "metadata": {},
   "outputs": [],
   "source": [
    "from scipy.stats import lognorm\n",
    "\n",
    "def make_lognormal(m, s, loc=0):\n",
    "    scale = np.exp(m)\n",
    "    dist = lognorm(s=s, loc=loc, scale=scale)\n",
    "    return dist"
   ]
  },
  {
   "cell_type": "code",
   "execution_count": 4,
   "metadata": {},
   "outputs": [
    {
     "data": {
      "text/plain": [
       "(2.731907272825927, 0.2738751291058153)"
      ]
     },
     "execution_count": 4,
     "metadata": {},
     "output_type": "execute_result"
    }
   ],
   "source": [
    "dist1 = make_lognormal(1, 0.1)\n",
    "dist1.mean(), dist1.std()"
   ]
  },
  {
   "cell_type": "code",
   "execution_count": 5,
   "metadata": {},
   "outputs": [],
   "source": [
    "np.random.seed(17)\n",
    "\n",
    "n = 1000\n",
    "group1 = dist1.rvs(n)"
   ]
  },
  {
   "cell_type": "code",
   "execution_count": 6,
   "metadata": {},
   "outputs": [],
   "source": [
    "from scipy.stats import norm\n",
    "from empiricaldist import Cdf\n",
    "\n",
    "def plot_normal(data, low, high, **options):\n",
    "    mean = np.mean(data)\n",
    "    std = np.std(data)\n",
    "\n",
    "    xs = np.linspace(low, high)\n",
    "    ps = norm(mean, std).cdf(xs)\n",
    "\n",
    "    plt.plot(xs, ps, color='gray', alpha=0.5)\n",
    "    Cdf.from_seq(data).plot(**options)\n",
    "    decorate(xlabel='x', ylabel='Density')"
   ]
  },
  {
   "cell_type": "code",
   "execution_count": 7,
   "metadata": {},
   "outputs": [
    {
     "data": {
      "image/png": "[encoded data removed]",
      "text/plain": [
       "<Figure size 450x262.5 with 1 Axes>"
      ]
     },
     "metadata": {},
     "output_type": "display_data"
    }
   ],
   "source": [
    "low, high = np.min(group1), np.max(group1)\n",
    "plot_normal(group1, low, high, label='group1')"
   ]
  },
  {
   "cell_type": "code",
   "execution_count": 8,
   "metadata": {},
   "outputs": [
    {
     "data": {
      "text/plain": [
       "(4.4816890703380645, 5.874743663340262)"
      ]
     },
     "execution_count": 8,
     "metadata": {},
     "output_type": "execute_result"
    }
   ],
   "source": [
    "dist2 = make_lognormal(1, 1)\n",
    "dist2.mean(), dist2.std()"
   ]
  },
  {
   "cell_type": "code",
   "execution_count": 9,
   "metadata": {},
   "outputs": [],
   "source": [
    "np.random.seed(17)\n",
    "\n",
    "n = 1000\n",
    "group2 = dist2.rvs(n)"
   ]
  },
  {
   "cell_type": "code",
   "execution_count": 10,
   "metadata": {},
   "outputs": [
    {
     "data": {
      "image/png": "[encoded data removed]",
      "text/plain": [
       "<Figure size 450x262.5 with 1 Axes>"
      ]
     },
     "metadata": {},
     "output_type": "display_data"
    }
   ],
   "source": [
    "low, high = np.min(group2), np.max(group2)\n",
    "plot_normal(group2, -10, high, label='group2')"
   ]
  },
  {
   "cell_type": "code",
   "execution_count": 11,
   "metadata": {},
   "outputs": [],
   "source": [
    "from scipy.stats import kstest\n",
    "\n",
    "def kswrapper(data):\n",
    "    return kstest(data, 'norm', args=(np.mean(data), np.std(data)))"
   ]
  },
  {
   "cell_type": "code",
   "execution_count": 14,
   "metadata": {},
   "outputs": [],
   "source": [
    "from scipy.stats import shapiro\n",
    "from scipy.stats import anderson\n",
    "\n",
    "def run_tests(data):\n",
    "    _, p_value_shapiro = shapiro(data)\n",
    "    \n",
    "    _, p_value_ks = kswrapper(data)\n",
    "\n",
    "    res = anderson(data, dist='norm')\n",
    "    p_values = pd.Series(res.critical_values, res.significance_level)\n",
    "    reject = res.statistic > p_values[5]\n",
    "    \n",
    "    return p_value_shapiro, p_value_ks, reject"
   ]
  },
  {
   "cell_type": "code",
   "execution_count": 15,
   "metadata": {},
   "outputs": [
    {
     "data": {
      "text/plain": [
       "(0.0009716294788435253, 0.632227963227574, False)"
      ]
     },
     "execution_count": 15,
     "metadata": {},
     "output_type": "execute_result"
    }
   ],
   "source": [
    "run_tests(group1)"
   ]
  },
  {
   "cell_type": "code",
   "execution_count": 16,
   "metadata": {},
   "outputs": [
    {
     "data": {
      "text/plain": [
       "(2.2562386742346162e-46, 3.673585212945718e-56, True)"
      ]
     },
     "execution_count": 16,
     "metadata": {},
     "output_type": "execute_result"
    }
   ],
   "source": [
    "run_tests(group2)"
   ]
  },
  {
   "cell_type": "code",
   "execution_count": 17,
   "metadata": {},
   "outputs": [],
   "source": [
    "columns = ['Shapiro-Wilk', 'Kolmogorov-Smirnov', 'Anderson-Darling']\n",
    "\n",
    "def run_sizes(ns, s):\n",
    "    dist = make_lognormal(1, s)\n",
    "\n",
    "    res = []\n",
    "    for n in ns:\n",
    "        data = dist.rvs(n)\n",
    "        res.append(run_tests(data))\n",
    "\n",
    "    results = pd.DataFrame(res, columns=columns)\n",
    "    results.index = ns\n",
    "    return results"
   ]
  },
  {
   "cell_type": "code",
   "execution_count": 18,
   "metadata": {},
   "outputs": [
    {
     "data": {
      "text/html": [
       "<div>\n",
       "<style scoped>\n",
       "    .dataframe tbody tr th:only-of-type {\n",
       "        vertical-align: middle;\n",
       "    }\n",
       "\n",
       "    .dataframe tbody tr th {\n",
       "        vertical-align: top;\n",
       "    }\n",
       "\n",
       "    .dataframe thead th {\n",
       "        text-align: right;\n",
       "    }\n",
       "</style>\n",
       "<table border=\"1\" class=\"dataframe\">\n",
       "  <thead>\n",
       "    <tr style=\"text-align: right;\">\n",
       "      <th></th>\n",
       "      <th>Shapiro-Wilk</th>\n",
       "      <th>Kolmogorov-Smirnov</th>\n",
       "      <th>Anderson-Darling</th>\n",
       "    </tr>\n",
       "  </thead>\n",
       "  <tbody>\n",
       "    <tr>\n",
       "      <th>10</th>\n",
       "      <td>9.735041e-01</td>\n",
       "      <td>0.980859</td>\n",
       "      <td>False</td>\n",
       "    </tr>\n",
       "    <tr>\n",
       "      <th>60</th>\n",
       "      <td>1.338847e-02</td>\n",
       "      <td>0.817493</td>\n",
       "      <td>False</td>\n",
       "    </tr>\n",
       "    <tr>\n",
       "      <th>110</th>\n",
       "      <td>4.208248e-01</td>\n",
       "      <td>0.904419</td>\n",
       "      <td>False</td>\n",
       "    </tr>\n",
       "    <tr>\n",
       "      <th>160</th>\n",
       "      <td>2.215651e-01</td>\n",
       "      <td>0.756128</td>\n",
       "      <td>False</td>\n",
       "    </tr>\n",
       "    <tr>\n",
       "      <th>210</th>\n",
       "      <td>1.021039e-01</td>\n",
       "      <td>0.806706</td>\n",
       "      <td>False</td>\n",
       "    </tr>\n",
       "    <tr>\n",
       "      <th>260</th>\n",
       "      <td>1.201588e-01</td>\n",
       "      <td>0.849872</td>\n",
       "      <td>False</td>\n",
       "    </tr>\n",
       "    <tr>\n",
       "      <th>310</th>\n",
       "      <td>2.295296e-01</td>\n",
       "      <td>0.707184</td>\n",
       "      <td>False</td>\n",
       "    </tr>\n",
       "    <tr>\n",
       "      <th>360</th>\n",
       "      <td>6.875946e-03</td>\n",
       "      <td>0.253389</td>\n",
       "      <td>True</td>\n",
       "    </tr>\n",
       "    <tr>\n",
       "      <th>410</th>\n",
       "      <td>7.821671e-02</td>\n",
       "      <td>0.436136</td>\n",
       "      <td>True</td>\n",
       "    </tr>\n",
       "    <tr>\n",
       "      <th>460</th>\n",
       "      <td>6.451423e-01</td>\n",
       "      <td>0.626205</td>\n",
       "      <td>False</td>\n",
       "    </tr>\n",
       "    <tr>\n",
       "      <th>510</th>\n",
       "      <td>6.222307e-02</td>\n",
       "      <td>0.739557</td>\n",
       "      <td>False</td>\n",
       "    </tr>\n",
       "    <tr>\n",
       "      <th>560</th>\n",
       "      <td>1.654044e-02</td>\n",
       "      <td>0.371316</td>\n",
       "      <td>True</td>\n",
       "    </tr>\n",
       "    <tr>\n",
       "      <th>610</th>\n",
       "      <td>1.419631e-02</td>\n",
       "      <td>0.674068</td>\n",
       "      <td>False</td>\n",
       "    </tr>\n",
       "    <tr>\n",
       "      <th>660</th>\n",
       "      <td>2.093777e-03</td>\n",
       "      <td>0.843070</td>\n",
       "      <td>False</td>\n",
       "    </tr>\n",
       "    <tr>\n",
       "      <th>710</th>\n",
       "      <td>1.928823e-04</td>\n",
       "      <td>0.133271</td>\n",
       "      <td>True</td>\n",
       "    </tr>\n",
       "    <tr>\n",
       "      <th>760</th>\n",
       "      <td>3.337453e-04</td>\n",
       "      <td>0.150011</td>\n",
       "      <td>True</td>\n",
       "    </tr>\n",
       "    <tr>\n",
       "      <th>810</th>\n",
       "      <td>8.637902e-06</td>\n",
       "      <td>0.089723</td>\n",
       "      <td>True</td>\n",
       "    </tr>\n",
       "    <tr>\n",
       "      <th>860</th>\n",
       "      <td>8.350121e-05</td>\n",
       "      <td>0.174306</td>\n",
       "      <td>True</td>\n",
       "    </tr>\n",
       "    <tr>\n",
       "      <th>910</th>\n",
       "      <td>7.256004e-03</td>\n",
       "      <td>0.192369</td>\n",
       "      <td>True</td>\n",
       "    </tr>\n",
       "    <tr>\n",
       "      <th>960</th>\n",
       "      <td>2.210099e-04</td>\n",
       "      <td>0.128570</td>\n",
       "      <td>True</td>\n",
       "    </tr>\n",
       "    <tr>\n",
       "      <th>1010</th>\n",
       "      <td>4.126888e-06</td>\n",
       "      <td>0.078906</td>\n",
       "      <td>True</td>\n",
       "    </tr>\n",
       "    <tr>\n",
       "      <th>1060</th>\n",
       "      <td>9.523878e-04</td>\n",
       "      <td>0.137043</td>\n",
       "      <td>True</td>\n",
       "    </tr>\n",
       "    <tr>\n",
       "      <th>1110</th>\n",
       "      <td>8.249988e-03</td>\n",
       "      <td>0.409996</td>\n",
       "      <td>False</td>\n",
       "    </tr>\n",
       "    <tr>\n",
       "      <th>1160</th>\n",
       "      <td>1.288096e-06</td>\n",
       "      <td>0.213095</td>\n",
       "      <td>True</td>\n",
       "    </tr>\n",
       "    <tr>\n",
       "      <th>1210</th>\n",
       "      <td>2.069976e-07</td>\n",
       "      <td>0.075617</td>\n",
       "      <td>True</td>\n",
       "    </tr>\n",
       "    <tr>\n",
       "      <th>1260</th>\n",
       "      <td>1.337086e-04</td>\n",
       "      <td>0.408841</td>\n",
       "      <td>True</td>\n",
       "    </tr>\n",
       "    <tr>\n",
       "      <th>1310</th>\n",
       "      <td>3.153400e-04</td>\n",
       "      <td>0.499335</td>\n",
       "      <td>True</td>\n",
       "    </tr>\n",
       "    <tr>\n",
       "      <th>1360</th>\n",
       "      <td>1.318978e-05</td>\n",
       "      <td>0.414819</td>\n",
       "      <td>True</td>\n",
       "    </tr>\n",
       "    <tr>\n",
       "      <th>1410</th>\n",
       "      <td>3.085344e-03</td>\n",
       "      <td>0.225777</td>\n",
       "      <td>True</td>\n",
       "    </tr>\n",
       "    <tr>\n",
       "      <th>1460</th>\n",
       "      <td>3.902974e-07</td>\n",
       "      <td>0.179849</td>\n",
       "      <td>True</td>\n",
       "    </tr>\n",
       "    <tr>\n",
       "      <th>1510</th>\n",
       "      <td>8.986386e-06</td>\n",
       "      <td>0.322980</td>\n",
       "      <td>True</td>\n",
       "    </tr>\n",
       "    <tr>\n",
       "      <th>1560</th>\n",
       "      <td>1.178246e-06</td>\n",
       "      <td>0.212780</td>\n",
       "      <td>True</td>\n",
       "    </tr>\n",
       "    <tr>\n",
       "      <th>1610</th>\n",
       "      <td>4.342032e-05</td>\n",
       "      <td>0.058797</td>\n",
       "      <td>True</td>\n",
       "    </tr>\n",
       "    <tr>\n",
       "      <th>1660</th>\n",
       "      <td>2.361874e-09</td>\n",
       "      <td>0.030803</td>\n",
       "      <td>True</td>\n",
       "    </tr>\n",
       "    <tr>\n",
       "      <th>1710</th>\n",
       "      <td>1.283317e-03</td>\n",
       "      <td>0.621201</td>\n",
       "      <td>False</td>\n",
       "    </tr>\n",
       "    <tr>\n",
       "      <th>1760</th>\n",
       "      <td>5.160144e-06</td>\n",
       "      <td>0.453989</td>\n",
       "      <td>True</td>\n",
       "    </tr>\n",
       "    <tr>\n",
       "      <th>1810</th>\n",
       "      <td>5.651645e-08</td>\n",
       "      <td>0.232472</td>\n",
       "      <td>True</td>\n",
       "    </tr>\n",
       "    <tr>\n",
       "      <th>1860</th>\n",
       "      <td>3.163815e-05</td>\n",
       "      <td>0.141275</td>\n",
       "      <td>True</td>\n",
       "    </tr>\n",
       "    <tr>\n",
       "      <th>1910</th>\n",
       "      <td>8.254768e-07</td>\n",
       "      <td>0.115383</td>\n",
       "      <td>True</td>\n",
       "    </tr>\n",
       "    <tr>\n",
       "      <th>1960</th>\n",
       "      <td>1.674197e-06</td>\n",
       "      <td>0.086240</td>\n",
       "      <td>True</td>\n",
       "    </tr>\n",
       "    <tr>\n",
       "      <th>2010</th>\n",
       "      <td>2.588669e-06</td>\n",
       "      <td>0.014900</td>\n",
       "      <td>True</td>\n",
       "    </tr>\n",
       "    <tr>\n",
       "      <th>2060</th>\n",
       "      <td>8.056622e-04</td>\n",
       "      <td>0.452747</td>\n",
       "      <td>True</td>\n",
       "    </tr>\n",
       "    <tr>\n",
       "      <th>2110</th>\n",
       "      <td>3.454831e-09</td>\n",
       "      <td>0.008638</td>\n",
       "      <td>True</td>\n",
       "    </tr>\n",
       "    <tr>\n",
       "      <th>2160</th>\n",
       "      <td>3.752099e-03</td>\n",
       "      <td>0.275239</td>\n",
       "      <td>True</td>\n",
       "    </tr>\n",
       "    <tr>\n",
       "      <th>2210</th>\n",
       "      <td>9.442803e-09</td>\n",
       "      <td>0.084694</td>\n",
       "      <td>True</td>\n",
       "    </tr>\n",
       "    <tr>\n",
       "      <th>2260</th>\n",
       "      <td>8.253297e-08</td>\n",
       "      <td>0.009635</td>\n",
       "      <td>True</td>\n",
       "    </tr>\n",
       "    <tr>\n",
       "      <th>2310</th>\n",
       "      <td>8.266343e-07</td>\n",
       "      <td>0.111320</td>\n",
       "      <td>True</td>\n",
       "    </tr>\n",
       "    <tr>\n",
       "      <th>2360</th>\n",
       "      <td>1.020752e-08</td>\n",
       "      <td>0.053131</td>\n",
       "      <td>True</td>\n",
       "    </tr>\n",
       "    <tr>\n",
       "      <th>2410</th>\n",
       "      <td>1.208406e-07</td>\n",
       "      <td>0.044329</td>\n",
       "      <td>True</td>\n",
       "    </tr>\n",
       "    <tr>\n",
       "      <th>2460</th>\n",
       "      <td>2.346182e-09</td>\n",
       "      <td>0.034077</td>\n",
       "      <td>True</td>\n",
       "    </tr>\n",
       "    <tr>\n",
       "      <th>2510</th>\n",
       "      <td>3.488955e-11</td>\n",
       "      <td>0.017444</td>\n",
       "      <td>True</td>\n",
       "    </tr>\n",
       "    <tr>\n",
       "      <th>2560</th>\n",
       "      <td>9.085228e-07</td>\n",
       "      <td>0.350384</td>\n",
       "      <td>True</td>\n",
       "    </tr>\n",
       "    <tr>\n",
       "      <th>2610</th>\n",
       "      <td>7.067931e-08</td>\n",
       "      <td>0.093833</td>\n",
       "      <td>True</td>\n",
       "    </tr>\n",
       "    <tr>\n",
       "      <th>2660</th>\n",
       "      <td>4.786894e-05</td>\n",
       "      <td>0.186244</td>\n",
       "      <td>True</td>\n",
       "    </tr>\n",
       "    <tr>\n",
       "      <th>2710</th>\n",
       "      <td>8.589409e-10</td>\n",
       "      <td>0.060229</td>\n",
       "      <td>True</td>\n",
       "    </tr>\n",
       "    <tr>\n",
       "      <th>2760</th>\n",
       "      <td>8.725006e-12</td>\n",
       "      <td>0.062016</td>\n",
       "      <td>True</td>\n",
       "    </tr>\n",
       "    <tr>\n",
       "      <th>2810</th>\n",
       "      <td>5.839401e-08</td>\n",
       "      <td>0.130715</td>\n",
       "      <td>True</td>\n",
       "    </tr>\n",
       "    <tr>\n",
       "      <th>2860</th>\n",
       "      <td>2.994787e-08</td>\n",
       "      <td>0.146998</td>\n",
       "      <td>True</td>\n",
       "    </tr>\n",
       "    <tr>\n",
       "      <th>2910</th>\n",
       "      <td>4.763246e-08</td>\n",
       "      <td>0.228219</td>\n",
       "      <td>True</td>\n",
       "    </tr>\n",
       "    <tr>\n",
       "      <th>2960</th>\n",
       "      <td>1.105129e-09</td>\n",
       "      <td>0.022207</td>\n",
       "      <td>True</td>\n",
       "    </tr>\n",
       "  </tbody>\n",
       "</table>\n",
       "</div>"
      ],
      "text/plain": [
       "      Shapiro-Wilk  Kolmogorov-Smirnov  Anderson-Darling\n",
       "10    9.735041e-01            0.980859             False\n",
       "60    1.338847e-02            0.817493             False\n",
       "110   4.208248e-01            0.904419             False\n",
       "160   2.215651e-01            0.756128             False\n",
       "210   1.021039e-01            0.806706             False\n",
       "260   1.201588e-01            0.849872             False\n",
       "310   2.295296e-01            0.707184             False\n",
       "360   6.875946e-03            0.253389              True\n",
       "410   7.821671e-02            0.436136              True\n",
       "460   6.451423e-01            0.626205             False\n",
       "510   6.222307e-02            0.739557             False\n",
       "560   1.654044e-02            0.371316              True\n",
       "610   1.419631e-02            0.674068             False\n",
       "660   2.093777e-03            0.843070             False\n",
       "710   1.928823e-04            0.133271              True\n",
       "760   3.337453e-04            0.150011              True\n",
       "810   8.637902e-06            0.089723              True\n",
       "860   8.350121e-05            0.174306              True\n",
       "910   7.256004e-03            0.192369              True\n",
       "960   2.210099e-04            0.128570              True\n",
       "1010  4.126888e-06            0.078906              True\n",
       "1060  9.523878e-04            0.137043              True\n",
       "1110  8.249988e-03            0.409996             False\n",
       "1160  1.288096e-06            0.213095              True\n",
       "1210  2.069976e-07            0.075617              True\n",
       "1260  1.337086e-04            0.408841              True\n",
       "1310  3.153400e-04            0.499335              True\n",
       "1360  1.318978e-05            0.414819              True\n",
       "1410  3.085344e-03            0.225777              True\n",
       "1460  3.902974e-07            0.179849              True\n",
       "1510  8.986386e-06            0.322980              True\n",
       "1560  1.178246e-06            0.212780              True\n",
       "1610  4.342032e-05            0.058797              True\n",
       "1660  2.361874e-09            0.030803              True\n",
       "1710  1.283317e-03            0.621201             False\n",
       "1760  5.160144e-06            0.453989              True\n",
       "1810  5.651645e-08            0.232472              True\n",
       "1860  3.163815e-05            0.141275              True\n",
       "1910  8.254768e-07            0.115383              True\n",
       "1960  1.674197e-06            0.086240              True\n",
       "2010  2.588669e-06            0.014900              True\n",
       "2060  8.056622e-04            0.452747              True\n",
       "2110  3.454831e-09            0.008638              True\n",
       "2160  3.752099e-03            0.275239              True\n",
       "2210  9.442803e-09            0.084694              True\n",
       "2260  8.253297e-08            0.009635              True\n",
       "2310  8.266343e-07            0.111320              True\n",
       "2360  1.020752e-08            0.053131              True\n",
       "2410  1.208406e-07            0.044329              True\n",
       "2460  2.346182e-09            0.034077              True\n",
       "2510  3.488955e-11            0.017444              True\n",
       "2560  9.085228e-07            0.350384              True\n",
       "2610  7.067931e-08            0.093833              True\n",
       "2660  4.786894e-05            0.186244              True\n",
       "2710  8.589409e-10            0.060229              True\n",
       "2760  8.725006e-12            0.062016              True\n",
       "2810  5.839401e-08            0.130715              True\n",
       "2860  2.994787e-08            0.146998              True\n",
       "2910  4.763246e-08            0.228219              True\n",
       "2960  1.105129e-09            0.022207              True"
      ]
     },
     "execution_count": 18,
     "metadata": {},
     "output_type": "execute_result"
    }
   ],
   "source": [
    "s = 0.1\n",
    "ns = np.arange(10, 3000, 50)\n",
    "\n",
    "np.random.seed(17)\n",
    "results = run_sizes(ns, s)\n",
    "results"
   ]
  },
  {
   "cell_type": "code",
   "execution_count": 19,
   "metadata": {},
   "outputs": [],
   "source": [
    "from utils import plot_series_lowess\n",
    "\n",
    "colors = ['C0', 'C1', 'C2']\n",
    "\n",
    "def plot_results(results):\n",
    "    for i, column in enumerate(results.columns):\n",
    "        if i < 2:\n",
    "            series = np.log10(results[column])\n",
    "            plot_series_lowess(series, colors[i], label='column')"
   ]
  },
  {
   "cell_type": "code",
   "execution_count": 20,
   "metadata": {},
   "outputs": [
    {
     "data": {
      "image/png": "[encoded data removed]",
      "text/plain": [
       "<Figure size 450x262.5 with 1 Axes>"
      ]
     },
     "metadata": {},
     "output_type": "display_data"
    }
   ],
   "source": [
    "plot_results(results)"
   ]
  },
  {
   "cell_type": "code",
   "execution_count": 21,
   "metadata": {},
   "outputs": [
    {
     "data": {
      "image/png": "[encoded data removed]",
      "text/plain": [
       "<Figure size 450x262.5 with 1 Axes>"
      ]
     },
     "metadata": {},
     "output_type": "display_data"
    }
   ],
   "source": [
    "s = 0.3\n",
    "ns = np.arange(10, 3000, 30)\n",
    "\n",
    "np.random.seed(17)\n",
    "results = run_sizes(ns, s)\n",
    "plot_results(results)"
   ]
  },
  {
   "cell_type": "code",
   "execution_count": 22,
   "metadata": {},
   "outputs": [],
   "source": [
    "def random_walk(s, func):\n",
    "    dist = make_lognormal(1, s)\n",
    "    n = 100\n",
    "    ns = []\n",
    "\n",
    "    for i in range(1000):\n",
    "        ns.append(n)\n",
    "        data = dist.rvs(n)\n",
    "        _, p_value = func(data)\n",
    "        if p_value > 0.5:\n",
    "            n += 10\n",
    "        else:\n",
    "            n = max(n-10, 10)\n",
    "                \n",
    "    return ns"
   ]
  },
  {
   "cell_type": "code",
   "execution_count": 23,
   "metadata": {},
   "outputs": [
    {
     "data": {
      "text/plain": [
       "38.62"
      ]
     },
     "execution_count": 23,
     "metadata": {},
     "output_type": "execute_result"
    },
    {
     "data": {
      "image/png": "[encoded data removed]",
      "text/plain": [
       "<Figure size 450x262.5 with 1 Axes>"
      ]
     },
     "metadata": {},
     "output_type": "display_data"
    }
   ],
   "source": [
    "ns = random_walk(0.1, shapiro)\n",
    "plt.plot(ns)\n",
    "np.mean(ns[500:])"
   ]
  },
  {
   "cell_type": "code",
   "execution_count": 24,
   "metadata": {},
   "outputs": [
    {
     "data": {
      "text/plain": [
       "470.96"
      ]
     },
     "execution_count": 24,
     "metadata": {},
     "output_type": "execute_result"
    },
    {
     "data": {
      "image/png": "[encoded data removed]",
      "text/plain": [
       "<Figure size 450x262.5 with 1 Axes>"
      ]
     },
     "metadata": {},
     "output_type": "display_data"
    }
   ],
   "source": [
    "ns = random_walk(0.1, kswrapper)\n",
    "plt.plot(ns)\n",
    "np.mean(ns[500:])"
   ]
  },
  {
   "cell_type": "code",
   "execution_count": 25,
   "metadata": {},
   "outputs": [],
   "source": [
    "def find_critical_size(s, func):\n",
    "    ns = random_walk(s, func)\n",
    "    return np.mean(ns[500:])"
   ]
  },
  {
   "cell_type": "code",
   "execution_count": 26,
   "metadata": {},
   "outputs": [],
   "source": [
    "def sweep_s(func):\n",
    "    res = []\n",
    "    for s in np.linspace(0.1, 1.0, 10):\n",
    "        n_crit = find_critical_size(s, func)\n",
    "        res.append((s, n_crit))\n",
    "    return res"
   ]
  },
  {
   "cell_type": "code",
   "execution_count": 27,
   "metadata": {},
   "outputs": [
    {
     "data": {
      "image/png": "[encoded data removed]",
      "text/plain": [
       "<Figure size 450x262.5 with 1 Axes>"
      ]
     },
     "metadata": {},
     "output_type": "display_data"
    }
   ],
   "source": [
    "res = sweep_s(shapiro)\n",
    "s, n = np.transpose(res)\n",
    "plt.plot(s, n)\n",
    "decorate(xlabel='s', ylabel='critical n', title='Shapiro-Wilk')"
   ]
  },
  {
   "cell_type": "code",
   "execution_count": 28,
   "metadata": {},
   "outputs": [
    {
     "data": {
      "image/png": "[encoded data removed]",
      "text/plain": [
       "<Figure size 450x262.5 with 1 Axes>"
      ]
     },
     "metadata": {},
     "output_type": "display_data"
    }
   ],
   "source": [
    "res = sweep_s(kswrapper)\n",
    "s, n = np.transpose(res)\n",
    "plt.plot(s, n, color='C1')\n",
    "decorate(xlabel='s', ylabel='critical n', title='Kolmogorov-Smirnov')"
   ]
  },
  {
   "cell_type": "markdown",
   "metadata": {},
   "source": [
    "## Discussion"
   ]
  },
  {
   "cell_type": "markdown",
   "metadata": {},
   "source": [
    "[*Data Q&A: Answering the real questions with Python*](https://allendowney.github.io/DataQnA/index.html)\n",
    "\n",
    "Copyright 2024 [Allen B. Downey](https://allendowney.com)\n",
    "\n",
    "License: [Creative Commons Attribution-NonCommercial-ShareAlike 4.0 International](https://creativecommons.org/licenses/by-nc-sa/4.0/)"
   ]
  }
 ],
 "metadata": {
  "celltoolbar": "Tags",
  "kernelspec": {
   "display_name": "Python 3 (ipykernel)",
   "language": "python",
   "name": "python3"
  },
  "language_info": {
   "codemirror_mode": {
    "name": "ipython",
    "version": 3
   },
   "file_extension": ".py",
   "mimetype": "text/x-python",
   "name": "python",
   "nbconvert_exporter": "python",
   "pygments_lexer": "ipython3",
   "version": "3.10.14"
  }
 },
 "nbformat": 4,
 "nbformat_minor": 2
}
