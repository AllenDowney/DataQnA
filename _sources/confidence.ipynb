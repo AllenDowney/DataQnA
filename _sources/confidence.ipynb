{
 "cells": [
  {
   "cell_type": "markdown",
   "id": "6386069d",
   "metadata": {},
   "source": [
    "# What does a confidence interval mean?\n",
    "\n",
    "Here's a [question from the Reddit statistics forum](https://www.reddit.com/r/statistics/comments/1c3iqdd/q_why_does_a_confidence_interval_not_tell_you/) (with an edit for clarity):\n",
    "\n",
    "> Why does a confidence interval not tell you that 90% of the time, [the true value of the population parameter] will be in the interval, or something along those lines?\n",
    ">\n",
    "> I understand that the interpretation of confidence intervals is that with repeated samples from the population, 90% of the time the interval would contain the true value of whatever it is you're estimating. What I don't understand is why this method doesn't really tell you anything about what that parameter value is.\n",
    "\n",
    "This is, to put it mildly, a common source of confusion.\n",
    "And here is one of the responses:\n",
    "\n",
    "> From a frequentist perspective, the true value of the parameter is fixed. Thus, once you have calculated your confidence interval, one if two things are true: either the true parameter value is inside the interval, or it is outside it. So the probability that the interval contains the true value is either 0 or 1, but you can never know which.\n",
    "\n",
    "This response is the conventional answer to this question -- it is what you find in most textbooks and what is taught in most classes.\n",
    "And, in my opinion, it is wrong.\n",
    "To explain why, I'll start with a story."
   ]
  },
  {
   "cell_type": "markdown",
   "id": "8afbc8d9",
   "metadata": {},
   "source": [
    "Suppose Frank and Betsy visit a factory where 90% of the widgets are good and 10% are defective.\n",
    "Frank chooses a part at random and asks Betsy, \"What is the probability that this part is good?\"\n",
    "\n",
    "Betsy says, \"If 90% of the parts are good, and you choose one at random, the probability is 90% that it is good.\"\n",
    "\n",
    "\"Wrong!\" says Frank. \"Since the part has already been manufactured, one of two things must be true: either it is good or it is defective. So the probability is either 100% or 0%, but we don't know which.\"\n",
    "\n",
    "Frank's argument is based on a strict interpretation of frequentism, which is a particular philosophy of probability.\n",
    "But it is not the only interpretation, and it is not a particularly good one.\n",
    "In fact, it suffers from several flaws.\n",
    "This example shows one of them -- in many real-world scenarios where it would be meaningful and useful to assign a probability to a proposition, frequentism simply refuses to do so.\n",
    "\n",
    "Fortunately, Betsy is under no obligation to adopt Frank's interpretation of probability.\n",
    "She is free to adopt any of several alternatives that are consistent with her commonsense claim that a randomly-chosen part has a 90% probability of being functional.\n",
    "\n",
    "Now let's see how this story relates to confidence intervals."
   ]
  },
  {
   "cell_type": "markdown",
   "id": "7d6b656b",
   "metadata": {},
   "source": [
    "[Click here to run this notebook on Colab](https://colab.research.google.com/github/AllenDowney/DataQnA/blob/main/nb/confidence.ipynb)"
   ]
  },
  {
   "cell_type": "markdown",
   "id": "1a4d9fa0",
   "metadata": {
    "tags": [
     "hide-cell"
    ]
   },
   "source": [
    "I'll start by importing the usual libraries."
   ]
  },
  {
   "cell_type": "code",
   "execution_count": 1,
   "id": "d7aef20d",
   "metadata": {
    "tags": [
     "hide-cell"
    ]
   },
   "outputs": [],
   "source": [
    "import numpy as np\n",
    "import matplotlib.pyplot as plt\n",
    "import pandas as pd\n",
    "import seaborn as sns"
   ]
  },
  {
   "cell_type": "markdown",
   "id": "86637019",
   "metadata": {},
   "source": [
    "## Generating a confidence interval\n",
    "\n",
    "Suppose that Frank is a statistics teacher and Betsy is one of his students.\n",
    "One day Frank teaches the class a process for computing confidence intervals that goes like this:\n",
    "\n",
    "1. Collect a sample of size $n$.\n",
    "\n",
    "2. Compute the sample mean, $m$, and the sample standard deviation, $s$.\n",
    "\n",
    "3. If those estimates are correct, the sampling distribution of the mean is a normal distribution with mean $m$ and standard deviation $s / \\sqrt{n}$.\n",
    "\n",
    "4. Compute the 5th and 95th percentiles of this sampling distribution. The result is a 90% confidence interval.\n",
    "\n",
    "As an example, Frank generates a sample with size 100 from a normal distribution with known parameters mean $\\mu=10$ and standard deviation $\\sigma=3$."
   ]
  },
  {
   "cell_type": "code",
   "execution_count": 2,
   "id": "c9d6afd9",
   "metadata": {},
   "outputs": [],
   "source": [
    "from scipy.stats import norm\n",
    "\n",
    "mu = 10\n",
    "sigma = 3\n",
    "\n",
    "np.random.seed(17)\n",
    "data = norm.rvs(mu, sigma, size=100)"
   ]
  },
  {
   "cell_type": "markdown",
   "id": "2c5a0939",
   "metadata": {},
   "source": [
    "Then Betsy uses the following function to compute a 90% CI."
   ]
  },
  {
   "cell_type": "code",
   "execution_count": 3,
   "id": "906b93f5",
   "metadata": {},
   "outputs": [],
   "source": [
    "def compute_ci(data):\n",
    "    n = len(data)\n",
    "    m = np.mean(data)\n",
    "    s = np.std(data)\n",
    "    sampling_dist = norm(m, s / np.sqrt(n))\n",
    "    ci90 = sampling_dist.ppf([0.05, 0.95])\n",
    "    return ci90"
   ]
  },
  {
   "cell_type": "code",
   "execution_count": 4,
   "id": "7013c054",
   "metadata": {},
   "outputs": [
    {
     "data": {
      "text/plain": [
       "array([ 9.78147291, 10.88758585])"
      ]
     },
     "execution_count": 4,
     "metadata": {},
     "output_type": "execute_result"
    }
   ],
   "source": [
    "ci90 = compute_ci(data)\n",
    "ci90"
   ]
  },
  {
   "cell_type": "markdown",
   "id": "daf0bf52",
   "metadata": {},
   "source": [
    "In this example, we know that the actual population mean is 10 so we can see that *this* CI contains the population mean.\n",
    "But if we draw another sample, we might get a sample mean that is substantially higher or lower than $\\mu$, and the CI we compute might not contain $\\mu$.\n",
    "\n",
    "To see how often that happens, we'll use this function, which generates a sample, computes a 90% CI, and checks whether the CI contains $\\mu$."
   ]
  },
  {
   "cell_type": "code",
   "execution_count": 5,
   "id": "e6fa8d13",
   "metadata": {},
   "outputs": [],
   "source": [
    "def run_experiment(mu, sigma):\n",
    "    data = norm.rvs(mu, sigma, size=100)\n",
    "    low, high = compute_ci(data)\n",
    "    return low < mu < high"
   ]
  },
  {
   "cell_type": "markdown",
   "id": "2f0b150f",
   "metadata": {},
   "source": [
    "If we run this function 1000 times, we can count how often the CI contains $\\mu$."
   ]
  },
  {
   "cell_type": "code",
   "execution_count": 6,
   "id": "05bc4958",
   "metadata": {},
   "outputs": [
    {
     "data": {
      "text/plain": [
       "90.60000000000001"
      ]
     },
     "execution_count": 6,
     "metadata": {},
     "output_type": "execute_result"
    }
   ],
   "source": [
    "np.mean([run_experiment(mu, sigma) for i in range(1000)]) * 100"
   ]
  },
  {
   "cell_type": "markdown",
   "id": "69578272",
   "metadata": {},
   "source": [
    "The answer is close to 90% -- that is, if we run this process many times, 90% of the CIs it generates contain $\\mu$ and 10% don't.\n",
    "So the CI-computing process is like a factory where 90% of the widgets are good and 10% are defective.\n",
    "\n",
    "Now suppose Frank chooses a different value of $\\mu$ and does not tell Betsy what it is.\n",
    "To simulate that scenario, I'll choose a value from a random number generator with a specific seed."
   ]
  },
  {
   "cell_type": "code",
   "execution_count": 7,
   "id": "f2c283ff",
   "metadata": {},
   "outputs": [],
   "source": [
    "np.random.seed(17)\n",
    "unknown_mu = np.random.uniform(10, 20)"
   ]
  },
  {
   "cell_type": "markdown",
   "id": "9af86c4d",
   "metadata": {},
   "source": [
    "And just for good measure, I'll generate a random value for $\\sigma$, too."
   ]
  },
  {
   "cell_type": "code",
   "execution_count": 8,
   "id": "38fc4cfc",
   "metadata": {},
   "outputs": [],
   "source": [
    "unknown_sigma = np.random.uniform(2, 3)"
   ]
  },
  {
   "cell_type": "markdown",
   "id": "b2e5df99",
   "metadata": {},
   "source": [
    "Next Frank generates a sample from a normal distribution with those parameters, and gives the sample to Betsy."
   ]
  },
  {
   "cell_type": "code",
   "execution_count": 9,
   "id": "52810406",
   "metadata": {},
   "outputs": [],
   "source": [
    "data2 = norm.rvs(unknown_mu, unknown_sigma, size=100)"
   ]
  },
  {
   "cell_type": "markdown",
   "id": "fd31f684",
   "metadata": {},
   "source": [
    "And Betsy uses the data to compute a CI."
   ]
  },
  {
   "cell_type": "code",
   "execution_count": 10,
   "id": "7e9cc6a3",
   "metadata": {},
   "outputs": [
    {
     "data": {
      "text/plain": [
       "array([12.81278165, 13.73152148])"
      ]
     },
     "execution_count": 10,
     "metadata": {},
     "output_type": "execute_result"
    }
   ],
   "source": [
    "compute_ci(data2)"
   ]
  },
  {
   "cell_type": "markdown",
   "id": "37df4bc4",
   "metadata": {},
   "source": [
    "Now suppose Frank asks, \"What is the probability that this CI contains the actual value of $mu$ that I chose?\"\n",
    "\n",
    "Betsy says, \"We have established that 90% of the CIs generated by this process contain $mu$, so the probability that *this* CI contains $mu$ is 90%.\"\n",
    "\n",
    "And of course Frank says \"Wrong! Now that we have computed the CI, it is unknown whether it contains the true parameter, but it is not random.\n",
    "The probability that it contains $\\mu$ is either 100% or 0%.\n",
    "We can't say it has a 90% chance of containing $\\mu$.\"\n",
    "\n",
    "Once again, Frank is asserting a particular interpretation of probability -- one that has the regrettable property of rendering probability nearly useless.\n",
    "Fortunately, Betsy is under no obligation to join Frank's cult.\n",
    "\n",
    "Under most reasonable interpretations of probability, you *can* say that a specific 90% CI has a 90% chance of containing the true parameter.\n",
    "There is no real philosophical problem with that.\n",
    "\n",
    "But there might be practical problems."
   ]
  },
  {
   "cell_type": "markdown",
   "id": "9075ce56",
   "metadata": {},
   "source": [
    "## Practical problems\n",
    "\n",
    "The process we use to construct a CI takes into account variability due to random sampling, but it does not take into account other problems, like measurement error and non-representative sampling.\n",
    "To see why that matters, let's consider a more realistic example.\n",
    "\n",
    "Suppose we want to estimate the average height of adult male residents of the United States.\n",
    "If we define terms like \"height\", \"adult\", \"male\", and \"resident of the United States\" precisely enough, we have defined a population that has a true, unknown average height.\n",
    "If we collect a representative sample from the population and measure their heights, we can use the sample mean to estimate the population mean and compute a confidence interval.\n",
    "\n",
    "To demonstrate, I'll use data from the Behavioral Risk Factor Surveillance System (BRFSS).\n",
    "Here's an extract I prepared for [*Elements of Data Science*](https://allendowney.github.io/ElementsOfDataScience), based on BRFSS data from 2021."
   ]
  },
  {
   "cell_type": "code",
   "execution_count": 11,
   "id": "1aae2851",
   "metadata": {
    "tags": [
     "hide-cell"
    ]
   },
   "outputs": [
    {
     "data": {
      "text/plain": [
       "'brfss_2021.hdf'"
      ]
     },
     "execution_count": 11,
     "metadata": {},
     "output_type": "execute_result"
    }
   ],
   "source": [
    "from os.path import basename, exists\n",
    "\n",
    "def download(url):\n",
    "    filename = basename(url)\n",
    "    if not exists(filename):\n",
    "        from urllib.request import urlretrieve\n",
    "\n",
    "        local, _ = urlretrieve(url, filename)\n",
    "        print(\"Downloaded \" + str(local))\n",
    "    return filename\n",
    "\n",
    "download('https://github.com/AllenDowney/ElementsOfDataScience/raw/v1/data/brfss_2021.hdf')"
   ]
  },
  {
   "cell_type": "code",
   "execution_count": 12,
   "id": "e1a90b70",
   "metadata": {},
   "outputs": [],
   "source": [
    "brfss = pd.read_hdf('brfss_2021.hdf', 'brfss')"
   ]
  },
  {
   "cell_type": "markdown",
   "id": "17ab6133",
   "metadata": {},
   "source": [
    "It includes data from 203,760 male respondents."
   ]
  },
  {
   "cell_type": "code",
   "execution_count": 13,
   "id": "d7ce5966",
   "metadata": {},
   "outputs": [
    {
     "data": {
      "text/plain": [
       "203760"
      ]
     },
     "execution_count": 13,
     "metadata": {},
     "output_type": "execute_result"
    }
   ],
   "source": [
    "male = brfss.query('_SEX == 1')\n",
    "len(male)"
   ]
  },
  {
   "cell_type": "markdown",
   "id": "4b9da594",
   "metadata": {},
   "source": [
    "For 193,701 of them, we have their self-reported height recorded in centimeters."
   ]
  },
  {
   "cell_type": "code",
   "execution_count": 14,
   "id": "f0842bff",
   "metadata": {},
   "outputs": [
    {
     "data": {
      "text/plain": [
       "193701"
      ]
     },
     "execution_count": 14,
     "metadata": {},
     "output_type": "execute_result"
    }
   ],
   "source": [
    "male['HTM4'].count()"
   ]
  },
  {
   "cell_type": "markdown",
   "id": "1890a6d8",
   "metadata": {},
   "source": [
    "We can use this data to compute a sample mean and 90% confidence interval."
   ]
  },
  {
   "cell_type": "code",
   "execution_count": 15,
   "id": "53d559e4",
   "metadata": {},
   "outputs": [
    {
     "data": {
      "text/plain": [
       "(178.14807357731763, array([178.11896943, 178.17717773]))"
      ]
     },
     "execution_count": 15,
     "metadata": {},
     "output_type": "execute_result"
    }
   ],
   "source": [
    "m = male['HTM4'].mean()\n",
    "ci90 = compute_ci(male['HTM4'])\n",
    "m, ci90"
   ]
  },
  {
   "cell_type": "markdown",
   "id": "d8440466",
   "metadata": {},
   "source": [
    "Because the sample size is so large, the confidence interval is quite small -- its width is only 0.03% of the estimate."
   ]
  },
  {
   "cell_type": "code",
   "execution_count": 16,
   "id": "f85e0435",
   "metadata": {},
   "outputs": [
    {
     "data": {
      "text/plain": [
       "array([0.03267411])"
      ]
     },
     "execution_count": 16,
     "metadata": {},
     "output_type": "execute_result"
    }
   ],
   "source": [
    "np.diff(ci90) / m * 100"
   ]
  },
  {
   "cell_type": "markdown",
   "id": "bc5b47ca",
   "metadata": {},
   "source": [
    "So there is very little variability in this estimate due to random sampling.\n",
    "That means the estimate is *precise*, but that doesn't mean it's *accurate*.\n",
    "\n",
    "For one thing, the measurements in this dataset are self-reported.\n",
    "If people tend to round up -- and they do -- that would make the estimated mean too high.\n",
    "\n",
    "For another thing, it is difficult to construct a representative sample of a population as large as the United States.\n",
    "The BRFSS is run by people who know what they are doing, but nothing is perfect -- it is likely that some groups are systematically overrepresented or underrepresented.\n",
    "And that could make the estimated mean too high or too low.\n",
    "\n",
    "Given that there is almost certainly some measurement error and some sampling bias, it is unlikely that the actual population falls in the very small confidence interval we computed.\n",
    "\n",
    "And that's true in general -- when the sample size is large, variability due to random sampling is small, which means that other sources of error are likely to be bigger.\n",
    "So as sample size increases, the probability decreases that the CI contains the true value."
   ]
  },
  {
   "cell_type": "markdown",
   "id": "6fc328bd",
   "metadata": {},
   "source": [
    "## Summary\n",
    "\n",
    "The way confidence intervals are taught in most statistics class is based on the frequentist interpretation of probability.\n",
    "But you are not obligated to adopt that interpretation, and there are good reasons you should not.\n",
    "\n",
    "Some people will say that confidence intervals are a frequentist method that is inextricable from the frequentist interpretation.\n",
    "I don't think that's true -- there is nothing about the computation of a confidence interval that depends on the frequentist interpretation.\n",
    "So you are free to interpret the CI under any philosophy of probability you like.\n",
    "\n",
    "If you want to say that a 90% CI has a 90% chance of containing the true value, there is nothing wrong with that, philosophically.\n",
    "I think it is a meaningful and useful probabilistic claim.\n",
    "\n",
    "However, it is only true if other sources of error -- like sampling bias and measurement error -- are small compared to variability due to random sampling.\n",
    "\n",
    "For that reason, I think the best interpretation of a confidence interval, for practical purposes, is that it quantifies the precision of the estimate but says nothing about its accuracy."
   ]
  },
  {
   "cell_type": "markdown",
   "id": "80246acd",
   "metadata": {},
   "source": [
    "Credit: I borrowed Frank and Betsy from my friend Ted Bunn. They first appeared in his blog post [Who knows what evil lurks in the hearts of men? The Bayesian doesn’t care.](https://blog.richmond.edu/physicsbunn/2012/01/05/who-knows-what-evil-lurks-in-the-hearts-of-men-the-bayesian-doesnt-care/)."
   ]
  }
 ],
 "metadata": {
  "celltoolbar": "Tags",
  "kernelspec": {
   "display_name": "Python 3 (ipykernel)",
   "language": "python",
   "name": "python3"
  },
  "language_info": {
   "codemirror_mode": {
    "name": "ipython",
    "version": 3
   },
   "file_extension": ".py",
   "mimetype": "text/x-python",
   "name": "python",
   "nbconvert_exporter": "python",
   "pygments_lexer": "ipython3",
   "version": "3.10.14"
  }
 },
 "nbformat": 4,
 "nbformat_minor": 5
}
