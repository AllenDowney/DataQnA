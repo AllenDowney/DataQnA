{
 "cells": [
  {
   "cell_type": "markdown",
   "metadata": {},
   "source": [
    "# Hazard and Survival\n",
    "\n",
    "Here's a [question from the Reddit statistics forum](https://www.reddit.com/r/AskStatistics/comments/1gzff52/if_i_have_a_tumor_that_ive_been_told_has_a/).\n",
    "\n",
    "> If I have a tumor that I've been told has a malignancy rate of 2% per year, does that compound? So after 5 years there's a 10% chance it will turn malignant? \n",
    "\n",
    "This turns out to be an interesting question, because the answer depends on what that 2% means.\n",
    "If we know that it's the same for everyone, and it doesn't vary over time, computing the compounded probability after 5 years is a relatively simple.\n",
    "\n",
    "But if that 2% is an average across people with different probabilities, the computation is a little more complicated -- and the answer turns out to be substantially different, so this is not a negligible effect.\n",
    "\n",
    "To demonstrate both computations, I'll assume that the probability for a given patient doesn't change over time.\n",
    "This assumption is consistent with the [multistage model of carcinogenesis](https://en.wikipedia.org/wiki/Armitage%E2%80%93Doll_multistage_model_of_carcinogenesis), which posits that normal cells become cancerous through a series of mutations, where the probability of any of those mutations is constant over time."
   ]
  },
  {
   "cell_type": "markdown",
   "metadata": {
    "tags": [
     "remove-print"
    ]
   },
   "source": [
    "[Click here to run this notebook on Colab](https://colab.research.google.com/github/AllenDowney/DataQnA/blob/main/nb/hazard.ipynb)."
   ]
  },
  {
   "cell_type": "markdown",
   "metadata": {
    "tags": [
     "remove-print"
    ]
   },
   "source": [
    "I'll download a utilities module with some of my frequently-used functions, and then import the usual libraries."
   ]
  },
  {
   "cell_type": "code",
   "execution_count": 1,
   "metadata": {
    "tags": [
     "remove-print",
     "hide-cell"
    ]
   },
   "outputs": [],
   "source": [
    "from os.path import basename, exists\n",
    "\n",
    "def download(url):\n",
    "    filename = basename(url)\n",
    "    if not exists(filename):\n",
    "        from urllib.request import urlretrieve\n",
    "\n",
    "        local, _ = urlretrieve(url, filename)\n",
    "        print(\"Downloaded \" + str(local))\n",
    "    return filename\n",
    "\n",
    "download('https://github.com/AllenDowney/DataQnA/raw/main/nb/utils.py');"
   ]
  },
  {
   "cell_type": "code",
   "execution_count": 2,
   "metadata": {
    "tags": [
     "hide-cell",
     "remove-print"
    ]
   },
   "outputs": [],
   "source": [
    "# install the empiricaldist library, if necessary\n",
    "\n",
    "try:\n",
    "    import empiricaldist\n",
    "except ImportError:\n",
    "    !pip install empiricaldist"
   ]
  },
  {
   "cell_type": "code",
   "execution_count": 3,
   "metadata": {
    "tags": [
     "remove-print",
     "hide-cell"
    ]
   },
   "outputs": [],
   "source": [
    "import numpy as np\n",
    "import matplotlib.pyplot as plt\n",
    "import pandas as pd\n",
    "import seaborn as sns\n",
    "\n",
    "from utils import decorate"
   ]
  },
  {
   "cell_type": "markdown",
   "metadata": {},
   "source": [
    "## Constant Hazard\n",
    "\n",
    "Let's start with the simpler calculation, where the probability that a tumor progresses to malignancy is known to be 2% per year and constant.\n",
    "In that case, we can answer OP's question by making a constant hazard function and using it to compute a survival function.\n",
    "\n",
    "`empiricaldist` provides a `Hazard` object that represents a hazard function.\n",
    "Here's one where the hazard is 2% per year for 20 years."
   ]
  },
  {
   "cell_type": "code",
   "execution_count": 4,
   "metadata": {},
   "outputs": [],
   "source": [
    "from empiricaldist import Hazard\n",
    "\n",
    "p = 0.02\n",
    "ts = np.arange(1, 21)\n",
    "hazard = Hazard(p, ts, name='hazard1')"
   ]
  },
  {
   "cell_type": "markdown",
   "metadata": {},
   "source": [
    "The probability that a tumor survives a given number of years without progressing is the cumulative product of the complements of the hazard, which we can compute like this."
   ]
  },
  {
   "cell_type": "code",
   "execution_count": 5,
   "metadata": {},
   "outputs": [],
   "source": [
    "p_surv = (1 - hazard).cumprod()"
   ]
  },
  {
   "cell_type": "markdown",
   "metadata": {},
   "source": [
    "`Hazard` provides a `make_surv` method that does this computation and returns a `Surv` object that represents the corresponding survival function."
   ]
  },
  {
   "cell_type": "code",
   "execution_count": 6,
   "metadata": {},
   "outputs": [],
   "source": [
    "surv = hazard.make_surv(name='surv1')"
   ]
  },
  {
   "cell_type": "markdown",
   "metadata": {},
   "source": [
    "Here's what it looks like."
   ]
  },
  {
   "cell_type": "code",
   "execution_count": 7,
   "metadata": {},
   "outputs": [
    {
     "data": {
      "image/png": "[encoded data removed]",
      "text/plain": [
       "<Figure size 450x262.5 with 1 Axes>"
      ]
     },
     "metadata": {},
     "output_type": "display_data"
    }
   ],
   "source": [
    "surv.plot()\n",
    "decorate(xlabel='Year', ylabel='P(survival > t)')"
   ]
  },
  {
   "cell_type": "markdown",
   "metadata": {},
   "source": [
    "The y-axis shows the probability that a tumor \"survives\" for more than a given number of years without progressing.\n",
    "The probability of survival past Year 1 is 98%, as you might expect."
   ]
  },
  {
   "cell_type": "code",
   "execution_count": 8,
   "metadata": {},
   "outputs": [
    {
     "data": {
      "text/html": [
       "<div>\n",
       "<style scoped>\n",
       "    .dataframe tbody tr th:only-of-type {\n",
       "        vertical-align: middle;\n",
       "    }\n",
       "\n",
       "    .dataframe tbody tr th {\n",
       "        vertical-align: top;\n",
       "    }\n",
       "\n",
       "    .dataframe thead th {\n",
       "        text-align: right;\n",
       "    }\n",
       "</style>\n",
       "<table border=\"1\" class=\"dataframe\">\n",
       "  <thead>\n",
       "    <tr style=\"text-align: right;\">\n",
       "      <th></th>\n",
       "      <th>probs</th>\n",
       "    </tr>\n",
       "  </thead>\n",
       "  <tbody>\n",
       "    <tr>\n",
       "      <th>1</th>\n",
       "      <td>0.980000</td>\n",
       "    </tr>\n",
       "    <tr>\n",
       "      <th>2</th>\n",
       "      <td>0.960400</td>\n",
       "    </tr>\n",
       "    <tr>\n",
       "      <th>3</th>\n",
       "      <td>0.941192</td>\n",
       "    </tr>\n",
       "  </tbody>\n",
       "</table>\n",
       "</div>"
      ],
      "text/plain": [
       "1    0.980000\n",
       "2    0.960400\n",
       "3    0.941192\n",
       "Name: surv1, dtype: float64"
      ]
     },
     "execution_count": 8,
     "metadata": {},
     "output_type": "execute_result"
    }
   ],
   "source": [
    "surv.head()"
   ]
  },
  {
   "cell_type": "markdown",
   "metadata": {},
   "source": [
    "And the probability of going more than 10 years without progressing is about 82%."
   ]
  },
  {
   "cell_type": "code",
   "execution_count": 9,
   "metadata": {},
   "outputs": [
    {
     "data": {
      "text/plain": [
       "array(0.81707281)"
      ]
     },
     "execution_count": 9,
     "metadata": {},
     "output_type": "execute_result"
    }
   ],
   "source": [
    "surv(10)"
   ]
  },
  {
   "cell_type": "markdown",
   "metadata": {},
   "source": [
    "Because of the way the probabilities compound, the survival function drops off with decreasing slope, even though the hazard is constant."
   ]
  },
  {
   "cell_type": "markdown",
   "metadata": {},
   "source": [
    "## Knowledge is Power\n",
    "\n",
    "Now let's add a little more realism to the model.\n",
    "Suppose that in the observed population the average rate of progression is 2% per year, but it varies from one person to another.\n",
    "As an example, suppose the actual rate is 1% for half the population and 3% for the other half.\n",
    "And for a given patient, suppose we don't know initially which group they are in.\n",
    "\n",
    "As in the previous example, the probability that the tumor goes a year without progressing is 2%.\n",
    "However, at the end of that year, if it has not progressed, we have evidence in favor of the hypothesis that the patient is in the low-progression group.\n",
    "Specifically, the likelihood ratio is 3:1 in favor of that hypothesis.\n",
    "\n",
    "Now we can apply [Bayes's rule in odds form](https://en.wikipedia.org/wiki/Bayes'_theorem#Bayes'_rule_in_odds_form).\n",
    "Since the prior odds were 1:1 and the likelihood ratio is 3:1, the posterior odds are 3:1 -- so after one year we now believe the probability is 75% that the patient is in the low-progression group.\n",
    "In that case we can update the probability that the tumor progresses in the second year:"
   ]
  },
  {
   "cell_type": "code",
   "execution_count": 10,
   "metadata": {},
   "outputs": [
    {
     "data": {
      "text/plain": [
       "0.015"
      ]
     },
     "execution_count": 10,
     "metadata": {},
     "output_type": "execute_result"
    }
   ],
   "source": [
    "p1 = 0.01\n",
    "p2 = 0.03\n",
    "\n",
    "0.75 * p1 + 0.25 * p2"
   ]
  },
  {
   "cell_type": "markdown",
   "metadata": {},
   "source": [
    "If the tumor survives a year without progressing, the probability it will progress in the second year is 1.5%, substantially less than the initial estimate of 2%.\n",
    "Note that this change is due to evidence that the patient is in the low progression group.\n",
    "It does not assume that anything has changed in the world -- only that we have more information about which world we're in.\n",
    "\n",
    "If the tumor lasts another year without progressing, we would do the same update again.\n",
    "The posterior odds would be 9:1, or a 90% chance that the patient is in the low-progression group, which implies that the hazard in the third year is 1.2%.\n",
    "The following loop repeats this computation for 20 years."
   ]
  },
  {
   "cell_type": "code",
   "execution_count": 11,
   "metadata": {},
   "outputs": [],
   "source": [
    "odds = 1\n",
    "ratio = 3\n",
    "res = []\n",
    "\n",
    "for year in hazard.index:\n",
    "    p_low = odds / (odds + 1)\n",
    "    haz = p_low * p1 + (1-p_low) * p2\n",
    "    res.append((p_low, haz))\n",
    "    odds *= ratio"
   ]
  },
  {
   "cell_type": "markdown",
   "metadata": {},
   "source": [
    "Here are the results in percentages."
   ]
  },
  {
   "cell_type": "code",
   "execution_count": 12,
   "metadata": {},
   "outputs": [
    {
     "data": {
      "text/html": [
       "<div>\n",
       "<style scoped>\n",
       "    .dataframe tbody tr th:only-of-type {\n",
       "        vertical-align: middle;\n",
       "    }\n",
       "\n",
       "    .dataframe tbody tr th {\n",
       "        vertical-align: top;\n",
       "    }\n",
       "\n",
       "    .dataframe thead th {\n",
       "        text-align: right;\n",
       "    }\n",
       "</style>\n",
       "<table border=\"1\" class=\"dataframe\">\n",
       "  <thead>\n",
       "    <tr style=\"text-align: right;\">\n",
       "      <th></th>\n",
       "      <th>p_low</th>\n",
       "      <th>hazard</th>\n",
       "    </tr>\n",
       "  </thead>\n",
       "  <tbody>\n",
       "    <tr>\n",
       "      <th>1</th>\n",
       "      <td>50.00</td>\n",
       "      <td>2.00</td>\n",
       "    </tr>\n",
       "    <tr>\n",
       "      <th>2</th>\n",
       "      <td>75.00</td>\n",
       "      <td>1.50</td>\n",
       "    </tr>\n",
       "    <tr>\n",
       "      <th>3</th>\n",
       "      <td>90.00</td>\n",
       "      <td>1.20</td>\n",
       "    </tr>\n",
       "    <tr>\n",
       "      <th>4</th>\n",
       "      <td>96.43</td>\n",
       "      <td>1.07</td>\n",
       "    </tr>\n",
       "    <tr>\n",
       "      <th>5</th>\n",
       "      <td>98.78</td>\n",
       "      <td>1.02</td>\n",
       "    </tr>\n",
       "  </tbody>\n",
       "</table>\n",
       "</div>"
      ],
      "text/plain": [
       "   p_low  hazard\n",
       "1  50.00    2.00\n",
       "2  75.00    1.50\n",
       "3  90.00    1.20\n",
       "4  96.43    1.07\n",
       "5  98.78    1.02"
      ]
     },
     "execution_count": 12,
     "metadata": {},
     "output_type": "execute_result"
    }
   ],
   "source": [
    "df = pd.DataFrame(res, columns=['p_low', 'hazard'], index=hazard.index)\n",
    "(df * 100).round(2).head()"
   ]
  },
  {
   "cell_type": "markdown",
   "metadata": {},
   "source": [
    "If we put the hazard rates in a `Hazard` object, we can compare them to the constant hazard model."
   ]
  },
  {
   "cell_type": "code",
   "execution_count": 14,
   "metadata": {},
   "outputs": [],
   "source": [
    "hazard2 = Hazard(df['hazard'], name='hazard2')"
   ]
  },
  {
   "cell_type": "code",
   "execution_count": 15,
   "metadata": {},
   "outputs": [
    {
     "data": {
      "image/png": "[encoded data removed]",
      "text/plain": [
       "<Figure size 450x262.5 with 1 Axes>"
      ]
     },
     "metadata": {},
     "output_type": "display_data"
    }
   ],
   "source": [
    "hazard.plot(label='Known probability')\n",
    "hazard2.plot(label='Uncertain probability')\n",
    "decorate(xlabel='Year', ylabel='Hazard')"
   ]
  },
  {
   "cell_type": "markdown",
   "metadata": {},
   "source": [
    "After only a few years, the probability is near certain that the patient is in the low-progress group, so the inferred hazard is close to 1%.\n",
    "\n",
    "Here's what the corresponding survival function looks like."
   ]
  },
  {
   "cell_type": "code",
   "execution_count": 16,
   "metadata": {},
   "outputs": [],
   "source": [
    "surv2 = hazard2.make_surv(name='surv2')"
   ]
  },
  {
   "cell_type": "code",
   "execution_count": 17,
   "metadata": {},
   "outputs": [
    {
     "data": {
      "image/png": "[encoded data removed]",
      "text/plain": [
       "<Figure size 450x262.5 with 1 Axes>"
      ]
     },
     "metadata": {},
     "output_type": "display_data"
    }
   ],
   "source": [
    "surv2.plot(label='Uncertain probability')\n",
    "surv.plot(label='Known probability')\n",
    "decorate(xlabel='Year', ylabel='P(survival > t)')"
   ]
  },
  {
   "cell_type": "markdown",
   "metadata": {},
   "source": [
    "In the second model, survival times are substantially longer.\n",
    "For example, the probability of going more than 10 years without progression increases from 82% to 89%."
   ]
  },
  {
   "cell_type": "code",
   "execution_count": 18,
   "metadata": {},
   "outputs": [
    {
     "data": {
      "text/plain": [
       "(array(0.81707281), array(0.88795586))"
      ]
     },
     "execution_count": 18,
     "metadata": {},
     "output_type": "execute_result"
    }
   ],
   "source": [
    "surv(10), surv2(10)"
   ]
  },
  {
   "cell_type": "markdown",
   "metadata": {},
   "source": [
    "In this example, there are only two groups with different probabilities of progression.\n",
    "But we would see the same effect in a more realistic model with a range of probabilities.\n",
    "As time passes without progression, it becomes more likely that the patient is in a low-progression group, so their hazard during the next period is lower.\n",
    "The more variability there is in the probability of progression, the stronger this effect."
   ]
  },
  {
   "cell_type": "markdown",
   "metadata": {},
   "source": [
    "## Discussion\n",
    "\n",
    "This example demonstrates a subtle point about a distribution of probabilities.\n",
    "To explain it, let's consider a more abstract scenario.\n",
    "Suppose you have two coin-flipping devices:\n",
    "\n",
    "* One of them is known to flips head and tails with equal probability.\n",
    "\n",
    "* The other is known to be miscalibrated so it flips heads with either 60% probability or 40% probability -- and we don't know which, but they are equally likely.\n",
    "\n",
    "If we use the first device, the probability of heads is 50%.\n",
    "If we use the second device, the probability of heads is 50%.\n",
    "So it might seem like there is no difference between them -- and more generally, it might seem like we can always collapse a distribution of probabilities down to a single probability.\n",
    "\n",
    "But that's not true, as we can demonstrate by running the coin-flippers twice.\n",
    "For the first, the probability of two heads is 25%.\n",
    "For the second, it's either 36% or 16% with equal probability -- so the total probability is 26%."
   ]
  },
  {
   "cell_type": "code",
   "execution_count": 19,
   "metadata": {},
   "outputs": [
    {
     "data": {
      "text/plain": [
       "0.26"
      ]
     },
     "execution_count": 19,
     "metadata": {},
     "output_type": "execute_result"
    }
   ],
   "source": [
    "p1, p2 = 0.6, 0.4\n",
    "np.mean([p1**2, p2**2])"
   ]
  },
  {
   "cell_type": "markdown",
   "metadata": {},
   "source": [
    "In general, there's a difference between a scenario where a probability is known precisely and a scenario where there is uncertainty about the probability."
   ]
  },
  {
   "cell_type": "markdown",
   "metadata": {},
   "source": [
    "[*Data Q&A: Answering the real questions with Python*](https://allendowney.github.io/DataQnA/index.html)\n",
    "\n",
    "Copyright 2024 [Allen B. Downey](https://allendowney.com)\n",
    "\n",
    "License: [Creative Commons Attribution-NonCommercial-ShareAlike 4.0 International](https://creativecommons.org/licenses/by-nc-sa/4.0/)"
   ]
  }
 ],
 "metadata": {
  "celltoolbar": "Tags",
  "kernelspec": {
   "display_name": "Python 3 (ipykernel)",
   "language": "python",
   "name": "python3"
  },
  "language_info": {
   "codemirror_mode": {
    "name": "ipython",
    "version": 3
   },
   "file_extension": ".py",
   "mimetype": "text/x-python",
   "name": "python",
   "nbconvert_exporter": "python",
   "pygments_lexer": "ipython3",
   "version": "3.10.14"
  }
 },
 "nbformat": 4,
 "nbformat_minor": 2
}
