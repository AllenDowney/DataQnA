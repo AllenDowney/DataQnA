{
 "cells": [
  {
   "cell_type": "markdown",
   "metadata": {},
   "source": [
    "# Estimation with Small Samples\n",
    "\n",
    "Here's a [question from the Reddit statistics forum](https://www.reddit.com/r/statistics/comments/1cpj2y9/q_few_samples_estimate_distribution_help/).\n",
    "\n",
    "> Hey, so imagine I only have 6 samples from a value that has a normal distribution. Can I estimate the range of likely distributions from those 6?\n",
    ">\n",
    "> Let's be more specific. I'm considering the accuracy of a blood testing device. I took 6 samples of my blood at the same time from the same vein and gave them to the machine. The results are not all the same (as expected), indicating the device's inherent level of imprecision.\n",
    ">\n",
    "> So, I'm wondering if there's a way to estimate the range of possibilities of what I would see if I could give 100 or 1000 samples?\n",
    ">\n",
    "> I'm comfortable assuming a normal distribution around the \"true\" value. Is there any stats method to guesstimate the range of likely values for sigma? Or would I just need to drain my blood dry to get 1000 samples to figure that out?\n",
    ">\n",
    "> Fyi, not a statistician.\n",
    "\n",
    "Because the sample size is so small, this question cries out for a Bayesian approach.\n",
    "Why?\n",
    "\n",
    "* Bayesian methods do a good job of taking advantage of background information and extracting as much information as possible from the data,\n",
    "\n",
    "* With a small sample size, the uncertainty of the result is large, so it is important to quantify it, and\n",
    "\n",
    "* The motivating question is explicitly about making probabilistic predictions, which is what Bayesian methods do and classical methods don't.\n",
    "\n",
    "As an example, OP suggested looking at blood potassium (K+) levels, with the following data:\n",
    "\n",
    "> 4.0, 3.9, 4.0, 4.0, 4.7, 4.2 (mmol/L)\n",
    "\n",
    "OP also explained that the blood samples were collected \"continuously from a single puncture ... within seconds, not minutes,\" so we don't expect the true level to change much between samples.\n",
    "In that case, the variation in the measurements would largely reflect the precision of the testing device.\n",
    "\n",
    "With that assumption, let's see what we can do."
   ]
  },
  {
   "cell_type": "markdown",
   "metadata": {
    "tags": [
     "remove-print"
    ]
   },
   "source": [
    "[Click here to run this notebook on Colab](https://colab.research.google.com/github/AllenDowney/DataQnA/blob/main/nb/gauss_bayes.ipynb)."
   ]
  },
  {
   "cell_type": "markdown",
   "metadata": {
    "tags": [
     "remove-print"
    ]
   },
   "source": [
    "I'll download a utilities module with some of my frequently-used functions, and then import the usual libraries."
   ]
  },
  {
   "cell_type": "code",
   "execution_count": 1,
   "metadata": {
    "tags": [
     "remove-print",
     "hide-cell"
    ]
   },
   "outputs": [],
   "source": [
    "from os.path import basename, exists\n",
    "\n",
    "def download(url):\n",
    "    filename = basename(url)\n",
    "    if not exists(filename):\n",
    "        from urllib.request import urlretrieve\n",
    "\n",
    "        local, _ = urlretrieve(url, filename)\n",
    "        print(\"Downloaded \" + str(local))\n",
    "    return filename\n",
    "\n",
    "download('https://github.com/AllenDowney/DataQnA/raw/main/nb/utils.py')\n",
    "\n",
    "import numpy as np\n",
    "import matplotlib.pyplot as plt\n",
    "import pandas as pd\n",
    "import seaborn as sns\n",
    "\n",
    "from utils import decorate"
   ]
  },
  {
   "cell_type": "code",
   "execution_count": 2,
   "metadata": {
    "tags": [
     "hide-cell",
     "remove-print"
    ]
   },
   "outputs": [],
   "source": [
    "# install the empiricaldist library, if necessary\n",
    "\n",
    "try:\n",
    "    import empiricaldist\n",
    "except ImportError:\n",
    "    !pip install empiricaldist"
   ]
  },
  {
   "cell_type": "markdown",
   "metadata": {},
   "source": [
    "## Bayesian estimation\n",
    "\n",
    "Here's the data."
   ]
  },
  {
   "cell_type": "code",
   "execution_count": 3,
   "metadata": {},
   "outputs": [
    {
     "data": {
      "text/plain": [
       "(4.133333333333334, 0.2687419249432851)"
      ]
     },
     "execution_count": 3,
     "metadata": {},
     "output_type": "execute_result"
    }
   ],
   "source": [
    "data = [4.0, 3.9, 4.0, 4.0, 4.7, 4.2]\n",
    "np.mean(data), np.std(data)"
   ]
  },
  {
   "cell_type": "markdown",
   "metadata": {},
   "source": [
    "Now we need prior distributions for `mu` and `sigma`.\n",
    "For the prior distribution of `mu` we can use the distribution in the general population.\n",
    "The \"normal range\" for potassium -- which is usually the 5th and 95th percentiles of the population -- is 3.5 to 5.4 mmol/L.\n",
    "So we can construct a normal distribution with these percentiles."
   ]
  },
  {
   "cell_type": "code",
   "execution_count": 4,
   "metadata": {},
   "outputs": [
    {
     "data": {
      "text/plain": [
       "array([3.46308782, 5.43691218])"
      ]
     },
     "execution_count": 4,
     "metadata": {},
     "output_type": "execute_result"
    }
   ],
   "source": [
    "from scipy.stats import norm\n",
    "\n",
    "hyper_mu = (3.5 + 5.4) / 2\n",
    "hyper_sigma = 0.6\n",
    "\n",
    "dist = norm(hyper_mu, hyper_sigma)\n",
    "dist.ppf([0.05, 0.95])"
   ]
  },
  {
   "cell_type": "markdown",
   "metadata": {},
   "source": [
    "Now I'll make a `Pmf` object that represents this distribution."
   ]
  },
  {
   "cell_type": "code",
   "execution_count": 5,
   "metadata": {},
   "outputs": [],
   "source": [
    "mus = np.linspace(2, 7, 51)\n",
    "ps = dist.pdf(mus)"
   ]
  },
  {
   "cell_type": "code",
   "execution_count": 6,
   "metadata": {},
   "outputs": [
    {
     "data": {
      "text/plain": [
       "9.99977690541445"
      ]
     },
     "execution_count": 6,
     "metadata": {},
     "output_type": "execute_result"
    }
   ],
   "source": [
    "from empiricaldist import Pmf\n",
    "\n",
    "prior_mu = Pmf(ps, mus)\n",
    "prior_mu.index.name = 'mu'\n",
    "prior_mu.normalize()"
   ]
  },
  {
   "cell_type": "code",
   "execution_count": 7,
   "metadata": {},
   "outputs": [
    {
     "data": {
      "image/png": "[encoded data removed]",
      "text/plain": [
       "<Figure size 450x262.5 with 1 Axes>"
      ]
     },
     "metadata": {},
     "output_type": "display_data"
    }
   ],
   "source": [
    "prior_mu.plot(label='prior')\n",
    "decorate(ylabel='PDF')"
   ]
  },
  {
   "cell_type": "markdown",
   "metadata": {},
   "source": [
    "For the prior distribution of `sigma`, we could use some background information about the device.\n",
    "For example, based on similar devices, what values of `sigma` would be expected?\n",
    "I'll use a gamma distribution to construct a prior PMF, but it could be anything."
   ]
  },
  {
   "cell_type": "code",
   "execution_count": 8,
   "metadata": {},
   "outputs": [],
   "source": [
    "from scipy.stats import gamma\n",
    "\n",
    "alpha = 2\n",
    "beta = 0.5\n",
    "\n",
    "sigmas = np.linspace(0.01, 5, 101)\n",
    "ps = gamma(alpha, scale=beta).pdf(sigmas)"
   ]
  },
  {
   "cell_type": "code",
   "execution_count": 9,
   "metadata": {},
   "outputs": [
    {
     "data": {
      "text/plain": [
       "20.03019853279729"
      ]
     },
     "execution_count": 9,
     "metadata": {},
     "output_type": "execute_result"
    }
   ],
   "source": [
    "prior_sigma = Pmf(ps, sigmas)\n",
    "prior_sigma.index.name = 'sigma'\n",
    "prior_sigma.normalize()"
   ]
  },
  {
   "cell_type": "code",
   "execution_count": 10,
   "metadata": {},
   "outputs": [
    {
     "data": {
      "image/png": "[encoded data removed]",
      "text/plain": [
       "<Figure size 450x262.5 with 1 Axes>"
      ]
     },
     "metadata": {},
     "output_type": "display_data"
    }
   ],
   "source": [
    "prior_sigma.plot(label='prior')\n",
    "decorate(ylabel='PDF')"
   ]
  },
  {
   "cell_type": "markdown",
   "metadata": {},
   "source": [
    "This distribution represents the background knowledge that we expect the standard deviation to be less than 2, and we'd be surprised by anything much higher than that.\n",
    "\n",
    "I'll use this function to make a Pandas `DataFrame` to represent the joint prior."
   ]
  },
  {
   "cell_type": "code",
   "execution_count": 11,
   "metadata": {},
   "outputs": [],
   "source": [
    "def make_joint(s1, s2):\n",
    "    \"\"\"Compute the outer product of two Series.\n",
    "\n",
    "    First Series goes across the columns;\n",
    "    second goes down the rows.\n",
    "\n",
    "    s1: Series\n",
    "    s2: Series\n",
    "\n",
    "    return: DataFrame\n",
    "    \"\"\"\n",
    "    X, Y = np.meshgrid(s1, s2, indexing='ij')\n",
    "    return pd.DataFrame(X*Y, index=s1.index, columns=s2.index)"
   ]
  },
  {
   "cell_type": "code",
   "execution_count": 12,
   "metadata": {},
   "outputs": [
    {
     "data": {
      "text/plain": [
       "(51, 101)"
      ]
     },
     "execution_count": 12,
     "metadata": {},
     "output_type": "execute_result"
    }
   ],
   "source": [
    "prior = make_joint(prior_mu, prior_sigma)\n",
    "prior.shape"
   ]
  },
  {
   "cell_type": "markdown",
   "metadata": {},
   "source": [
    "I'll use the following function to make a contour plot of the prior."
   ]
  },
  {
   "cell_type": "code",
   "execution_count": 13,
   "metadata": {},
   "outputs": [],
   "source": [
    "def plot_contour(joint):\n",
    "    \"\"\"Plot a joint distribution.\n",
    "\n",
    "    joint: DataFrame representing a joint PMF\n",
    "    \"\"\"\n",
    "    low = joint.to_numpy().min()\n",
    "    high = joint.to_numpy().max()\n",
    "    levels = np.linspace(low, high, 6)\n",
    "    levels = levels[1:]\n",
    "\n",
    "    cs = plt.contour(joint.columns, joint.index, joint, levels=levels, linewidths=1)\n",
    "    decorate(xlabel=joint.columns.name,\n",
    "             ylabel=joint.index.name)\n",
    "    return cs"
   ]
  },
  {
   "cell_type": "code",
   "execution_count": 14,
   "metadata": {},
   "outputs": [
    {
     "data": {
      "image/png": "[encoded data removed]",
      "text/plain": [
       "<Figure size 450x262.5 with 1 Axes>"
      ]
     },
     "metadata": {},
     "output_type": "display_data"
    }
   ],
   "source": [
    "plot_contour(prior)\n",
    "decorate()"
   ]
  },
  {
   "cell_type": "markdown",
   "metadata": {},
   "source": [
    "## The update\n",
    "\n",
    "To use the data to update the prior, we have to compute the likelihood of the data for each possible pair of `mu` and `sigma`.\n",
    "Can can do that by creating a 3-D mesh with the possible values of `mu` and `sigma`, and the observed values of the data."
   ]
  },
  {
   "cell_type": "code",
   "execution_count": 15,
   "metadata": {},
   "outputs": [
    {
     "data": {
      "text/plain": [
       "(51, 101, 6)"
      ]
     },
     "execution_count": 15,
     "metadata": {},
     "output_type": "execute_result"
    }
   ],
   "source": [
    "MU, SIGMA, DATA = np.meshgrid(prior_mu.index, prior_sigma.index, data,\n",
    "                              indexing='ij')\n",
    "MU.shape"
   ]
  },
  {
   "cell_type": "markdown",
   "metadata": {},
   "source": [
    "Now we can evaluate the normal distribution for each data point and each pair of `mu` and `sigma`."
   ]
  },
  {
   "cell_type": "code",
   "execution_count": 16,
   "metadata": {},
   "outputs": [
    {
     "data": {
      "text/plain": [
       "(51, 101, 6)"
      ]
     },
     "execution_count": 16,
     "metadata": {},
     "output_type": "execute_result"
    }
   ],
   "source": [
    "densities = norm(MU, SIGMA).pdf(DATA)\n",
    "densities.shape"
   ]
  },
  {
   "cell_type": "markdown",
   "metadata": {},
   "source": [
    "The likelihood of each pair is the product of the densities for the data points."
   ]
  },
  {
   "cell_type": "code",
   "execution_count": 17,
   "metadata": {},
   "outputs": [
    {
     "data": {
      "text/plain": [
       "(51, 101)"
      ]
     },
     "execution_count": 17,
     "metadata": {},
     "output_type": "execute_result"
    }
   ],
   "source": [
    "likelihood = densities.prod(axis=2)\n",
    "likelihood.shape"
   ]
  },
  {
   "cell_type": "markdown",
   "metadata": {},
   "source": [
    "The unnormalized posterior is the product of the prior and the likelihood."
   ]
  },
  {
   "cell_type": "code",
   "execution_count": 18,
   "metadata": {},
   "outputs": [],
   "source": [
    "posterior = prior * likelihood"
   ]
  },
  {
   "cell_type": "markdown",
   "metadata": {},
   "source": [
    "We can normalize it like this."
   ]
  },
  {
   "cell_type": "code",
   "execution_count": 19,
   "metadata": {},
   "outputs": [],
   "source": [
    "def normalize(joint):\n",
    "    \"\"\"Normalize a joint distribution.\n",
    "\n",
    "    joint: DataFrame\n",
    "    \"\"\"\n",
    "    prob_data = joint.to_numpy().sum()\n",
    "    joint /= prob_data\n",
    "    return prob_data"
   ]
  },
  {
   "cell_type": "code",
   "execution_count": 20,
   "metadata": {},
   "outputs": [
    {
     "data": {
      "text/plain": [
       "(51, 101)"
      ]
     },
     "execution_count": 20,
     "metadata": {},
     "output_type": "execute_result"
    }
   ],
   "source": [
    "normalize(posterior)\n",
    "posterior.shape"
   ]
  },
  {
   "cell_type": "markdown",
   "metadata": {},
   "source": [
    "And here's what the result looks like."
   ]
  },
  {
   "cell_type": "code",
   "execution_count": 21,
   "metadata": {},
   "outputs": [
    {
     "data": {
      "image/png": "[encoded data removed]",
      "text/plain": [
       "<Figure size 450x262.5 with 1 Axes>"
      ]
     },
     "metadata": {},
     "output_type": "display_data"
    }
   ],
   "source": [
    "plot_contour(posterior)\n",
    "decorate()"
   ]
  },
  {
   "cell_type": "markdown",
   "metadata": {},
   "source": [
    "Here's the posterior distribution of `sigma` compared to the prior."
   ]
  },
  {
   "cell_type": "code",
   "execution_count": 22,
   "metadata": {},
   "outputs": [],
   "source": [
    "def marginal(joint, axis):\n",
    "    \"\"\"Compute a marginal distribution.\n",
    "\n",
    "    axis=0 returns the marginal distribution of the first variable\n",
    "    axis=1 returns the marginal distribution of the second variable\n",
    "\n",
    "    joint: DataFrame representing a joint distribution\n",
    "    axis: int axis to sum along\n",
    "\n",
    "    returns: Pmf\n",
    "    \"\"\"\n",
    "    return Pmf(joint.sum(axis=axis))"
   ]
  },
  {
   "cell_type": "code",
   "execution_count": 23,
   "metadata": {},
   "outputs": [],
   "source": [
    "posterior_sigma = marginal(posterior, 0)"
   ]
  },
  {
   "cell_type": "code",
   "execution_count": 24,
   "metadata": {},
   "outputs": [
    {
     "data": {
      "image/png": "[encoded data removed]",
      "text/plain": [
       "<Figure size 450x262.5 with 1 Axes>"
      ]
     },
     "metadata": {},
     "output_type": "display_data"
    }
   ],
   "source": [
    "prior_sigma.plot(color='gray', label='prior')\n",
    "posterior_sigma.plot(label='posterior')\n",
    "\n",
    "decorate(xlabel='sigma', ylabel='PDF')"
   ]
  },
  {
   "cell_type": "markdown",
   "metadata": {},
   "source": [
    "The posterior mean of `sigma` is about 0.4, somewhat higher than the standard deviation of the data."
   ]
  },
  {
   "cell_type": "code",
   "execution_count": 25,
   "metadata": {},
   "outputs": [
    {
     "data": {
      "text/plain": [
       "(0.40440859064493323, 0.2687419249432851)"
      ]
     },
     "execution_count": 25,
     "metadata": {},
     "output_type": "execute_result"
    }
   ],
   "source": [
    "posterior_sigma.mean(), np.std(data)"
   ]
  },
  {
   "cell_type": "markdown",
   "metadata": {},
   "source": [
    "## Predictions\n",
    "\n",
    "The last part of OP's question is \"So, I'm wondering if there's a way to estimate the range of possibilities of what I would see if I could give 100 or 1000 samples?\"\n",
    "\n",
    "We can simulate a future experiment with larger sample size by drawing random pairs from the joint posterior distribution and generating simulated measurements.\n",
    "That's easier to do if we stack the posterior PMF."
   ]
  },
  {
   "cell_type": "code",
   "execution_count": 26,
   "metadata": {},
   "outputs": [
    {
     "data": {
      "text/html": [
       "<div>\n",
       "<style scoped>\n",
       "    .dataframe tbody tr th:only-of-type {\n",
       "        vertical-align: middle;\n",
       "    }\n",
       "\n",
       "    .dataframe tbody tr th {\n",
       "        vertical-align: top;\n",
       "    }\n",
       "\n",
       "    .dataframe thead th {\n",
       "        text-align: right;\n",
       "    }\n",
       "</style>\n",
       "<table border=\"1\" class=\"dataframe\">\n",
       "  <thead>\n",
       "    <tr style=\"text-align: right;\">\n",
       "      <th></th>\n",
       "      <th></th>\n",
       "      <th>probs</th>\n",
       "    </tr>\n",
       "    <tr>\n",
       "      <th>mu</th>\n",
       "      <th>sigma</th>\n",
       "      <th></th>\n",
       "    </tr>\n",
       "  </thead>\n",
       "  <tbody>\n",
       "    <tr>\n",
       "      <th rowspan=\"3\" valign=\"top\">2.0</th>\n",
       "      <th>0.0100</th>\n",
       "      <td>0.0</td>\n",
       "    </tr>\n",
       "    <tr>\n",
       "      <th>0.0599</th>\n",
       "      <td>0.0</td>\n",
       "    </tr>\n",
       "    <tr>\n",
       "      <th>0.1098</th>\n",
       "      <td>0.0</td>\n",
       "    </tr>\n",
       "  </tbody>\n",
       "</table>\n",
       "</div>"
      ],
      "text/plain": [
       "mu   sigma \n",
       "2.0  0.0100    0.0\n",
       "     0.0599    0.0\n",
       "     0.1098    0.0\n",
       "dtype: float64"
      ]
     },
     "execution_count": 26,
     "metadata": {},
     "output_type": "execute_result"
    }
   ],
   "source": [
    "posterior_pmf = Pmf(posterior.stack())\n",
    "posterior_pmf.head()"
   ]
  },
  {
   "cell_type": "markdown",
   "metadata": {},
   "source": [
    "Now we can use NumPy's choice function to choose a random pair of `mu` and `sigma`.\n",
    "For each random pair, we can generate 1000 simulated measurements from a normal distribution, and plot the distribution of the results."
   ]
  },
  {
   "cell_type": "code",
   "execution_count": 27,
   "metadata": {},
   "outputs": [
    {
     "data": {
      "image/png": "[encoded data removed]",
      "text/plain": [
       "<Figure size 450x262.5 with 1 Axes>"
      ]
     },
     "metadata": {},
     "output_type": "display_data"
    }
   ],
   "source": [
    "for i in range(11):\n",
    "    mu, sigma = np.random.choice(posterior_pmf.index, p=posterior_pmf)\n",
    "    sample = np.random.normal(mu, sigma, size=1000)\n",
    "    sns.kdeplot(sample, alpha=0.3)\n",
    "    \n",
    "decorate(xlabel='K+ (mmol/L)')"
   ]
  },
  {
   "cell_type": "markdown",
   "metadata": {},
   "source": [
    "Each line shows the distribution of a possible sample of 1000 measurements. You can see that they vary in both location and spread, due to the uncertainty represented by the posterior distribution of `mu` and `sigma`."
   ]
  },
  {
   "cell_type": "markdown",
   "metadata": {},
   "source": [
    "## Discussion\n",
    "\n",
    "The normal distribution is probably a good enough model for this data, but for some pairs of `mu` and `sigma` in the prior, the normal distribution extends into negative values with non-negligible probability -- and for measurements like these, negative values are nonsensical.\n",
    "\n",
    "An alternative would be to run the whole calculation with the logarithms of the measurements.\n",
    "In effect, this would model the distribution of the data as lognormal, which is generally a good choice for measurements like these.\n",
    "\n",
    "In this example, the sample size is small, so the choice of the prior is important.\n",
    "I suspect there is more background information we could use to make a better choice for the prior distribution of `sigma`.\n",
    "\n",
    "This example demonstrates the use of grid methods for Bayesian statistics.\n",
    "For many common statistical questions, grid methods like this are simple and fast to compute, especially with libraries like NumPy and SciPy.\n",
    "And they make it possible to answer many useful probabilistic questions."
   ]
  },
  {
   "cell_type": "markdown",
   "metadata": {},
   "source": [
    "[*Data Q&A: Answering the real questions with Python*](https://allendowney.github.io/DataQnA/index.html)\n",
    "\n",
    "Copyright 2024 [Allen B. Downey](https://allendowney.com)\n",
    "\n",
    "License: [Creative Commons Attribution-NonCommercial-ShareAlike 4.0 International](https://creativecommons.org/licenses/by-nc-sa/4.0/)"
   ]
  }
 ],
 "metadata": {
  "celltoolbar": "Tags",
  "kernelspec": {
   "display_name": "Python 3 (ipykernel)",
   "language": "python",
   "name": "python3"
  },
  "language_info": {
   "codemirror_mode": {
    "name": "ipython",
    "version": 3
   },
   "file_extension": ".py",
   "mimetype": "text/x-python",
   "name": "python",
   "nbconvert_exporter": "python",
   "pygments_lexer": "ipython3",
   "version": "3.10.14"
  }
 },
 "nbformat": 4,
 "nbformat_minor": 2
}
