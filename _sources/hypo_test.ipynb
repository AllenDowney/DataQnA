{
 "cells": [
  {
   "cell_type": "markdown",
   "metadata": {},
   "source": [
    "# Testing percentiles\n",
    "\n",
    "Here's a [question from the Reddit statistics forum](https://www.reddit.com/r/statistics/comments/1cdpblu/comment/l1e9zaf/).\n",
    "\n",
    "> I have two different samples (about 100 observations per sample) drawn from the same population (or that's what I hypothesize; the populations may in fact be different). The samples and population are approximately normal in distribution.\n",
    ">\n",
    "> I want to estimate the 85th percentile value for both samples, and then see if there is a statistically significant difference between these two values. I cannot use a normal z- or t-test for this, can I? It's my current understanding that those tests would only work if I were comparing the means of the samples.\n",
    ">\n",
    "> As an extension of this, say I wanted to compare one of these 85th percentile values to a fixed value; again, if I was looking at the mean, I would just construct a confidence interval and see if the fixed value fell within it...but the percentile stuff is throwing me for a loop.\n",
    ">\n",
    "> This is [...] related to a research project I'm working on (in my job).\n",
    "\n",
    "\n",
    "There are two questions here.\n",
    "The first is about testing a difference in percentiles between two groups.\n",
    "The second is about the difference between a percentile from an observed sample and an expected value.\n",
    "\n",
    "We'll answer the first question with a permutation test, and we'll answer the second in two ways: bootstrap resampling and a Gaussian model."
   ]
  },
  {
   "cell_type": "markdown",
   "metadata": {
    "tags": [
     "remove-print"
    ]
   },
   "source": [
    "[Click here to run this notebook on Colab](https://colab.research.google.com/github/AllenDowney/DataQnA/blob/main/nb/test_percentile.ipynb)."
   ]
  },
  {
   "cell_type": "markdown",
   "metadata": {
    "tags": [
     "remove-print"
    ]
   },
   "source": [
    "I'll download a utilities module with some of my frequently-used functions, and then import the usual libraries."
   ]
  },
  {
   "cell_type": "code",
   "execution_count": 1,
   "metadata": {
    "tags": [
     "remove-print"
    ]
   },
   "outputs": [],
   "source": [
    "from os.path import basename, exists\n",
    "\n",
    "def download(url):\n",
    "    filename = basename(url)\n",
    "    if not exists(filename):\n",
    "        from urllib.request import urlretrieve\n",
    "\n",
    "        local, _ = urlretrieve(url, filename)\n",
    "        print(\"Downloaded \" + str(local))\n",
    "    return filename\n",
    "\n",
    "download('https://github.com/AllenDowney/DataQnA/raw/main/nb/utils.py')\n",
    "\n",
    "import numpy as np\n",
    "import matplotlib.pyplot as plt\n",
    "import pandas as pd\n",
    "import seaborn as sns\n",
    "\n",
    "from utils import decorate"
   ]
  },
  {
   "cell_type": "code",
   "execution_count": 2,
   "metadata": {
    "tags": [
     "hide-cell"
    ]
   },
   "outputs": [],
   "source": [
    "# install the empiricaldist library, if necessary\n",
    "\n",
    "try:\n",
    "    import empiricaldist\n",
    "except ImportError:\n",
    "    !pip install empiricaldist"
   ]
  },
  {
   "cell_type": "markdown",
   "metadata": {},
   "source": [
    "\n",
    "\n",
    "\n",
    "\n",
    "In my previous article I argued that classical statistical inference is only mostly wrong.  About null-hypothesis significance testing (NHST),  I wrote:\n",
    "\n",
    "\n",
    "“If the p-value is small, you can conclude that the fourth possibility is unlikely, and infer that the other three possibilities are more likely.”\n",
    "\n",
    "\n",
    "Where “the fourth possibility” I referred to was:\n",
    "\n",
    "\n",
    "“The apparent effect might be due to chance; that is, the difference might appear in a random sample, but not in the general population.”\n",
    "\n",
    "\n",
    "Several commenters chastised me; for example:\n",
    "\n",
    "\n",
    "> “All a p-value tells you is the probability of your data (or data more extreme) given the null is true. They say nothing about whether your data is ‘due to chance.’”\n",
    "\n",
    "\n",
    "My correspondent is partly right.  The p-value is the probability of the apparent effect under the null hypothesis, which is not the same thing as the probability we should assign to the null hypothesis after seeing the data.  But they are related to each other by Bayes’s theorem, which is why I said that you can use the first to make an inference about the second.\n",
    "\n",
    "\n",
    "Let me explain by showing a few examples.  I’ll start with what I think is a common scenario:  suppose you are reading a scientific paper that reports a new relationship between two variables.  There are (at least) three explanations you might consider for this apparent effect:\n",
    "\n",
    "\n",
    "A:  The effect might be actual; that is, it might exist in the unobserved population as well as the observed sample.\n",
    "B:  The effect might be bogus, caused by errors like sampling bias and measurement error, or by fraud.\n",
    "C:  The effect might be due to chance, appearing randomly in the sample but not in the population.\n",
    "\n",
    "\n",
    "If we think of these as competing hypotheses to explain the apparent effect, we can use Bayes’s theorem to update our belief in each hypothesis.\n",
    "\n",
    "\n",
    "Scenario #1\n",
    "\n",
    "\n",
    "As a first scenario, suppose that the apparent effect is plausible, and the p-value is low.  The following table shows what the Bayesian update might look like:\n",
    "\n",
    "\n",
    "\n",
    "\t\n",
    "Prior\n",
    "\t\n",
    "Likelihood\n",
    "\t\n",
    "Posterior\n",
    "Actual\n",
    "\t\n",
    "70\n",
    "\t\n",
    "0.5–1.0\n",
    "\t\n",
    "~75\n",
    "Bogus\n",
    "\t\n",
    "20\n",
    "\t\n",
    "0.5–1.0\n",
    "\t\n",
    "~25\n",
    "Chance\n",
    "\t\n",
    "10\n",
    "\t\n",
    "p = 0.01\n",
    "\t\n",
    "~0.001\n",
    "\n",
    "\n",
    "Since the apparent effect is plausible, I give it a prior probability of 70%.  I assign a prior of 20% to the hypothesis that the result is to due to error or fraud, and 10% to the hypothesis that it’s due to chance.  If you don’t agree with the numbers I chose, we’ll look at some alternatives soon.  Or feel free to plug in your own.\n",
    "\n",
    "\n",
    "Now we compute the likelihood of the apparent effect under each hypothesis.  If the effect is real, it is quite likely to appear in the sample, so I figure the likelihood is between 50% and 100%.   And in the presence of error or fraud, I assume the apparent effect is also quite likely.\n",
    "\n",
    "\n",
    "If the effect is due to chance, we can compute the likelihood directly.  The likelihood of the data under the null hypothesis is the p-value.  As an example, suppose p=0.01.\n",
    "\n",
    "\n",
    "The table shows the resulting posterior probabilities.  The hypothesis that the effect is due to chance has been almost eliminated, and the other hypotheses are marginally more likely.  The hypothesis test helps a little, by ruling out one source of error, but it doesn't help a lot, because randomness was not the source of error I was most worried about.\n",
    "\n",
    "\n",
    "Scenario #2\n",
    "\n",
    "\n",
    "In the second scenario, suppose the p-value is low, again, but the apparent effect is less plausible.  In that case, I would assign a lower prior probability to Actual and a higher prior to Bogus.  I am still inclined to assign a low priority to Chance, simply because I don’t think it is the most common cause of scientific error.\n",
    "\n",
    "\n",
    "\n",
    "\t\n",
    "Prior\n",
    "\t\n",
    "Likelihood\n",
    "\t\n",
    "Posterior\n",
    "Actual\n",
    "\t\n",
    "20\n",
    "\t\n",
    "0.5–1.0\n",
    "\t\n",
    "~25\n",
    "Bogus\n",
    "\t\n",
    "70\n",
    "\t\n",
    "0.5–1.0\n",
    "\t\n",
    "~75\n",
    "Chance\n",
    "\t\n",
    "10\n",
    "\t\n",
    "p = 0.01\n",
    "\t\n",
    "~0.001\n",
    "\n",
    "\n",
    "The results are pretty much the same as in Scenario #1: we can be reasonably confident that the result is not due to chance.  But again, the hypothesis test does not make a lot of difference in my belief about the validity of the paper.\n",
    "\n",
    "\n",
    "I believe these examples cover a large majority of real-world scenarios, and in each case my claim holds up:  If the p-value is small, you can conclude that apparent effect is unlikely to be due to chance, and the other possibilities (Actual and Bogus) are more likely.\n",
    "\n",
    "Scenario #3\n",
    "\n",
    "I admit that there are situations where this conclusion would not be valid.  For example, if the effect is implausible and you have good reason to think that error and fraud are unlikely, you might start with a larger prior belief in Chance.  In that case a p-value like 0.01 might not be sufficient to rule out Chance:\n",
    "\n",
    "\n",
    "\n",
    "\t\n",
    "Prior\n",
    "\t\n",
    "Likelihood\n",
    "\t\n",
    "Posterior\n",
    "Actual\n",
    "\t\n",
    "10\n",
    "\t\n",
    "0.5\n",
    "\t\n",
    "46\n",
    "Bogus\n",
    "\t\n",
    "10\n",
    "\t\n",
    "0.5\n",
    "\t\n",
    "46\n",
    "Chance\n",
    "\t\n",
    "80\n",
    "\t\n",
    "p = 0.01\n",
    "\t\n",
    "8\n",
    "\n",
    "\n",
    "But even in this contrived scenario, the p-value has a substantial effect on our belief in the Chance hypothesis.  And a somewhat smaller p-value, like 0.001, would be sufficient to rule out Chance as a likely cause of error.\n",
    "\n",
    "\n",
    "In summary, NHST is problematic but not useless.  If you think an apparent effect might be due to chance, choosing an appropriate null hypothesis and computing a p-value is a reasonable way to check."
   ]
  },
  {
   "cell_type": "markdown",
   "metadata": {},
   "source": [
    "## Discussion\n",
    "\n"
   ]
  },
  {
   "cell_type": "markdown",
   "metadata": {},
   "source": [
    "*Data Q&A: Answering the real questions with Python*\n",
    "\n",
    "Copyright 2024 [Allen B. Downey](https://allendowney.com)\n",
    "\n",
    "License: [Creative Commons Attribution-NonCommercial-ShareAlike 4.0 International](https://creativecommons.org/licenses/by-nc-sa/4.0/)"
   ]
  },
  {
   "cell_type": "code",
   "execution_count": null,
   "metadata": {},
   "outputs": [],
   "source": []
  }
 ],
 "metadata": {
  "celltoolbar": "Tags",
  "kernelspec": {
   "display_name": "Python 3 (ipykernel)",
   "language": "python",
   "name": "python3"
  },
  "language_info": {
   "codemirror_mode": {
    "name": "ipython",
    "version": 3
   },
   "file_extension": ".py",
   "mimetype": "text/x-python",
   "name": "python",
   "nbconvert_exporter": "python",
   "pygments_lexer": "ipython3",
   "version": "3.10.14"
  }
 },
 "nbformat": 4,
 "nbformat_minor": 2
}
