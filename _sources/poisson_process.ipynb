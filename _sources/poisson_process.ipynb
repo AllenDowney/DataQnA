{
 "cells": [
  {
   "cell_type": "markdown",
   "id": "98d1457b",
   "metadata": {},
   "source": [
    "# Poisson Processes\n",
    "\n",
    "Here's a [question from the Reddit statistics forum](https://www.reddit.com/r/statistics/comments/i9t1fq/q_poisson_process_vs_poisson_distribution/).\n",
    "\n",
    "> I am hoping someone can give me a layman's explanation of the difference between the Poisson Process and the Poisson Distribution. I've read a couple different articles across Wikipedia, StackExchange, Statisticshowto, etc, but it's not quite sinking in.\n",
    ">\n",
    "> As best I understand it (in layman), the Poisson Process is a sampling of \"success\" data points over a period of time (eg, the number of ships that dock at a port in a given hour), and the Poisson Distribution is one of a few distribution functions whose shape may or may not represent the data collected from the process. Would this be correct to say?\n",
    "\n",
    "This is a good question, and OP did a pretty good job answering it.\n",
    "Continuing their example, suppose you are a ship spotter -- that is, someone whose hobby is to observe and identify ships.\n",
    "You might be interested in the number of ships that arrive during an interval in time, or the time between arrivals, or other related questions.\n",
    "\n",
    "A **Poisson process** is a model used to describe situations like this.\n",
    "In the model, an event like the arrival of a ship is treated as an instantaneous point in time -- and it's considered to be random, with some probability of occurring at any instant.\n",
    "In the simplest version of a Poisson process, that probability is constant, so it doesn't depend on time, the number of previous events, or the time since a previous event.\n",
    "Under that assumption, the number of events that happen in an interval of time follows a **Poisson distribution**, and the time between events follows an exponential distribution.\n",
    "\n",
    "Of course, the real world is more complicated than that.\n",
    "Ships might be more likely to arrive during the day, or at certain times of day.\n",
    "There might be a minimum time between arrivals, to avoid traffic.\n",
    "Or there might be a maximum capacity at the harbor, limiting the number of arrivals.\n",
    "\n",
    "But the Poisson process can be a useful model even if its assumptions are not strictly true.\n",
    "To demonstrate, let's consider another system that involves events that occur over time, goal-scoring in hockey."
   ]
  },
  {
   "cell_type": "markdown",
   "id": "6236b046",
   "metadata": {
    "tags": [
     "remove-print"
    ]
   },
   "source": [
    "[Click here to run this notebook on Colab](https://colab.research.google.com/github/AllenDowney/DataQnA/blob/main/nb/poisson_process.ipynb)."
   ]
  },
  {
   "cell_type": "markdown",
   "id": "dc204c6b",
   "metadata": {
    "tags": [
     "remove-print"
    ]
   },
   "source": [
    "I'll download a utilities module with some of my frequently-used functions, and then import the usual libraries."
   ]
  },
  {
   "cell_type": "code",
   "execution_count": 1,
   "id": "41ffa5f5",
   "metadata": {
    "tags": [
     "remove-print",
     "hide-cell"
    ]
   },
   "outputs": [],
   "source": [
    "from os.path import basename, exists\n",
    "\n",
    "def download(url):\n",
    "    filename = basename(url)\n",
    "    if not exists(filename):\n",
    "        from urllib.request import urlretrieve\n",
    "\n",
    "        local, _ = urlretrieve(url, filename)\n",
    "        print(\"Downloaded \" + str(local))\n",
    "    return filename\n",
    "\n",
    "download('https://github.com/AllenDowney/DataQnA/raw/main/nb/utils.py');"
   ]
  },
  {
   "cell_type": "code",
   "execution_count": 2,
   "id": "d2f56110",
   "metadata": {
    "tags": [
     "remove-print",
     "hide-cell"
    ]
   },
   "outputs": [],
   "source": [
    "# install the empiricaldist library, if necessary\n",
    "\n",
    "try:\n",
    "    import empiricaldist\n",
    "except ImportError:\n",
    "    !pip install empiricaldist"
   ]
  },
  {
   "cell_type": "code",
   "execution_count": 3,
   "id": "9fb94810",
   "metadata": {
    "tags": [
     "remove-print",
     "hide-cell"
    ]
   },
   "outputs": [],
   "source": [
    "import numpy as np\n",
    "import matplotlib.pyplot as plt\n",
    "import pandas as pd\n",
    "import seaborn as sns\n",
    "\n",
    "from utils import decorate"
   ]
  },
  {
   "cell_type": "markdown",
   "id": "9a38b339",
   "metadata": {},
   "source": [
    "## How Poisson is Hockey?\n",
    "\n",
    "From HockeyReference, I downloaded results of every game of the National Hockey League (NHL) 2023-2024 regular season (not including the playoffs).\n",
    "I extracted information about goals scored during 60 minutes of regulation play, not including overtime or tie-breaking shootouts."
   ]
  },
  {
   "cell_type": "markdown",
   "id": "e87d9c45",
   "metadata": {
    "tags": [
     "remove-print"
    ]
   },
   "source": [
    "Raw data downloaded from <https://www.hockey-reference.com/leagues/NHL_2024_games.html> on July 16, 2024."
   ]
  },
  {
   "cell_type": "code",
   "execution_count": 4,
   "id": "908a1236",
   "metadata": {},
   "outputs": [],
   "source": [
    "download(\"https://github.com/AllenDowney/DataQnA/raw/main/data/nhl_2023_2024.hdf\");"
   ]
  },
  {
   "cell_type": "markdown",
   "id": "2a2c9b62",
   "metadata": {},
   "source": [
    "The results are in an HDF file with one key for each game and a list of times when a goal was scored, recorded in seconds since the beginning of the game."
   ]
  },
  {
   "cell_type": "code",
   "execution_count": 5,
   "id": "e60cb3b9",
   "metadata": {},
   "outputs": [
    {
     "data": {
      "text/plain": [
       "1312"
      ]
     },
     "execution_count": 5,
     "metadata": {},
     "output_type": "execute_result"
    }
   ],
   "source": [
    "filename = \"nhl_2023_2024.hdf\"\n",
    "\n",
    "with pd.HDFStore(filename, \"r\") as store:\n",
    "    keys = store.keys()\n",
    "len(keys)"
   ]
  },
  {
   "cell_type": "markdown",
   "id": "e799efd5",
   "metadata": {},
   "source": [
    "The following loop reads the file and collects the time in seconds, since the beginning of the game, for each of 7896 goals."
   ]
  },
  {
   "cell_type": "code",
   "execution_count": 6,
   "id": "d41c56e9",
   "metadata": {},
   "outputs": [
    {
     "data": {
      "text/plain": [
       "7896"
      ]
     },
     "execution_count": 6,
     "metadata": {},
     "output_type": "execute_result"
    }
   ],
   "source": [
    "all_times = []\n",
    "\n",
    "for key in keys:\n",
    "    times = pd.read_hdf(filename, key=key)\n",
    "    all_times.extend(times)\n",
    "    \n",
    "len(all_times)"
   ]
  },
  {
   "cell_type": "markdown",
   "id": "51e918df",
   "metadata": {},
   "source": [
    "If the Poisson assumptions are strictly true, and the probability of a goal is the same at any time, we expect the same number of goals during each minute of the game.\n",
    "To see if that's true, let's look at the PMF of goal times rounded off to minutes."
   ]
  },
  {
   "cell_type": "code",
   "execution_count": 7,
   "id": "1c0ab5b9",
   "metadata": {},
   "outputs": [],
   "source": [
    "from empiricaldist import Pmf\n",
    "\n",
    "minutes = np.array(all_times) // 60 + 0.5\n",
    "pmf_minutes = Pmf.from_seq(minutes)"
   ]
  },
  {
   "cell_type": "code",
   "execution_count": 8,
   "id": "9e054d96",
   "metadata": {},
   "outputs": [
    {
     "data": {
      "image/png": "[encoded data removed]",
      "text/plain": [
       "<Figure size 450x262.5 with 1 Axes>"
      ]
     },
     "metadata": {},
     "output_type": "display_data"
    }
   ],
   "source": [
    "pmf_minutes.bar(alpha=0.6)\n",
    "decorate(xlabel=\"Minute\", ylabel=\"PMF\")\n",
    "plt.savefig('poisson_process1.png', dpi=300)"
   ]
  },
  {
   "cell_type": "markdown",
   "id": "60befcf9",
   "metadata": {},
   "source": [
    "The most notable feature is that more goals are scored in the last few minutes of the game.\n",
    "If you are familiar with hockey, you know that near the end of a game, a team that is losing by one or two goals often replaces their goalie with a sixth offensive player, which increases their chances of scoring, but also increases the chance that the other team scores an empty net goal.\n",
    "\n",
    "To a lesser degree, it looks like goals are less likely during the first few minutes of the game."
   ]
  },
  {
   "cell_type": "markdown",
   "id": "b30ada55",
   "metadata": {},
   "source": [
    "## The Poisson Distribution\n",
    "\n",
    "But even if the world violates the assumptions of the Poisson process, the predictions of the model can be remarkably accurate.\n",
    "For example, a Poisson distribution fits the distribution of total goals scored with remarkable accuracy.\n",
    "\n",
    "The following loop reads the data file and collects the number of goals scored in each game."
   ]
  },
  {
   "cell_type": "code",
   "execution_count": 9,
   "id": "2d9ed7f2",
   "metadata": {},
   "outputs": [],
   "source": [
    "goals = []\n",
    "\n",
    "for key in keys:\n",
    "    times = pd.read_hdf(filename, key=key)\n",
    "    n = len(times)\n",
    "    goals.append(n)"
   ]
  },
  {
   "cell_type": "markdown",
   "id": "0b49d426",
   "metadata": {},
   "source": [
    "One characteristic of a Poisson distribution is that the mean equals the variance.\n",
    "Let's see if that's true for the empirical distribution of goals."
   ]
  },
  {
   "cell_type": "code",
   "execution_count": 10,
   "id": "231aa57f",
   "metadata": {},
   "outputs": [
    {
     "data": {
      "text/plain": [
       "(6.0182926829268295, 5.45698245092207)"
      ]
     },
     "execution_count": 10,
     "metadata": {},
     "output_type": "execute_result"
    }
   ],
   "source": [
    "np.mean(goals), np.var(goals)"
   ]
  },
  {
   "cell_type": "markdown",
   "id": "c256708c",
   "metadata": {},
   "source": [
    "It's close, but the variance is a little lower than the mean.\n",
    "Here's what the whole distribution looks like."
   ]
  },
  {
   "cell_type": "code",
   "execution_count": 11,
   "id": "2ae6bde6",
   "metadata": {},
   "outputs": [],
   "source": [
    "from empiricaldist import Pmf\n",
    "\n",
    "pmf_goals = Pmf.from_seq(goals, name=\"home goals\")"
   ]
  },
  {
   "cell_type": "code",
   "execution_count": 12,
   "id": "7f2c3f88",
   "metadata": {},
   "outputs": [
    {
     "data": {
      "image/png": "[encoded data removed]",
      "text/plain": [
       "<Figure size 450x262.5 with 1 Axes>"
      ]
     },
     "metadata": {},
     "output_type": "display_data"
    }
   ],
   "source": [
    "pmf_goals.bar()\n",
    "\n",
    "xticks = range(0, 18, 3)\n",
    "decorate(xlabel=\"Goals\", ylabel=\"PMF\", xticks=xticks)"
   ]
  },
  {
   "cell_type": "markdown",
   "id": "1a1cf66d",
   "metadata": {},
   "source": [
    "To see whether it follows a Poisson distribution, we'll compare the empirical CDF to the CDF of a Poisson distribution with the same mean."
   ]
  },
  {
   "cell_type": "code",
   "execution_count": 13,
   "id": "012b0081",
   "metadata": {},
   "outputs": [],
   "source": [
    "from scipy.stats import poisson\n",
    "\n",
    "ks = np.arange(18)\n",
    "lam = np.mean(goals)\n",
    "ps = poisson.cdf(ks, lam)"
   ]
  },
  {
   "cell_type": "code",
   "execution_count": 14,
   "id": "690b8f2b",
   "metadata": {},
   "outputs": [],
   "source": [
    "from empiricaldist import Cdf\n",
    "\n",
    "cdf_poisson = Cdf(ps, ks, name=\"Poisson model\")"
   ]
  },
  {
   "cell_type": "code",
   "execution_count": 15,
   "id": "358fd8d3",
   "metadata": {},
   "outputs": [
    {
     "data": {
      "image/png": "[encoded data removed]",
      "text/plain": [
       "<Figure size 450x262.5 with 1 Axes>"
      ]
     },
     "metadata": {},
     "output_type": "display_data"
    }
   ],
   "source": [
    "cdf_poisson.plot(color='gray', alpha=0.6)\n",
    "pmf_goals.make_cdf().plot(alpha=0.6)\n",
    "\n",
    "decorate(xlabel=\"Goals\", ylabel=\"CDF\", xticks=xticks)\n",
    "plt.savefig('poisson_process2.png', dpi=300)"
   ]
  },
  {
   "cell_type": "markdown",
   "id": "4c01126f",
   "metadata": {},
   "source": [
    "There might be fewer games with three goals than we expect in a Poisson distribution, but overall the  Poisson distribution fits the data well."
   ]
  },
  {
   "cell_type": "markdown",
   "id": "0e3174fd",
   "metadata": {},
   "source": [
    "## Times Between Goals\n",
    "\n",
    "Similarly, if the assumptions of the Poisson process are correct, the time between goals should follow an exponential distribution.\n",
    "To see whether it does, we can extract the intervals from the data."
   ]
  },
  {
   "cell_type": "code",
   "execution_count": 16,
   "id": "3434cfb9",
   "metadata": {},
   "outputs": [
    {
     "data": {
      "text/plain": [
       "7899"
      ]
     },
     "execution_count": 16,
     "metadata": {},
     "output_type": "execute_result"
    }
   ],
   "source": [
    "intervals = []\n",
    "\n",
    "for key in keys:\n",
    "    times = pd.read_hdf(filename, key=key)\n",
    "    diffs = np.diff(times, prepend=0) / 60\n",
    "    \n",
    "    if len(diffs) > 0:\n",
    "        intervals.extend(diffs)\n",
    "    else:\n",
    "        intervals.append(np.nan)\n",
    "\n",
    "len(intervals)"
   ]
  },
  {
   "cell_type": "markdown",
   "id": "c146a02a",
   "metadata": {},
   "source": [
    "If there are no goals in a game, we have observed an interval that is at least 60 minutes, but we don't know how much longer it would be if the game continued.\n",
    "Fortunately, this only happened three times, so this missing data doesn't affect the results much.\n",
    "\n",
    "Here's a summary of the times between goals."
   ]
  },
  {
   "cell_type": "code",
   "execution_count": 17,
   "id": "dff813da",
   "metadata": {},
   "outputs": [
    {
     "data": {
      "text/plain": [
       "count    7896.000000\n",
       "mean        8.639921\n",
       "std         7.939927\n",
       "min         0.066667\n",
       "25%         2.783333\n",
       "50%         6.275000\n",
       "75%        12.050000\n",
       "max        59.683333\n",
       "dtype: float64"
      ]
     },
     "execution_count": 17,
     "metadata": {},
     "output_type": "execute_result"
    }
   ],
   "source": [
    "pd.Series(intervals).describe()"
   ]
  },
  {
   "cell_type": "markdown",
   "id": "c0e1f038",
   "metadata": {},
   "source": [
    "The [shortest time between goals](https://youtu.be/s7JjoVs8FfQ?t=258) is 4 seconds.\n",
    "The [longest is 59 minutes 41 seconds](https://youtu.be/u_fwGuhB2PQ?t=545).\n",
    "Coincidentally, the same team scored both goals.\n",
    "\n",
    "[Two](https://youtu.be/wf5zsPMwFMk?t=12) [teams](https://youtu.be/-bjk3blqeGk?t=18) tied for the earliest goal, in 11 seconds.\n",
    "In the [highest scoring game](https://youtu.be/zkdyb8a76i4) Minnesota beat Vancouver 10 to 7, including two empty net goals.\n",
    "\n",
    "Here's the CDF of an exponential distribution with the same mean as the data (ignoring missing data)."
   ]
  },
  {
   "cell_type": "code",
   "execution_count": 18,
   "id": "e0e40d7b",
   "metadata": {},
   "outputs": [
    {
     "data": {
      "text/plain": [
       "0.11574179826343327"
      ]
     },
     "execution_count": 18,
     "metadata": {},
     "output_type": "execute_result"
    }
   ],
   "source": [
    "lam = 1 / np.nanmean(intervals)\n",
    "lam"
   ]
  },
  {
   "cell_type": "code",
   "execution_count": 19,
   "id": "f117e5a5",
   "metadata": {},
   "outputs": [],
   "source": [
    "from scipy.stats import expon\n",
    "\n",
    "ts = np.linspace(0, 60, 201)\n",
    "ps = expon.cdf(ts, scale=1/lam)\n",
    "cdf_model = Cdf(ps, ts, name=\"exponential model\")"
   ]
  },
  {
   "cell_type": "markdown",
   "id": "1a22bd39",
   "metadata": {},
   "source": [
    "And here's how the exponential model compares to the CDF of the data."
   ]
  },
  {
   "cell_type": "code",
   "execution_count": 20,
   "id": "5acf2eed",
   "metadata": {},
   "outputs": [],
   "source": [
    "cdf_intervals = Cdf.from_seq(intervals, name=\"data\", dropna=False)"
   ]
  },
  {
   "cell_type": "code",
   "execution_count": 21,
   "id": "2cd4a509",
   "metadata": {},
   "outputs": [
    {
     "data": {
      "image/png": "[encoded data removed]",
      "text/plain": [
       "<Figure size 450x262.5 with 1 Axes>"
      ]
     },
     "metadata": {},
     "output_type": "display_data"
    }
   ],
   "source": [
    "cdf_intervals.plot(alpha=0.5)\n",
    "cdf_model.plot(color='gray', alpha=0.5)\n",
    "\n",
    "decorate(xlabel=\"Time between goals (minutes)\", ylabel=\"CDF\")\n",
    "plt.savefig('poisson_process3.png', dpi=300)"
   ]
  },
  {
   "cell_type": "markdown",
   "id": "3cc6e4d0",
   "metadata": {},
   "source": [
    "The exponential model is a near-perfect fit for the data."
   ]
  },
  {
   "cell_type": "markdown",
   "id": "fa6c3ee2",
   "metadata": {},
   "source": [
    "## Correlation\n",
    "\n",
    "Finally, if the assumptions of the Poisson process are correct, there should be no correlation between successive intervals -- that is, the expected time until the next goal does not depend on the intervals between previous goals.\n",
    "\n",
    "To see whether that's true, we can select pairs of successive intervals."
   ]
  },
  {
   "cell_type": "code",
   "execution_count": 22,
   "id": "de326e1f",
   "metadata": {},
   "outputs": [],
   "source": [
    "pairs = []\n",
    "\n",
    "for key in keys:\n",
    "    times = pd.read_hdf(filename, key=key)\n",
    "    diffs = np.diff(times, prepend=0) / 60\n",
    "    \n",
    "    for i in range(len(diffs) - 1):\n",
    "        pair = (diffs[i], diffs[i + 1])\n",
    "        pairs.append(pair)"
   ]
  },
  {
   "cell_type": "code",
   "execution_count": 23,
   "id": "5bf5a034",
   "metadata": {},
   "outputs": [],
   "source": [
    "first, second = np.transpose(pairs)"
   ]
  },
  {
   "cell_type": "markdown",
   "id": "5f9f5c04",
   "metadata": {},
   "source": [
    "And compute the correlation between them."
   ]
  },
  {
   "cell_type": "code",
   "execution_count": 25,
   "id": "8cb37662",
   "metadata": {},
   "outputs": [
    {
     "data": {
      "text/plain": [
       "-0.07050687062964558"
      ]
     },
     "execution_count": 25,
     "metadata": {},
     "output_type": "execute_result"
    }
   ],
   "source": [
    "np.corrcoef(first, second)[0, 1]"
   ]
  },
  {
   "cell_type": "markdown",
   "id": "2f7a1377",
   "metadata": {},
   "source": [
    "The correlation is negative, which means a short interval is more likely to be followed by a long interval.\n",
    "But it is very weak, so the assumption that there is no correlation is a reasonable modeling decision.\n",
    "\n",
    "From these results, we can see that the Poisson process is a robust model -- even when its assumptions are not strictly true, its predictions are quite good, particularly the Poisson distribution of the number of events in an interval and the exponential distribution of intervals between events."
   ]
  },
  {
   "cell_type": "markdown",
   "id": "4875af33",
   "metadata": {},
   "source": [
    "## Discussion\n",
    "\n",
    "Poisson processes are a common source of confusion.\n",
    "One reason is the word \"process\", which doesn't mean much in this context.\n",
    "I think \"model\" would be clearer.\n",
    "\n",
    "Another reason for confusion is that it is hard to define a Poisson process in its most general form.\n",
    "In the examples we've considered, events happen over time, but they could also happen over space, or any other continuous domain.\n",
    "\n",
    "It's hard to write a definition for something so abstract -- usually the best way to understand it is to start with concrete examples."
   ]
  },
  {
   "cell_type": "markdown",
   "id": "a6b7b39c",
   "metadata": {},
   "source": [
    "[*Data Q&A: Answering the real questions with Python*](https://allendowney.github.io/DataQnA/index.html)\n",
    "\n",
    "Copyright 2024 [Allen B. Downey](https://allendowney.com)\n",
    "\n",
    "License: [Creative Commons Attribution-NonCommercial-ShareAlike 4.0 International](https://creativecommons.org/licenses/by-nc-sa/4.0/)"
   ]
  },
  {
   "cell_type": "code",
   "execution_count": null,
   "id": "25f2dbf9",
   "metadata": {},
   "outputs": [],
   "source": []
  }
 ],
 "metadata": {
  "celltoolbar": "Tags",
  "kernelspec": {
   "display_name": "Python 3 (ipykernel)",
   "language": "python",
   "name": "python3"
  },
  "language_info": {
   "codemirror_mode": {
    "name": "ipython",
    "version": 3
   },
   "file_extension": ".py",
   "mimetype": "text/x-python",
   "name": "python",
   "nbconvert_exporter": "python",
   "pygments_lexer": "ipython3",
   "version": "3.10.14"
  }
 },
 "nbformat": 4,
 "nbformat_minor": 5
}
