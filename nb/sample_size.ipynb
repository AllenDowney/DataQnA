{
 "cells": [
  {
   "cell_type": "markdown",
   "metadata": {},
   "source": [
    "# Sample Size Selection\n",
    "\n",
    "Here's a [question from the Reddit statistics forum](https://www.reddit.com/r/statistics/comments/1clg1md/determining_sample_size_q).\n",
    "\n",
    "> Hi Redditors, I am a civil engineer trying to solve a statistical problem for a current project I have. I have a pavement parking lot 125,000 sf in size. I performed nondestructive testing to render an opinion about the areas experiencing internal delimitation not observable from the surface. Based on preliminary testing, it was determined that 9% of the area is bad, and 11% of the total area 1 am unsure about (nonconclusive results if bad or good), and 80% of the area is good. I need to verify all areas using destructive testing, I will take out slabs 2 sf in size. my question is how many samples do I need to take from each area to confirm the results with 95% confidence interval? I have a basic background in statistics. I thought it was an iterative problem because I would not know the standard deviation for the sample to render an opinion about the population average with a 95% confidence interval until I test the samples extracted. However, the chatgpt approached the problem differently, not even using the sample size area in the analysis, it did a different analysis based on the proportion size, and 1 got so confused. any help would be truly appreciated. Thanks \n",
    "\n",
    "We have some modeling to do before we can answer this question.\n",
    "If the parking lot is 125,000 sf and each sample is 2 sf, we can imagine dividing the total area into 62,500 test patches.\n",
    "Of those, some unknown proportion are good and the rest are bad.\n",
    "\n",
    "In reality, there is probably some spatial correlation -- if a patch is bad, the nearby patches are more likely to be bad.\n",
    "But if we choose a sample of patches entirely at random, we can assume that they are independent.\n",
    "\n",
    "In that case, the goal is to estimate the proportion of patches that are bad, and to quantify the precision of that estimate by computing a confidence interval.\n",
    "\n",
    "The question is about sample size selection, but it doesn't say what the requirements are.\n",
    "For example, if the 95% confidence interval needs to be smaller than a given threshold, we could choose a sample size to meet that requirement.\n",
    "Since we don't have that information, we'll try a few sample sizes and see what we get."
   ]
  },
  {
   "cell_type": "markdown",
   "metadata": {
    "tags": [
     "remove-print"
    ]
   },
   "source": [
    "[Click here to run this notebook on Colab](https://colab.research.google.com/github/AllenDowney/DataQnA/blob/main/nb/heterosked.ipynb)."
   ]
  },
  {
   "cell_type": "markdown",
   "metadata": {
    "tags": [
     "remove-print"
    ]
   },
   "source": [
    "I'll download a utilities module with some of my frequently-used functions, and then import the usual libraries."
   ]
  },
  {
   "cell_type": "code",
   "execution_count": 1,
   "metadata": {
    "tags": [
     "remove-print"
    ]
   },
   "outputs": [],
   "source": [
    "from os.path import basename, exists\n",
    "\n",
    "def download(url):\n",
    "    filename = basename(url)\n",
    "    if not exists(filename):\n",
    "        from urllib.request import urlretrieve\n",
    "\n",
    "        local, _ = urlretrieve(url, filename)\n",
    "        print(\"Downloaded \" + str(local))\n",
    "    return filename\n",
    "\n",
    "download('https://github.com/AllenDowney/DataQnA/raw/main/nb/utils.py')\n",
    "\n",
    "import numpy as np\n",
    "import matplotlib.pyplot as plt\n",
    "import pandas as pd\n",
    "import seaborn as sns\n",
    "\n",
    "from utils import decorate"
   ]
  },
  {
   "cell_type": "code",
   "execution_count": 2,
   "metadata": {
    "tags": [
     "hide-cell"
    ]
   },
   "outputs": [],
   "source": [
    "# install the empiricaldist library, if necessary\n",
    "\n",
    "try:\n",
    "    import empiricaldist\n",
    "except ImportError:\n",
    "    !pip install empiricaldist"
   ]
  },
  {
   "cell_type": "markdown",
   "metadata": {},
   "source": [
    "## The beta-binomial model\n",
    "\n",
    "Based on preliminary testing, it is likely that the proportion of good patches is between 80% and 90%.\n",
    "We can take advantage of that information by using a beta distribution as a prior and updating it with the data.\n",
    "\n",
    "Here's a prior distribution that seems like a reasonable choice."
   ]
  },
  {
   "cell_type": "code",
   "execution_count": 3,
   "metadata": {},
   "outputs": [
    {
     "data": {
      "text/plain": [
       "0.8"
      ]
     },
     "execution_count": 3,
     "metadata": {},
     "output_type": "execute_result"
    }
   ],
   "source": [
    "from scipy.stats import beta as beta_dist\n",
    "\n",
    "prior = beta_dist(8, 2)\n",
    "prior.mean()"
   ]
  },
  {
   "cell_type": "markdown",
   "metadata": {},
   "source": [
    "The prior mean is at the low end of the likely range, so the results will be a little conservative.\n",
    "Here's what the prior looks like."
   ]
  },
  {
   "cell_type": "code",
   "execution_count": 4,
   "metadata": {},
   "outputs": [],
   "source": [
    "def plot_dist(dist, **options):\n",
    "    qs = np.linspace(0, 1, 101)\n",
    "    ps = dist.pdf(qs)\n",
    "    ps /= ps.sum()\n",
    "    plt.plot(qs, ps, **options)"
   ]
  },
  {
   "cell_type": "code",
   "execution_count": 5,
   "metadata": {},
   "outputs": [
    {
     "data": {
      "image/png": "[encoded data removed]",
      "text/plain": [
       "<Figure size 450x262.5 with 1 Axes>"
      ]
     },
     "metadata": {},
     "output_type": "display_data"
    }
   ],
   "source": [
    "plot_dist(prior, color='gray', label='prior')\n",
    "\n",
    "decorate(xlabel='Proportion good',\n",
    "         ylabel='PDF')"
   ]
  },
  {
   "cell_type": "markdown",
   "metadata": {},
   "source": [
    "The prior leaves open the possibility of values below 80% and greater than 90%, but it assigns them lower probabilities.\n",
    "\n",
    "Now let's generate a hypothetical dataset to see what the update looks like.\n",
    "Suppose the actual percentage of good patches is 90%, and we sample `n=10` of them."
   ]
  },
  {
   "cell_type": "code",
   "execution_count": 6,
   "metadata": {},
   "outputs": [],
   "source": [
    "def generate_data(n, p):\n",
    "    yes = int(round(n * p))\n",
    "    no = n - yes\n",
    "    return yes, no"
   ]
  },
  {
   "cell_type": "markdown",
   "metadata": {},
   "source": [
    "And suppose that, in line with expectations, 9 out of 10 tests are good."
   ]
  },
  {
   "cell_type": "code",
   "execution_count": 7,
   "metadata": {},
   "outputs": [
    {
     "data": {
      "text/plain": [
       "(9, 1)"
      ]
     },
     "execution_count": 7,
     "metadata": {},
     "output_type": "execute_result"
    }
   ],
   "source": [
    "yes, no = generate_data(n=10, p=0.9)\n",
    "yes, no"
   ]
  },
  {
   "cell_type": "markdown",
   "metadata": {},
   "source": [
    "Under the beta-binomial model, computing the posterior is really easy."
   ]
  },
  {
   "cell_type": "code",
   "execution_count": 8,
   "metadata": {},
   "outputs": [],
   "source": [
    "def update(dist, yes, no):\n",
    "    a, b = dist.args\n",
    "    return beta_dist(a + yes, b + no)"
   ]
  },
  {
   "cell_type": "markdown",
   "metadata": {},
   "source": [
    "The posterior mean is 85%, which is half way between the prior mean and the proportion observed in the data."
   ]
  },
  {
   "cell_type": "code",
   "execution_count": 9,
   "metadata": {},
   "outputs": [
    {
     "data": {
      "text/plain": [
       "0.85"
      ]
     },
     "execution_count": 9,
     "metadata": {},
     "output_type": "execute_result"
    }
   ],
   "source": [
    "posterior10 = update(prior, yes, no)\n",
    "posterior10.mean()"
   ]
  },
  {
   "cell_type": "markdown",
   "metadata": {},
   "source": [
    "And here's what the posterior distribution looks like."
   ]
  },
  {
   "cell_type": "code",
   "execution_count": 10,
   "metadata": {},
   "outputs": [
    {
     "data": {
      "image/png": "[encoded data removed]",
      "text/plain": [
       "<Figure size 450x262.5 with 1 Axes>"
      ]
     },
     "metadata": {},
     "output_type": "display_data"
    }
   ],
   "source": [
    "plot_dist(prior, color='gray', label='prior')\n",
    "plot_dist(posterior10, label='posterior10')\n",
    "\n",
    "decorate(xlabel='Proportion good',\n",
    "         ylabel='PDF')"
   ]
  },
  {
   "cell_type": "markdown",
   "metadata": {},
   "source": [
    "For optimization, it is ideal to take advantage of the entire posterior distribution, but if a confidence interval is required, we can compute it like this."
   ]
  },
  {
   "cell_type": "code",
   "execution_count": 11,
   "metadata": {},
   "outputs": [],
   "source": [
    "def confidence_interval(dist, percent=95):\n",
    "    low = (100 - percent) / 200\n",
    "    high = 1 - low\n",
    "    ci = dist.ppf([low, high])\n",
    "    return ci"
   ]
  },
  {
   "cell_type": "code",
   "execution_count": 12,
   "metadata": {},
   "outputs": [
    {
     "data": {
      "text/plain": [
       "array([0.66862334, 0.96617375])"
      ]
     },
     "execution_count": 12,
     "metadata": {},
     "output_type": "execute_result"
    }
   ],
   "source": [
    "confidence_interval(posterior10)"
   ]
  },
  {
   "cell_type": "markdown",
   "metadata": {},
   "source": [
    "With a sample size of only 10, the confidence interval is still quite wide -- that is, the estimate of the proportion is not precise."
   ]
  },
  {
   "cell_type": "markdown",
   "metadata": {},
   "source": [
    "## More data?\n",
    "\n",
    "Now let's run the same analysis with a sample size of `n=100`."
   ]
  },
  {
   "cell_type": "code",
   "execution_count": 13,
   "metadata": {},
   "outputs": [
    {
     "data": {
      "text/plain": [
       "0.8909090909090909"
      ]
     },
     "execution_count": 13,
     "metadata": {},
     "output_type": "execute_result"
    }
   ],
   "source": [
    "yes, no = generate_data(n=100, p=0.9)\n",
    "posterior100 = update(prior, yes, no)\n",
    "posterior100.mean()"
   ]
  },
  {
   "cell_type": "markdown",
   "metadata": {},
   "source": [
    "With a larger sample size, the posterior mean is closer to the proportion observed in the data.\n",
    "And the posterior distribution is narrower, which indicates greater precision."
   ]
  },
  {
   "cell_type": "code",
   "execution_count": 14,
   "metadata": {},
   "outputs": [
    {
     "data": {
      "image/png": "[encoded data removed]",
      "text/plain": [
       "<Figure size 450x262.5 with 1 Axes>"
      ]
     },
     "metadata": {},
     "output_type": "display_data"
    }
   ],
   "source": [
    "plot_dist(prior, color='gray', label='prior')\n",
    "plot_dist(posterior10, label='posterior10')\n",
    "plot_dist(posterior100, label='posterior100')\n",
    "\n",
    "decorate(xlabel='Proportion good',\n",
    "         ylabel='PDF')"
   ]
  },
  {
   "cell_type": "markdown",
   "metadata": {},
   "source": [
    "The confidence interval is much smaller."
   ]
  },
  {
   "cell_type": "code",
   "execution_count": 15,
   "metadata": {},
   "outputs": [
    {
     "data": {
      "text/plain": [
       "array([0.82660267, 0.94180387])"
      ]
     },
     "execution_count": 15,
     "metadata": {},
     "output_type": "execute_result"
    }
   ],
   "source": [
    "confidence_interval(posterior100)"
   ]
  },
  {
   "cell_type": "markdown",
   "metadata": {},
   "source": [
    "If we need more precision than that, we could increase the sample size more.\n",
    "If we don't need that much precision, we could decrease it.\n",
    "\n",
    "With some math, we could compute the sample size algorithmically, but for practical purpose, we could run this notebook a few times until we get the results we need."
   ]
  },
  {
   "cell_type": "markdown",
   "metadata": {},
   "source": [
    "## But what about that prior?\n",
    "\n",
    "Some people don't like using Bayesian methods because they think it is more objective to ignore perfectly good background information, even in cases like this where they come from preliminary testing that is clearly applicable.\n",
    "\n",
    "To satisfy them, we can run the analysis again with a uniform prior, which is not actually more objective, but it seems to make people happy."
   ]
  },
  {
   "cell_type": "code",
   "execution_count": 16,
   "metadata": {},
   "outputs": [
    {
     "data": {
      "text/plain": [
       "0.5"
      ]
     },
     "execution_count": 16,
     "metadata": {},
     "output_type": "execute_result"
    }
   ],
   "source": [
    "uniform_prior = beta_dist(1, 1)\n",
    "uniform_prior.mean()"
   ]
  },
  {
   "cell_type": "markdown",
   "metadata": {},
   "source": [
    "The mean of the uniform prior is 50%, so it is more pessimistic.\n",
    "Here's the update with `n=10`."
   ]
  },
  {
   "cell_type": "code",
   "execution_count": 17,
   "metadata": {},
   "outputs": [
    {
     "data": {
      "text/plain": [
       "0.8333333333333334"
      ]
     },
     "execution_count": 17,
     "metadata": {},
     "output_type": "execute_result"
    }
   ],
   "source": [
    "yes, no = generate_data(n=10, p=0.9)\n",
    "uniform_posterior10 = update(uniform_prior, yes, no)\n",
    "uniform_posterior10.mean()"
   ]
  },
  {
   "cell_type": "markdown",
   "metadata": {},
   "source": [
    "Now let's compare the posterior distributions with the informative prior and the uniform prior."
   ]
  },
  {
   "cell_type": "code",
   "execution_count": 18,
   "metadata": {},
   "outputs": [
    {
     "data": {
      "image/png": "[encoded data removed]",
      "text/plain": [
       "<Figure size 450x262.5 with 1 Axes>"
      ]
     },
     "metadata": {},
     "output_type": "display_data"
    }
   ],
   "source": [
    "plot_dist(uniform_prior, color='gray', label='uniform prior')\n",
    "plot_dist(posterior10, color='C1', label='posterior10')\n",
    "plot_dist(uniform_posterior10, color='C4', label='uniform posterior10')\n",
    "\n",
    "decorate(xlabel='Proportion good',\n",
    "         ylabel='PDF')"
   ]
  },
  {
   "cell_type": "markdown",
   "metadata": {},
   "source": [
    "With the informative prior, the posterior distribution is a little narrower -- an estimate that uses background information is more precise.\n",
    "\n",
    "Let's do the same thing with `n=100`."
   ]
  },
  {
   "cell_type": "code",
   "execution_count": 19,
   "metadata": {},
   "outputs": [],
   "source": [
    "uniform_prior = beta_dist(1, 1)\n",
    "yes, no = generate_data(n=100, p=0.9)\n",
    "uniform_posterior100 = update(uniform_prior, yes, no)"
   ]
  },
  {
   "cell_type": "code",
   "execution_count": 20,
   "metadata": {},
   "outputs": [
    {
     "data": {
      "image/png": "[encoded data removed]",
      "text/plain": [
       "<Figure size 450x262.5 with 1 Axes>"
      ]
     },
     "metadata": {},
     "output_type": "display_data"
    }
   ],
   "source": [
    "plot_dist(uniform_prior, color='gray', label='uniform prior')\n",
    "plot_dist(posterior100, color='C1', label='posterior100')\n",
    "plot_dist(uniform_posterior100, color='C4', label='uniform posterior100')\n",
    "\n",
    "decorate(xlabel='Proportion good',\n",
    "         ylabel='PDF')"
   ]
  },
  {
   "cell_type": "markdown",
   "metadata": {},
   "source": [
    "With a larger sample size, the choice of the prior has less effect -- the posterior distributions are almost the same."
   ]
  },
  {
   "cell_type": "markdown",
   "metadata": {},
   "source": [
    "## Discussion\n",
    "\n",
    "Sample size analysis is a good thing to do when you are designing experiments, because it requires you to\n",
    "\n",
    "* Make a model of the data-generating process,\n",
    "\n",
    "* Generate hypothetical data, and\n",
    "\n",
    "* Specify ahead of time what analysis you plan to do.\n",
    "\n",
    "It also gives you a preview of what the result might look like, so you can think about the requirements.\n",
    "If you do these things before running an experiment, you are likely to clarify your thinking, communicate better, and improve the data collection process and analysis.\n",
    "\n",
    "Sample size analysis can also help you choose a sample size, but most of the time that's determined by practical considerations, anyway.\n",
    "I mean, how many holes do you think they'll let you put in that parking lot?"
   ]
  },
  {
   "cell_type": "markdown",
   "metadata": {},
   "source": [
    "[*Data Q&A: Answering the real questions with Python*](https://allendowney.github.io/DataQnA/index.html)\n",
    "\n",
    "Copyright 2024 [Allen B. Downey](https://allendowney.com)\n",
    "\n",
    "License: [Creative Commons Attribution-NonCommercial-ShareAlike 4.0 International](https://creativecommons.org/licenses/by-nc-sa/4.0/)"
   ]
  },
  {
   "cell_type": "code",
   "execution_count": null,
   "metadata": {},
   "outputs": [],
   "source": []
  }
 ],
 "metadata": {
  "celltoolbar": "Tags",
  "kernelspec": {
   "display_name": "Python 3 (ipykernel)",
   "language": "python",
   "name": "python3"
  },
  "language_info": {
   "codemirror_mode": {
    "name": "ipython",
    "version": 3
   },
   "file_extension": ".py",
   "mimetype": "text/x-python",
   "name": "python",
   "nbconvert_exporter": "python",
   "pygments_lexer": "ipython3",
   "version": "3.10.14"
  }
 },
 "nbformat": 4,
 "nbformat_minor": 2
}
