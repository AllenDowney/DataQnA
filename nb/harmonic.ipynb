{
 "cells": [
  {
   "cell_type": "markdown",
   "id": "8afbc8d9",
   "metadata": {},
   "source": [
    "## Bootstrapping the harmonic mean\n",
    "\n",
    "Here's a [question from the Reddit statistics forum](https://www.reddit.com/r/statistics/comments/1bv2w06/q_can_you_calculate_a_standard_error_for_harmonic).\n",
    "\n",
    "> Can you calculate a standard error for harmonic mean?\n",
    ">\n",
    "> I’m trying to use harmonic mean instead of arithmetic because it might describe my data better (there are a few extreme outliers). My question is, I’ve read that you can’t calculate a standard deviation for the harmonic mean, so does that mean I can’t calculate a standard error then? That feels wrong.\n",
    "\n",
    "The immediate question is how to compute the standard error of a harmonic mean.\n",
    "But there are two more questions here that I think are worth addressing:\n",
    "\n",
    "* Is the harmonic mean a good choice for summarizing this dataset?\n",
    "\n",
    "* Is it true that \"You can’t calculate a standard deviation for the harmonic mean\"?\n",
    "\n",
    "Let's answer the immediate question first, using bootstrap resampling.\n",
    "If you are not familiar with bootstrapping, there's an introduction in Chapter 12 of [*Elements of Data Science*](https://allendowney.github.io/ElementsOfDataScience/12_bootstrap.html)."
   ]
  },
  {
   "cell_type": "markdown",
   "id": "7d6b656b",
   "metadata": {},
   "source": [
    "[Click here to run this notebook on Colab](https://colab.research.google.com/github/AllenDowney/DataQnA/blob/main/nb/harmonic.ipynb)"
   ]
  },
  {
   "cell_type": "markdown",
   "id": "1a4d9fa0",
   "metadata": {
    "tags": [
     "hide-cell"
    ]
   },
   "source": [
    "I'll download a utilities module with some of my frequently-used functions, and then import the usual libraries."
   ]
  },
  {
   "cell_type": "code",
   "execution_count": 1,
   "id": "d7aef20d",
   "metadata": {
    "tags": [
     "hide-cell"
    ]
   },
   "outputs": [],
   "source": [
    "from os.path import basename, exists\n",
    "\n",
    "def download(url):\n",
    "    filename = basename(url)\n",
    "    if not exists(filename):\n",
    "        from urllib.request import urlretrieve\n",
    "\n",
    "        local, _ = urlretrieve(url, filename)\n",
    "        print(\"Downloaded \" + str(local))\n",
    "    return filename\n",
    "\n",
    "download('https://github.com/AllenDowney/DataQnA/raw/main/nb/utils.py')\n",
    "\n",
    "import numpy as np\n",
    "import matplotlib.pyplot as plt\n",
    "import pandas as pd\n",
    "import seaborn as sns\n",
    "\n",
    "from utils import decorate"
   ]
  },
  {
   "cell_type": "markdown",
   "id": "86637019",
   "metadata": {},
   "source": [
    "## Generating a dataset\n",
    "\n",
    "To demonstrate the behavior of the harmonic mean, I'll generate two datasets, one from a Gaussian, and another with the same data plus a few outliers.\n",
    "\n",
    "The first dataset contains `n=100` values from a Gaussian distribution with mean 10 and standard deviation 1."
   ]
  },
  {
   "cell_type": "code",
   "execution_count": 2,
   "id": "c9d6afd9",
   "metadata": {},
   "outputs": [],
   "source": [
    "mu = 10\n",
    "sigma = 1\n",
    "\n",
    "np.random.seed(1)\n",
    "data = np.random.normal(10, 1, size=100)"
   ]
  },
  {
   "cell_type": "markdown",
   "id": "ab34b67f",
   "metadata": {},
   "source": [
    "The (arithmetic) mean is close to 10, as expected."
   ]
  },
  {
   "cell_type": "code",
   "execution_count": 3,
   "id": "05bc4958",
   "metadata": {},
   "outputs": [
    {
     "data": {
      "text/plain": [
       "10.060582852075699"
      ]
     },
     "execution_count": 3,
     "metadata": {},
     "output_type": "execute_result"
    }
   ],
   "source": [
    "np.mean(data)"
   ]
  },
  {
   "cell_type": "markdown",
   "id": "3b7b3884",
   "metadata": {},
   "source": [
    "And the harmonic mean is not much different."
   ]
  },
  {
   "cell_type": "code",
   "execution_count": 4,
   "id": "288dfe55",
   "metadata": {},
   "outputs": [
    {
     "data": {
      "text/plain": [
       "9.981387932002434"
      ]
     },
     "execution_count": 4,
     "metadata": {},
     "output_type": "execute_result"
    }
   ],
   "source": [
    "from scipy.stats import hmean\n",
    "\n",
    "hmean(data)"
   ]
  },
  {
   "cell_type": "markdown",
   "id": "43546653",
   "metadata": {},
   "source": [
    "OP says the dataset contains \"a few extreme outliers\".\n",
    "Without context, it's hard to day how extreme they are.\n",
    "But in a Gaussian distribution, values 4-6 standard deviations from the mean might be considered extreme.\n",
    "So I'll add in one of each."
   ]
  },
  {
   "cell_type": "code",
   "execution_count": 5,
   "id": "921933f0",
   "metadata": {},
   "outputs": [],
   "source": [
    "data2 = np.concatenate([data, [14, 15, 16]])"
   ]
  },
  {
   "cell_type": "markdown",
   "id": "4a5758a9",
   "metadata": {},
   "source": [
    "Here's what the distribution of the data looks like with the outliers."
   ]
  },
  {
   "cell_type": "code",
   "execution_count": 6,
   "id": "0ffeecad",
   "metadata": {},
   "outputs": [
    {
     "data": {
      "image/png": "[encoded data removed]",
      "text/plain": [
       "<Figure size 450x262.5 with 1 Axes>"
      ]
     },
     "metadata": {},
     "output_type": "display_data"
    }
   ],
   "source": [
    "sns.kdeplot(data2)\n",
    "decorate(xlabel='Measurements',\n",
    "         ylabel='Density',\n",
    "         title='Distribution of measurements')"
   ]
  },
  {
   "cell_type": "markdown",
   "id": "eddee13f",
   "metadata": {},
   "source": [
    "The outliers increase the mean of the data substantially."
   ]
  },
  {
   "cell_type": "code",
   "execution_count": 7,
   "id": "9e282289",
   "metadata": {},
   "outputs": [
    {
     "data": {
      "text/plain": [
       "10.20444937094728"
      ]
     },
     "execution_count": 7,
     "metadata": {},
     "output_type": "execute_result"
    }
   ],
   "source": [
    "np.mean(data2)"
   ]
  },
  {
   "cell_type": "markdown",
   "id": "fc72d145",
   "metadata": {},
   "source": [
    "They have a smaller effect on the harmonic mean -- which seems like it's the primary reason OP is using it."
   ]
  },
  {
   "cell_type": "code",
   "execution_count": 8,
   "id": "f45d1c8a",
   "metadata": {},
   "outputs": [
    {
     "data": {
      "text/plain": [
       "10.079025419217924"
      ]
     },
     "execution_count": 8,
     "metadata": {},
     "output_type": "execute_result"
    }
   ],
   "source": [
    "hmean(data2)"
   ]
  },
  {
   "cell_type": "markdown",
   "id": "95726d95",
   "metadata": {},
   "source": [
    "## Bootstrapping\n",
    "\n",
    "Now let's compute the standard error of the harmonic mean using bootstrap resampling.\n",
    "The following function takes a dataset as a parameter, draws a random sample from it with replacement, and returns the harmonic mean of the resampled data."
   ]
  },
  {
   "cell_type": "code",
   "execution_count": 9,
   "id": "35114bed",
   "metadata": {},
   "outputs": [],
   "source": [
    "def bootstrap_hmean(data):\n",
    "    resampled = np.random.choice(data, size=len(data), replace=True)\n",
    "    return hmean(resampled)"
   ]
  },
  {
   "cell_type": "markdown",
   "id": "dc0ddb9e",
   "metadata": {},
   "source": [
    "If we call this function 1000 times, we get a sample from from sampling distribution of the harmonic mean."
   ]
  },
  {
   "cell_type": "code",
   "execution_count": 10,
   "id": "612f7399",
   "metadata": {},
   "outputs": [],
   "source": [
    "sample = [bootstrap_hmean(data2) for i in range(1000)]"
   ]
  },
  {
   "cell_type": "markdown",
   "id": "9e38013c",
   "metadata": {},
   "source": [
    "Here's what the sampling distribution looks like."
   ]
  },
  {
   "cell_type": "code",
   "execution_count": 11,
   "id": "be8f4906",
   "metadata": {},
   "outputs": [
    {
     "data": {
      "image/png": "[encoded data removed]",
      "text/plain": [
       "<Figure size 450x262.5 with 1 Axes>"
      ]
     },
     "metadata": {},
     "output_type": "display_data"
    }
   ],
   "source": [
    "sns.kdeplot(sample)\n",
    "decorate(xlabel='Harmonic mean of a sample',\n",
    "         ylabel='Density',\n",
    "         title='Sampling distribution of the harmonic mean')"
   ]
  },
  {
   "cell_type": "markdown",
   "id": "561faf1d",
   "metadata": {},
   "source": [
    "The standard deviation of these values is an estimate of the standard error."
   ]
  },
  {
   "cell_type": "code",
   "execution_count": 12,
   "id": "15d346b0",
   "metadata": {},
   "outputs": [
    {
     "data": {
      "text/plain": [
       "0.11120255874179302"
      ]
     },
     "execution_count": 12,
     "metadata": {},
     "output_type": "execute_result"
    }
   ],
   "source": [
    "se = np.std(sample)\n",
    "se"
   ]
  },
  {
   "cell_type": "markdown",
   "id": "bbf6f5ef",
   "metadata": {},
   "source": [
    "As an alternative to the standard error, we can estimate the 90% confidence interval by computing the 5th and 95th percentiles of the sample."
   ]
  },
  {
   "cell_type": "code",
   "execution_count": 13,
   "id": "e6ed3c33",
   "metadata": {},
   "outputs": [
    {
     "data": {
      "text/plain": [
       "array([ 9.90600311, 10.27715017])"
      ]
     },
     "execution_count": 13,
     "metadata": {},
     "output_type": "execute_result"
    }
   ],
   "source": [
    "ci90 = np.percentile(sample, [5, 95])\n",
    "ci90"
   ]
  },
  {
   "cell_type": "markdown",
   "id": "c9bd8f24",
   "metadata": {},
   "source": [
    "So that's the answer to the immediate question -- there's nothing unusually difficult about computing the standard error of a harmonic mean.\n",
    "\n",
    "Now let's get to the other questions.\n",
    "First, what did OP mean by \"I’ve read that you can’t calculate a standard deviation for the harmonic mean\"?\n",
    "I'm not sure, but one possibility is that they read something else: that there is no mathematical formula for the standard error of the harmonic mean, as there is for the arithmetic mean.\n",
    "That's true, which is why bootstrapping is particularly useful."
   ]
  },
  {
   "cell_type": "markdown",
   "id": "9dd3b594",
   "metadata": {},
   "source": [
    "## Why harmonic?\n",
    "\n",
    "The other outstanding question is whether the harmonic mean is the best choice for summarizing this data.\n",
    "Without more context, I can't say, but I can offer some general advice.\n",
    "\n",
    "The harmonic mean is often a good choice when the quantities in the dataset are rates.\n",
    "As an example, suppose you drive to the store at 20 mph and then return on the same route at 30 mph.\n",
    "If you want to know your average speed for the round trip, you might be tempted to compute the arithmetic mean."
   ]
  },
  {
   "cell_type": "code",
   "execution_count": 14,
   "id": "2d0fd2f9",
   "metadata": {},
   "outputs": [
    {
     "data": {
      "text/plain": [
       "25.0"
      ]
     },
     "execution_count": 14,
     "metadata": {},
     "output_type": "execute_result"
    }
   ],
   "source": [
    "np.mean([20, 30])"
   ]
  },
  {
   "cell_type": "markdown",
   "id": "0a1f4446",
   "metadata": {},
   "source": [
    "But that's not right.\n",
    "To see why, suppose the store is 60 miles away, so it takes 3 hours on the way there and 2 hours on the way back.\n",
    "That's 120 miles in 5 hours, which is 24 mph on average.\n",
    "The harmonic mean is the equivalent of this calculation, and produces the same answer (within floating-point error)."
   ]
  },
  {
   "cell_type": "code",
   "execution_count": 15,
   "id": "b01b2f66",
   "metadata": {},
   "outputs": [
    {
     "data": {
      "text/plain": [
       "23.999999999999996"
      ]
     },
     "execution_count": 15,
     "metadata": {},
     "output_type": "execute_result"
    }
   ],
   "source": [
    "hmean([20, 30])"
   ]
  },
  {
   "cell_type": "markdown",
   "id": "bd869222",
   "metadata": {},
   "source": [
    "So that's a case where the harmonic mean naturally computes the quantity we're interested in. More generally, the harmonic mean *might* be a good choice when the quantities are rates or ratios, but in my opinion this advice is often stated too strongly.\n",
    "It depends on the context, and on what question you are trying to answer.\n",
    "\n",
    "For example, suppose you drive at 20 mph for an hour, and then 30 mph for an hour, and you want to know your average speed for the whole trip.\n",
    "In this case, the arithmetic mean is correct -- you traveled 50 miles in 2 hours, so the average is 25 mph.\n",
    "\n",
    "If OP is using the harmonic mean only because the dataset has a few outliers, it might not be the best choice.\n",
    "The harmonic mean is relatively robust to outliers if they are above the mean, but it is relatively sensitive to outliers below the mean.\n",
    "\n",
    "As an example, here's another dataset with outliers 4-6 standard deviations below the mean."
   ]
  },
  {
   "cell_type": "code",
   "execution_count": 16,
   "id": "f1031d17",
   "metadata": {},
   "outputs": [],
   "source": [
    "data3 = np.concatenate([data, [6, 5, 4]])"
   ]
  },
  {
   "cell_type": "markdown",
   "id": "eaa41862",
   "metadata": {},
   "source": [
    "As expected, the arithmetic mean gets dragged down by these outliers."
   ]
  },
  {
   "cell_type": "code",
   "execution_count": 17,
   "id": "c5ad3ee9",
   "metadata": {},
   "outputs": [
    {
     "data": {
      "text/plain": [
       "9.913187235024951"
      ]
     },
     "execution_count": 17,
     "metadata": {},
     "output_type": "execute_result"
    }
   ],
   "source": [
    "np.mean(data3)"
   ]
  },
  {
   "cell_type": "markdown",
   "id": "fc6bc1ff",
   "metadata": {},
   "source": [
    "But the harmonic mean gets dragged down even more!"
   ]
  },
  {
   "cell_type": "code",
   "execution_count": 18,
   "id": "cd9ef5be",
   "metadata": {},
   "outputs": [
    {
     "data": {
      "text/plain": [
       "9.684716917792475"
      ]
     },
     "execution_count": 18,
     "metadata": {},
     "output_type": "execute_result"
    }
   ],
   "source": [
    "hmean(data3)"
   ]
  },
  {
   "cell_type": "markdown",
   "id": "cda282f7",
   "metadata": {},
   "source": [
    "So outliers alone are not a strong reason to use the harmonic mean.\n",
    "\n",
    "If there is reason to think the outliers are genuine errors, like bad measurements, the best choice might be a trimmed mean.\n",
    "In this example, trimming 10% of the data works well for all the datasets: the one with no outliers, outliers above the mean, and outliers below the mean."
   ]
  },
  {
   "cell_type": "code",
   "execution_count": 19,
   "id": "dbdc680d",
   "metadata": {},
   "outputs": [
    {
     "data": {
      "text/plain": [
       "10.054689104329984"
      ]
     },
     "execution_count": 19,
     "metadata": {},
     "output_type": "execute_result"
    }
   ],
   "source": [
    "from scipy.stats import trim_mean\n",
    "\n",
    "trim_mean(data, proportiontocut=0.1)"
   ]
  },
  {
   "cell_type": "code",
   "execution_count": 20,
   "id": "5a81e55b",
   "metadata": {},
   "outputs": [
    {
     "data": {
      "text/plain": [
       "10.099867738778054"
      ]
     },
     "execution_count": 20,
     "metadata": {},
     "output_type": "execute_result"
    }
   ],
   "source": [
    "trim_mean(data2, proportiontocut=0.1)"
   ]
  },
  {
   "cell_type": "code",
   "execution_count": 21,
   "id": "3d195357",
   "metadata": {},
   "outputs": [
    {
     "data": {
      "text/plain": [
       "10.01327288288814"
      ]
     },
     "execution_count": 21,
     "metadata": {},
     "output_type": "execute_result"
    }
   ],
   "source": [
    "trim_mean(data3, proportiontocut=0.1)"
   ]
  },
  {
   "cell_type": "markdown",
   "id": "495bfde1",
   "metadata": {},
   "source": [
    "In all three cases, the estimated mean is close to the actual mean of the dataset, before the addition of outliers. "
   ]
  }
 ],
 "metadata": {
  "celltoolbar": "Tags",
  "kernelspec": {
   "display_name": "Python 3 (ipykernel)",
   "language": "python",
   "name": "python3"
  },
  "language_info": {
   "codemirror_mode": {
    "name": "ipython",
    "version": 3
   },
   "file_extension": ".py",
   "mimetype": "text/x-python",
   "name": "python",
   "nbconvert_exporter": "python",
   "pygments_lexer": "ipython3",
   "version": "3.10.14"
  }
 },
 "nbformat": 4,
 "nbformat_minor": 5
}
