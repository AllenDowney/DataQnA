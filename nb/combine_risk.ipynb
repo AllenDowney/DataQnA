{
 "cells": [
  {
   "cell_type": "markdown",
   "metadata": {},
   "source": [
    "# Combining Risks\n",
    "\n",
    "Here's a [question from the Reddit statistics forum](https://www.reddit.com/r/AskStatistics/comments/1cufwos/can_someone_please_help_me_calculate_combined/).\n",
    "\n",
    "> Bit of a weird one but I'm hoping you're the community to help. I work in children's residential care and I'm trying to find a way of better matching potential young people together.\n",
    ">\n",
    "> The way we calculate individual risk for a child is risk = likelihood + impact (R=L+I), so L4 + I5 = R9\n",
    ">\n",
    "> That works well for individuals but I need to work out a good way of calculating a combined risk to place children [in] the home together. I'm currently using the [arithmetic] average but I don't feel that it works properly as the average is always lower then the highest risk.\n",
    ">\n",
    "> I'll use a fairly light risk as an example, running away from the home. (We call this MFC missing from care) It's fairly common that one of the kids will run away from the home at some point or another either out of boredom or frustration. If young person A has a risk of 9 and young person B has a risk of 12 the the average risk of MFC in the home would be 10.5\n",
    ">\n",
    "> HOWEVER more often then not having two young people that go MFC will often result in more episodes as they will run off together, so having a lower risk rating doesn't really make sense. Adding the two together to 21 doesn't really work either though as the likelihood is the thing that increases not necessarily the impact.\n",
    ">\n",
    "> I'm a lot better at chasing after run away kids then I am mathematics so please help 😂.\n",
    "\n",
    "Here's one way to think about this question: based on background knowledge and experience, OP has a qualitative idea what happens when we put children at different risks together, and he is looking for a statistical summary that is consistent with these ideas.\n",
    "\n",
    "The arithmetic mean probably makes sense as a starting point, but it clashes with the observation that if you put two children together who are high risk, they interact in ways that increase the risk.\n",
    "For example, if we put together 9 and 12, the average is 10.5, and OP's domain knowledge says that's too low -- it should be more than 12.\n",
    "\n",
    "At the other extreme, I'll make a guess that putting together two low risk children might be beneficial to both -- so the combined risk might be lower than either.\n",
    "\n",
    "And that implies that there is a neutral point somewhere in the middle, where the combined risk is equal to the individual risks.\n",
    "\n",
    "To construct a summary statistic like that, I suggest a weighted sum of the arithmetic and geometric means.\n",
    "I'll provide an implementation and show how it behaves, and then explain the theory behind it."
   ]
  },
  {
   "cell_type": "markdown",
   "metadata": {
    "tags": [
     "remove-print"
    ]
   },
   "source": [
    "[Click here to run this notebook on Colab](https://colab.research.google.com/github/AllenDowney/DataQnA/blob/main/nb/combine_risk.ipynb)."
   ]
  },
  {
   "cell_type": "markdown",
   "metadata": {
    "tags": [
     "remove-print"
    ]
   },
   "source": [
    "I'll download a utilities module with some of my frequently-used functions, and then import the usual libraries."
   ]
  },
  {
   "cell_type": "code",
   "execution_count": 1,
   "metadata": {
    "tags": [
     "remove-print",
     "hide-cell"
    ]
   },
   "outputs": [],
   "source": [
    "from os.path import basename, exists\n",
    "\n",
    "def download(url):\n",
    "    filename = basename(url)\n",
    "    if not exists(filename):\n",
    "        from urllib.request import urlretrieve\n",
    "\n",
    "        local, _ = urlretrieve(url, filename)\n",
    "        print(\"Downloaded \" + str(local))\n",
    "    return filename\n",
    "\n",
    "download('https://github.com/AllenDowney/DataQnA/raw/main/nb/utils.py')\n",
    "\n",
    "import numpy as np\n",
    "import matplotlib.pyplot as plt\n",
    "import pandas as pd\n",
    "import seaborn as sns\n",
    "\n",
    "from utils import decorate"
   ]
  },
  {
   "cell_type": "code",
   "execution_count": 2,
   "metadata": {
    "tags": [
     "hide-cell",
     "remove-print"
    ]
   },
   "outputs": [],
   "source": [
    "# install the empiricaldist library, if necessary\n",
    "\n",
    "try:\n",
    "    import empiricaldist\n",
    "except ImportError:\n",
    "    !pip install empiricaldist"
   ]
  },
  {
   "cell_type": "markdown",
   "metadata": {},
   "source": [
    "## Weighted sum of means\n",
    "\n",
    "The following function computes the arithmetic mean of a sequence of values, which is the sum divided by `n`."
   ]
  },
  {
   "cell_type": "code",
   "execution_count": 3,
   "metadata": {},
   "outputs": [],
   "source": [
    "def amean(xs):\n",
    "    n = len(xs)\n",
    "    return np.sum(xs) / n"
   ]
  },
  {
   "cell_type": "markdown",
   "metadata": {},
   "source": [
    "The following function computes the geometric mean of a sequence, which is the product raised to the power `1/n`."
   ]
  },
  {
   "cell_type": "code",
   "execution_count": 4,
   "metadata": {},
   "outputs": [],
   "source": [
    "def gmean(xs):\n",
    "    n = len(xs)\n",
    "    return np.prod(xs) ** (1/n)"
   ]
  },
  {
   "cell_type": "markdown",
   "metadata": {},
   "source": [
    "And this function computes the weighted sum of the arithmetic and geometric means.\n",
    "The constant `k` determines how much weight we give the geometric mean."
   ]
  },
  {
   "cell_type": "code",
   "execution_count": 5,
   "metadata": {},
   "outputs": [],
   "source": [
    "def mean_plus_gmean(*xs, k=1):\n",
    "    return amean(xs) + k * (gmean(xs) - 4)"
   ]
  },
  {
   "cell_type": "markdown",
   "metadata": {},
   "source": [
    "The value `4` determines the neutral point. So if we put together two people with risk `4`, the combined average is `4`."
   ]
  },
  {
   "cell_type": "code",
   "execution_count": 6,
   "metadata": {},
   "outputs": [
    {
     "data": {
      "text/plain": [
       "4.0"
      ]
     },
     "execution_count": 6,
     "metadata": {},
     "output_type": "execute_result"
    }
   ],
   "source": [
    "mean_plus_gmean(4, 4)"
   ]
  },
  {
   "cell_type": "markdown",
   "metadata": {},
   "source": [
    "Above the neutral point, there is a penalty if we put together two children with higher risks."
   ]
  },
  {
   "cell_type": "code",
   "execution_count": 7,
   "metadata": {},
   "outputs": [
    {
     "data": {
      "text/plain": [
       "6.0"
      ]
     },
     "execution_count": 7,
     "metadata": {},
     "output_type": "execute_result"
    }
   ],
   "source": [
    "mean_plus_gmean(5, 5)"
   ]
  },
  {
   "cell_type": "markdown",
   "metadata": {},
   "source": [
    "In that case, the combined risk is higher than the individual risks.\n",
    "Below the neutral point, there is a bonus if we put together two children with low risks."
   ]
  },
  {
   "cell_type": "code",
   "execution_count": 8,
   "metadata": {},
   "outputs": [
    {
     "data": {
      "text/plain": [
       "2.0"
      ]
     },
     "execution_count": 8,
     "metadata": {},
     "output_type": "execute_result"
    }
   ],
   "source": [
    "mean_plus_gmean(3, 3)"
   ]
  },
  {
   "cell_type": "markdown",
   "metadata": {},
   "source": [
    "In that case, the combined risk is less than the individual risks.\n",
    "\n",
    "If we combine low and high risks, the discrepancy brings the average down a little."
   ]
  },
  {
   "cell_type": "code",
   "execution_count": 9,
   "metadata": {},
   "outputs": [
    {
     "data": {
      "text/plain": [
       "3.872983346207417"
      ]
     },
     "execution_count": 9,
     "metadata": {},
     "output_type": "execute_result"
    }
   ],
   "source": [
    "mean_plus_gmean(3, 5)"
   ]
  },
  {
   "cell_type": "markdown",
   "metadata": {},
   "source": [
    "In the example OP presented, where we put together two people with high risk, the penalty is substantial."
   ]
  },
  {
   "cell_type": "code",
   "execution_count": 10,
   "metadata": {},
   "outputs": [
    {
     "data": {
      "text/plain": [
       "16.892304845413264"
      ]
     },
     "execution_count": 10,
     "metadata": {},
     "output_type": "execute_result"
    }
   ],
   "source": [
    "mean_plus_gmean(9, 12)"
   ]
  },
  {
   "cell_type": "markdown",
   "metadata": {},
   "source": [
    "If that penalty seems too high, we can adjust the weight, `k`, and the neutral point accordingly.\n",
    "\n",
    "This behavior extends to more than two people.\n",
    "If everyone is neutral, the result is neutral."
   ]
  },
  {
   "cell_type": "code",
   "execution_count": 11,
   "metadata": {},
   "outputs": [
    {
     "data": {
      "text/plain": [
       "3.9999999999999996"
      ]
     },
     "execution_count": 11,
     "metadata": {},
     "output_type": "execute_result"
    }
   ],
   "source": [
    "mean_plus_gmean(4, 4, 4)"
   ]
  },
  {
   "cell_type": "markdown",
   "metadata": {},
   "source": [
    "If you add one person with higher risk, there's a moderate penalty, compared to the arithmetic mean, which is `4.33`."
   ]
  },
  {
   "cell_type": "code",
   "execution_count": 12,
   "metadata": {},
   "outputs": [
    {
     "data": {
      "text/plain": [
       "4.6422027133971"
      ]
     },
     "execution_count": 12,
     "metadata": {},
     "output_type": "execute_result"
    }
   ],
   "source": [
    "mean_plus_gmean(4, 4, 5)"
   ]
  },
  {
   "cell_type": "markdown",
   "metadata": {},
   "source": [
    "With two higher risk people, the penalty is bigger."
   ]
  },
  {
   "cell_type": "code",
   "execution_count": 13,
   "metadata": {},
   "outputs": [
    {
     "data": {
      "text/plain": [
       "5.308255500279445"
      ]
     },
     "execution_count": 13,
     "metadata": {},
     "output_type": "execute_result"
    }
   ],
   "source": [
    "mean_plus_gmean(4, 5, 5)"
   ]
  },
  {
   "cell_type": "markdown",
   "metadata": {},
   "source": [
    "And with three it is even bigger."
   ]
  },
  {
   "cell_type": "code",
   "execution_count": 14,
   "metadata": {},
   "outputs": [
    {
     "data": {
      "text/plain": [
       "5.999999999999999"
      ]
     },
     "execution_count": 14,
     "metadata": {},
     "output_type": "execute_result"
    }
   ],
   "source": [
    "mean_plus_gmean(5, 5, 5)"
   ]
  },
  {
   "cell_type": "markdown",
   "metadata": {},
   "source": [
    "## Does this make any sense?\n",
    "\n",
    "The idea behind this suggestion is logistic regression with an interaction term.\n",
    "Let me explain where that comes from.\n",
    "\n",
    "At first I thought it was odd the risk is the sum of a likelihood and an impact score.\n",
    "Thinking about expected value, I thought it should be the product of a probability and a cost.\n",
    "And that is correct if the probability and cost are on a linear scale.\n",
    "\n",
    "But if we think of them on a log scale, adding them makes more sense.\n",
    "And the scores are consistent with something like a log-odds scale, which is the basis of logistic regression.\n",
    "\n",
    "So if `r1` and `r2` are risk scores, we can imagine a regression equation that looks like this, where `p` is the probability of an outcome like \"missing from care\":\n",
    "\n",
    "`logit(p) = a r_1 + b r2 + c r1 r2`\n",
    "\n",
    "In this equation, `logit(p)` is the combined risk score, `a`, `b`, and `c` are unknown parameters, and the product `r1 r2` is an interaction term that captures the tendency of high risks to amplify each other.\n",
    "\n",
    "With enough data, we could estimate the unknown parameters.\n",
    "Without data, the best we can do is chose values that make the results consistent with expectations.\n",
    "\n",
    "Since `r_1` and `r_2` are interchangeable, they have to have the same parameter.\n",
    "And since the whole risk scale has an unspecified zero point, we can set it `a` and `b` to `1/2`.\n",
    "Which means there is only one parameter left, the weight of the interaction term.\n",
    "\n",
    "`logit(p) = (r_1 + r2) / 2 + k r1 r2`\n",
    "\n",
    "Now we can see that the first term is the arithmetic mean and the second term is close to the geometric mean, but missing the square root.\n",
    "\n",
    "So the function I suggested -- the weighted sum of arithmetic and weighted means -- is not identical to the logistic model, but it is motivated by it."
   ]
  },
  {
   "cell_type": "markdown",
   "metadata": {},
   "source": [
    "## Computing by hand\n",
    "\n",
    "In the case where we have only a few people, we can do the calculation by hand.\n",
    "For example, if `r1` is 9 and `r2` is 12."
   ]
  },
  {
   "cell_type": "code",
   "execution_count": 15,
   "metadata": {},
   "outputs": [],
   "source": [
    "r1 = 9\n",
    "r2 = 12"
   ]
  },
  {
   "cell_type": "markdown",
   "metadata": {},
   "source": [
    "Here's the arithmetic mean."
   ]
  },
  {
   "cell_type": "code",
   "execution_count": 16,
   "metadata": {},
   "outputs": [
    {
     "data": {
      "text/plain": [
       "10.5"
      ]
     },
     "execution_count": 16,
     "metadata": {},
     "output_type": "execute_result"
    }
   ],
   "source": [
    "m1 = (9 + 12) / 2\n",
    "m1"
   ]
  },
  {
   "cell_type": "markdown",
   "metadata": {},
   "source": [
    "And here's the geometric mean."
   ]
  },
  {
   "cell_type": "code",
   "execution_count": 17,
   "metadata": {},
   "outputs": [
    {
     "data": {
      "text/plain": [
       "10.392304845413264"
      ]
     },
     "execution_count": 17,
     "metadata": {},
     "output_type": "execute_result"
    }
   ],
   "source": [
    "m2 = np.sqrt(9 * 12)\n",
    "m2"
   ]
  },
  {
   "cell_type": "markdown",
   "metadata": {},
   "source": [
    "And here's how we combine them."
   ]
  },
  {
   "cell_type": "code",
   "execution_count": 18,
   "metadata": {},
   "outputs": [
    {
     "data": {
      "text/plain": [
       "16.892304845413264"
      ]
     },
     "execution_count": 18,
     "metadata": {},
     "output_type": "execute_result"
    }
   ],
   "source": [
    "k = 1\n",
    "combined_risk = m1 + k * (m2 - 4)\n",
    "combined_risk"
   ]
  },
  {
   "cell_type": "markdown",
   "metadata": {},
   "source": [
    "[*Data Q&A: Answering the real questions with Python*](https://allendowney.github.io/DataQnA/index.html)\n",
    "\n",
    "Copyright 2024 [Allen B. Downey](https://allendowney.com)\n",
    "\n",
    "License: [Creative Commons Attribution-NonCommercial-ShareAlike 4.0 International](https://creativecommons.org/licenses/by-nc-sa/4.0/)"
   ]
  }
 ],
 "metadata": {
  "celltoolbar": "Tags",
  "kernelspec": {
   "display_name": "Python 3 (ipykernel)",
   "language": "python",
   "name": "python3"
  },
  "language_info": {
   "codemirror_mode": {
    "name": "ipython",
    "version": 3
   },
   "file_extension": ".py",
   "mimetype": "text/x-python",
   "name": "python",
   "nbconvert_exporter": "python",
   "pygments_lexer": "ipython3",
   "version": "3.10.14"
  }
 },
 "nbformat": 4,
 "nbformat_minor": 2
}
