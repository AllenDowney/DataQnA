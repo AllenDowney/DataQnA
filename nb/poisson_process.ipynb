{
 "cells": [
  {
   "cell_type": "markdown",
   "id": "02c4f1c1",
   "metadata": {},
   "source": [
    "# Poisson Processes\n",
    "\n",
    "Here's a [question from the Reddit statistics forum](https://www.reddit.com/r/statistics/comments/i9t1fq/q_poisson_process_vs_poisson_distribution/).\n",
    "\n",
    "> I am hoping someone can give me a layman's explanation of the difference between the Poisson Process and the Poisson Distribution. I've read a couple different articles across Wikipedia, StackExchange, Statisticshowto, etc, but it's not quite sinking in.\n",
    ">\n",
    "> As best I understand it (in layman), the Poisson Process is a sampling of \"success\" data points over a period of time (eg, the number of ships that dock at a port in a given hour), and the Poisson Distribution is one of a few distribution functions whose shape may or may not represent the data collected from the process. Would this be correct to say?\n",
    "\n",
    "This is a good question, and OP did a pretty good job answering it.\n",
    "Continuing their example, suppose you are a ship spotter -- that is, someone whose hobby is to observe and identify ships.\n",
    "You might be interested in the number of ships that arrive during an interval in time, or the time between arrivals, or other related questions.\n",
    "\n",
    "A Poisson process is a model used to describe situations like this.\n",
    "In the model, an event like the arrival of a ship is considered an instantaneous point in time, and it's considered to be random, with some probability of occurring during any instant.\n",
    "In the simplest version of a Poisson process, that probability is considered constant, so it doesn't depend on time, the number of previous events, or the time since previous events.\n",
    "\n",
    "Under that assumption, the number of events that happen in an interval of time follows a Poisson distribution, and the time between events follows an exponential distribution.\n",
    "\n",
    "Of course, the real world is more complicated than that.\n",
    "Ships might be more likely to arrive during the day, or at certain times of day.\n",
    "There might be a minimum time between arrivals, to avoid traffic.\n",
    "Or there might be a maximum capacity at the harbor, limiting the number of arrivals.\n",
    "\n",
    "But the Poisson process can be a useful model even if its assumptions are not strictly true.\n",
    "To demonstrate, let's consider another system that involves events that occur over time, goal-scoring in hockey."
   ]
  },
  {
   "cell_type": "markdown",
   "id": "75c5d199",
   "metadata": {
    "tags": [
     "remove-print"
    ]
   },
   "source": [
    "[Click here to run this notebook on Colab](https://colab.research.google.com/github/AllenDowney/DataQnA/blob/main/nb/poisson_process.ipynb)."
   ]
  },
  {
   "cell_type": "markdown",
   "id": "74a33c75",
   "metadata": {
    "tags": [
     "remove-print"
    ]
   },
   "source": [
    "I'll download a utilities module with some of my frequently-used functions, and then import the usual libraries."
   ]
  },
  {
   "cell_type": "code",
   "execution_count": 2,
   "id": "41ffa5f5",
   "metadata": {
    "tags": [
     "remove-print",
     "hide-cell"
    ]
   },
   "outputs": [
    {
     "data": {
      "text/plain": [
       "'utils.py'"
      ]
     },
     "execution_count": 2,
     "metadata": {},
     "output_type": "execute_result"
    }
   ],
   "source": [
    "from os.path import basename, exists\n",
    "\n",
    "def download(url):\n",
    "    filename = basename(url)\n",
    "    if not exists(filename):\n",
    "        from urllib.request import urlretrieve\n",
    "\n",
    "        local, _ = urlretrieve(url, filename)\n",
    "        print(\"Downloaded \" + str(local))\n",
    "    return filename\n",
    "\n",
    "download('https://github.com/AllenDowney/DataQnA/raw/main/nb/utils.py');"
   ]
  },
  {
   "cell_type": "code",
   "execution_count": 3,
   "id": "ce59c35d",
   "metadata": {
    "tags": [
     "remove-print",
     "hide-cell"
    ]
   },
   "outputs": [],
   "source": [
    "# install the empiricaldist library, if necessary\n",
    "\n",
    "try:\n",
    "    import empiricaldist\n",
    "except ImportError:\n",
    "    !pip install empiricaldist"
   ]
  },
  {
   "cell_type": "code",
   "execution_count": 4,
   "id": "9fb94810",
   "metadata": {
    "tags": [
     "remove-print",
     "hide-cell"
    ]
   },
   "outputs": [],
   "source": [
    "import numpy as np\n",
    "import matplotlib.pyplot as plt\n",
    "import pandas as pd\n",
    "import seaborn as sns\n",
    "\n",
    "from utils import decorate"
   ]
  },
  {
   "cell_type": "markdown",
   "id": "ddf50df5",
   "metadata": {},
   "source": [
    "From HockeyReference, I downloaded results of every game of the National Hockey League (NHL) 2023-2024 regular season (not including the playoffs).\n",
    "I extracted information about goals scored during 60 minutes of regulation play, not including overtime or tie-breaking shootouts.\n",
    "The results are in an HDF file with one key for each game, and a list of times, in seconds since the beginning of the game, when a goal was scored.\n",
    "\n",
    "Raw data downloaded from <https://www.hockey-reference.com/leagues/NHL_2024_games.html> on July 16, 2024."
   ]
  },
  {
   "cell_type": "code",
   "execution_count": 7,
   "id": "adefdac1",
   "metadata": {},
   "outputs": [
    {
     "name": "stdout",
     "output_type": "stream",
     "text": [
      "Downloaded nhl_2023_2024.hdf\n"
     ]
    },
    {
     "data": {
      "text/plain": [
       "'nhl_2023_2024.hdf'"
      ]
     },
     "execution_count": 7,
     "metadata": {},
     "output_type": "execute_result"
    }
   ],
   "source": [
    "download(\"https://github.com/AllenDowney/DataQnA/raw/main/data/nhl_2023_2024.hdf\");"
   ]
  },
  {
   "cell_type": "code",
   "execution_count": 8,
   "id": "e60cb3b9",
   "metadata": {},
   "outputs": [
    {
     "data": {
      "text/plain": [
       "1312"
      ]
     },
     "execution_count": 8,
     "metadata": {},
     "output_type": "execute_result"
    }
   ],
   "source": [
    "filename = \"nhl_2023_2024.hdf\"\n",
    "\n",
    "with pd.HDFStore(filename, \"r\") as store:\n",
    "    keys = store.keys()\n",
    "len(keys)"
   ]
  },
  {
   "cell_type": "code",
   "execution_count": 9,
   "id": "d41c56e9",
   "metadata": {},
   "outputs": [
    {
     "name": "stderr",
     "output_type": "stream",
     "text": [
      "/tmp/ipykernel_1131679/1491032017.py:1: FutureWarning: The behavior of array concatenation with empty entries is deprecated. In a future version, this will no longer exclude empty items when determining the result dtype. To retain the old behavior, exclude the empty entries before the concat operation.\n",
      "  all_times = pd.concat([pd.read_hdf(filename, key=key) for key in keys])\n"
     ]
    }
   ],
   "source": [
    "all_times = pd.concat([pd.read_hdf(filename, key=key) for key in keys])"
   ]
  },
  {
   "cell_type": "code",
   "execution_count": 10,
   "id": "1c0ab5b9",
   "metadata": {},
   "outputs": [],
   "source": [
    "from empiricaldist import Pmf\n",
    "\n",
    "pmf_minutes = Pmf.from_seq(all_times // 60 + 0.5)"
   ]
  },
  {
   "cell_type": "code",
   "execution_count": 11,
   "id": "9e054d96",
   "metadata": {},
   "outputs": [
    {
     "data": {
      "image/png": "[encoded data removed]",
      "text/plain": [
       "<Figure size 450x262.5 with 1 Axes>"
      ]
     },
     "metadata": {},
     "output_type": "display_data"
    }
   ],
   "source": [
    "pmf_minutes.bar(alpha=0.6)\n",
    "decorate(xlabel=\"Minute\", ylabel=\"PMF\")"
   ]
  },
  {
   "cell_type": "code",
   "execution_count": 30,
   "id": "ce037315",
   "metadata": {},
   "outputs": [],
   "source": [
    "goals = []\n",
    "\n",
    "for key in keys:\n",
    "    times = pd.read_hdf(filename, key=key)\n",
    "    n = len(times)\n",
    "    goals.append(n)"
   ]
  },
  {
   "cell_type": "code",
   "execution_count": 32,
   "id": "ddf17394",
   "metadata": {},
   "outputs": [
    {
     "data": {
      "text/plain": [
       "6.0182926829268295"
      ]
     },
     "execution_count": 32,
     "metadata": {},
     "output_type": "execute_result"
    }
   ],
   "source": [
    "\n",
    "lam = np.mean(goals)\n",
    "lam"
   ]
  },
  {
   "cell_type": "code",
   "execution_count": 35,
   "id": "21c3fb31",
   "metadata": {},
   "outputs": [],
   "source": [
    "from scipy.stats import poisson\n",
    "\n",
    "ks = np.arange(20)\n",
    "ps = poisson.cdf(ks, lam)\n",
    "cdf_poisson = Cdf(ps, ks, name=\"Poisson model\")"
   ]
  },
  {
   "cell_type": "code",
   "execution_count": 36,
   "id": "161c0f20",
   "metadata": {},
   "outputs": [],
   "source": [
    "cdf_goals = Cdf.from_seq(goals, name=\"home goals\")"
   ]
  },
  {
   "cell_type": "code",
   "execution_count": 38,
   "id": "ee71f7cb",
   "metadata": {},
   "outputs": [
    {
     "data": {
      "image/png": "[encoded data removed]",
      "text/plain": [
       "<Figure size 450x262.5 with 1 Axes>"
      ]
     },
     "metadata": {},
     "output_type": "display_data"
    }
   ],
   "source": [
    "cdf_poisson.plot(color='gray')\n",
    "cdf_goals.plot()\n",
    "\n",
    "decorate(xlabel=\"Goals\", ylabel=\"PMF\")"
   ]
  },
  {
   "cell_type": "code",
   "execution_count": null,
   "id": "da31aaa4",
   "metadata": {},
   "outputs": [],
   "source": []
  },
  {
   "cell_type": "code",
   "execution_count": null,
   "id": "b3d224b7",
   "metadata": {},
   "outputs": [],
   "source": []
  },
  {
   "cell_type": "code",
   "execution_count": 90,
   "id": "e257544a",
   "metadata": {},
   "outputs": [],
   "source": [
    "firsts = []\n",
    "\n",
    "for key in keys:\n",
    "    times = pd.read_hdf(filename, key=key)\n",
    "    if len(times) > 0:\n",
    "        firsts.append(times[0])\n",
    "    else:\n",
    "        firsts.append(np.nan)\n",
    "        \n",
    "firsts = np.array(firsts) / 60\n"
   ]
  },
  {
   "cell_type": "code",
   "execution_count": 91,
   "id": "07c7d2b8",
   "metadata": {},
   "outputs": [],
   "source": [
    "cdf_firsts = Cdf.from_seq(firsts, name=\"first goal\", dropna=False)"
   ]
  },
  {
   "cell_type": "code",
   "execution_count": 96,
   "id": "d8b8c13f",
   "metadata": {},
   "outputs": [
    {
     "data": {
      "text/plain": [
       "0.09072940480632495"
      ]
     },
     "execution_count": 96,
     "metadata": {},
     "output_type": "execute_result"
    }
   ],
   "source": [
    "lam = 1 / np.nanmean(firsts)\n",
    "lam"
   ]
  },
  {
   "cell_type": "code",
   "execution_count": 97,
   "id": "10cdb021",
   "metadata": {},
   "outputs": [],
   "source": [
    "from scipy.stats import expon\n",
    "\n",
    "ts = np.linspace(0, 60, 201)\n",
    "ps = expon.cdf(ts, scale=1/lam)"
   ]
  },
  {
   "cell_type": "code",
   "execution_count": 98,
   "id": "e5a4434e",
   "metadata": {},
   "outputs": [],
   "source": [
    "from empiricaldist import Cdf\n",
    "\n",
    "cdf_model_firsts = Cdf(ps, ts, name=\"exponential model\")"
   ]
  },
  {
   "cell_type": "code",
   "execution_count": 99,
   "id": "9d3cd513",
   "metadata": {},
   "outputs": [
    {
     "data": {
      "image/png": "[encoded data removed]",
      "text/plain": [
       "<Figure size 450x262.5 with 1 Axes>"
      ]
     },
     "metadata": {},
     "output_type": "display_data"
    }
   ],
   "source": [
    "cdf_firsts.plot()\n",
    "cdf_model_firsts.plot(color='gray')\n",
    "\n",
    "decorate(xlabel=\"Time of first goal (seconds)\", ylabel=\"CDF\")"
   ]
  },
  {
   "cell_type": "code",
   "execution_count": 100,
   "id": "3d7008dd",
   "metadata": {},
   "outputs": [],
   "source": [
    "intervals = []\n",
    "\n",
    "for key in keys:\n",
    "    times = pd.read_hdf(filename, key=key)\n",
    "    if len(times) > 1:\n",
    "        intervals.extend(times.diff().dropna())\n",
    "        \n",
    "intervals = np.array(intervals) / 60"
   ]
  },
  {
   "cell_type": "code",
   "execution_count": 101,
   "id": "0b9ee5d2",
   "metadata": {},
   "outputs": [],
   "source": [
    "cdf_intervals = Cdf.from_seq(intervals, name=\"intervals\")"
   ]
  },
  {
   "cell_type": "code",
   "execution_count": 102,
   "id": "7630106a",
   "metadata": {},
   "outputs": [
    {
     "data": {
      "text/plain": [
       "0.12245019361147204"
      ]
     },
     "execution_count": 102,
     "metadata": {},
     "output_type": "execute_result"
    }
   ],
   "source": [
    "lam = 1 / np.mean(intervals)\n",
    "lam"
   ]
  },
  {
   "cell_type": "code",
   "execution_count": 103,
   "id": "30a63e93",
   "metadata": {},
   "outputs": [],
   "source": [
    "ps = expon.cdf(ts, scale=1/lam)\n",
    "cdf_model_intervals = Cdf(ps, ts, name=\"exponential model\")"
   ]
  },
  {
   "cell_type": "code",
   "execution_count": 105,
   "id": "29beecde",
   "metadata": {},
   "outputs": [
    {
     "data": {
      "image/png": "[encoded data removed]",
      "text/plain": [
       "<Figure size 450x262.5 with 1 Axes>"
      ]
     },
     "metadata": {},
     "output_type": "display_data"
    }
   ],
   "source": [
    "cdf_firsts.plot()\n",
    "cdf_model_firsts.plot(color='gray')\n",
    "\n",
    "cdf_intervals.plot(color='C1')\n",
    "cdf_model_intervals.plot(color='gray')\n",
    "\n",
    "decorate(xlabel=\"Time of first goal (minutes)\", ylabel=\"CDF\")"
   ]
  },
  {
   "cell_type": "code",
   "execution_count": null,
   "id": "d7d0b854",
   "metadata": {},
   "outputs": [],
   "source": []
  },
  {
   "cell_type": "code",
   "execution_count": null,
   "id": "a96a77f1",
   "metadata": {},
   "outputs": [],
   "source": []
  },
  {
   "cell_type": "code",
   "execution_count": null,
   "id": "0ab3f8c3",
   "metadata": {},
   "outputs": [],
   "source": []
  },
  {
   "cell_type": "code",
   "execution_count": null,
   "id": "4a72679e",
   "metadata": {},
   "outputs": [],
   "source": []
  },
  {
   "cell_type": "markdown",
   "id": "8959a83b",
   "metadata": {},
   "source": [
    "## Discussion\n",
    "\n",
    "Poisson processes are a common source of confusion.\n",
    "One reason is the word \"process\", which doesn't mean much in this context.\n",
    "I think \"model\" might be clearer -- a stochastic process is a model that involves randomness in some way.\n",
    "\n",
    "Another reason for confusion is that it is hard to define a Poisson process in its most general form.\n",
    "In the examples we've considered, events happen over time, but they could also happen over space, or any other continuous domain.\n"
   ]
  },
  {
   "cell_type": "markdown",
   "id": "c2aa4502",
   "metadata": {},
   "source": [
    "[*Data Q&A: Answering the real questions with Python*](https://allendowney.github.io/DataQnA/index.html)\n",
    "\n",
    "Copyright 2024 [Allen B. Downey](https://allendowney.com)\n",
    "\n",
    "License: [Creative Commons Attribution-NonCommercial-ShareAlike 4.0 International](https://creativecommons.org/licenses/by-nc-sa/4.0/)"
   ]
  }
 ],
 "metadata": {
  "celltoolbar": "Tags",
  "kernelspec": {
   "display_name": "Python 3 (ipykernel)",
   "language": "python",
   "name": "python3"
  },
  "language_info": {
   "codemirror_mode": {
    "name": "ipython",
    "version": 3
   },
   "file_extension": ".py",
   "mimetype": "text/x-python",
   "name": "python",
   "nbconvert_exporter": "python",
   "pygments_lexer": "ipython3",
   "version": "3.10.14"
  }
 },
 "nbformat": 4,
 "nbformat_minor": 5
}
