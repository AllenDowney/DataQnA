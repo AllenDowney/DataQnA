{
 "cells": [
  {
   "cell_type": "markdown",
   "id": "8afbc8d9",
   "metadata": {},
   "source": [
    "# Standard deviation of a count variable \n",
    "\n",
    "Here's a [question from the Reddit statistics forum](https://www.reddit.com/r/statistics/comments/1c1s7qo/q_is_taking_the_sd_of_a_count_variable_helpful/).\n",
    "\n",
    "> Is taking the standard deviation of a count variable helpful?\n",
    ">\n",
    "> A student brought this up to me in class this week and I had no idea how to answer. For some context they are doing in experiment that involves a count variable and then have a choice of what inferential stat test they want to run. If they pick a t-test they need to show SD error bars on their graph but one student kept telling me it isn't possible. I've spent time looking around forums and asked my PI who also shrugged since we're chemistry people. I was just wondering if someone can explain if finding the SD of a count variable is possible, and if it is, does it tell you anything important or is it just a waste of time? \n",
    "\n",
    "In a follow-up, OP provided more context:\n",
    "\n",
    "> To be specific students were counting the amount of eggs laid on two different types of substrate in petri dishes (something like wood and grass). They were then given the option to choose whatever inferential stat test they thought best fits the data and a number of them chose unpaired t-tests. They used [statistical software] to do the actual test (plugging in the count numbers from 2 variables with 3 replicates, so 6 numbers in total) .\n",
    ">\n",
    "> It was my understanding that because the data probably doesn't follow a normal distribution, SD error bars wouldn't really be helpful.\n",
    "\n",
    "There are several questions going on here, so let's start with the headline -- is taking the SD of a count variable helpful? "
   ]
  },
  {
   "cell_type": "markdown",
   "id": "7d6b656b",
   "metadata": {},
   "source": [
    "[Click here to run this notebook on Colab](https://colab.research.google.com/github/AllenDowney/DataQnA/blob/main/nb/count_data.ipynb)"
   ]
  },
  {
   "cell_type": "markdown",
   "id": "1a4d9fa0",
   "metadata": {
    "tags": [
     "hide-cell"
    ]
   },
   "source": [
    "I'll download a utilities module with some of my frequently-used functions, and then import the usual libraries."
   ]
  },
  {
   "cell_type": "code",
   "execution_count": 1,
   "id": "d7aef20d",
   "metadata": {
    "tags": [
     "hide-cell"
    ]
   },
   "outputs": [],
   "source": [
    "from os.path import basename, exists\n",
    "\n",
    "def download(url):\n",
    "    filename = basename(url)\n",
    "    if not exists(filename):\n",
    "        from urllib.request import urlretrieve\n",
    "\n",
    "        local, _ = urlretrieve(url, filename)\n",
    "        print(\"Downloaded \" + str(local))\n",
    "    return filename\n",
    "\n",
    "download('https://github.com/AllenDowney/DataQnA/raw/main/nb/utils.py')\n",
    "\n",
    "import numpy as np\n",
    "import matplotlib.pyplot as plt\n",
    "import pandas as pd\n",
    "import seaborn as sns\n",
    "\n",
    "from utils import decorate"
   ]
  },
  {
   "cell_type": "code",
   "execution_count": 2,
   "id": "55e904e3",
   "metadata": {
    "tags": [
     "hide-cell"
    ]
   },
   "outputs": [],
   "source": [
    "# install the empiricaldist library, if necessary\n",
    "\n",
    "try:\n",
    "    import empiricaldist\n",
    "except ImportError:\n",
    "    !pip install empiricaldist"
   ]
  },
  {
   "cell_type": "markdown",
   "id": "86637019",
   "metadata": {},
   "source": [
    "## Generating a dataset\n",
    "\n",
    "Count data are often well modeled by a negative binomial distribution, so that's what I'll use to generate a dataset."
   ]
  },
  {
   "cell_type": "code",
   "execution_count": 3,
   "id": "c9d6afd9",
   "metadata": {},
   "outputs": [],
   "source": [
    "from scipy.stats import nbinom\n",
    "\n",
    "n = 4\n",
    "p = 0.5\n",
    "\n",
    "np.random.seed(17)\n",
    "data = nbinom.rvs(n, p, size=100)"
   ]
  },
  {
   "cell_type": "markdown",
   "id": "5678d288",
   "metadata": {},
   "source": [
    "Here's what the distribution of values looks like.\n",
    "I'm using a `Pmf` object, which shows all of the values, rather than a histogram, which puts the values into bins. "
   ]
  },
  {
   "cell_type": "code",
   "execution_count": 4,
   "id": "73ed4319",
   "metadata": {},
   "outputs": [
    {
     "data": {
      "image/png": "[encoded data removed]",
      "text/plain": [
       "<Figure size 450x262.5 with 1 Axes>"
      ]
     },
     "metadata": {},
     "output_type": "display_data"
    }
   ],
   "source": [
    "from empiricaldist import Pmf\n",
    "\n",
    "pmf = Pmf.from_seq(data)\n",
    "pmf.bar()\n",
    "\n",
    "decorate(xlabel='Count data', ylabel='PMF')"
   ]
  },
  {
   "cell_type": "markdown",
   "id": "5270fa38",
   "metadata": {},
   "source": [
    "We can compute the mean and standard deviation of the data in the usual way."
   ]
  },
  {
   "cell_type": "code",
   "execution_count": 5,
   "id": "05bc4958",
   "metadata": {},
   "outputs": [
    {
     "data": {
      "text/plain": [
       "4.23"
      ]
     },
     "execution_count": 5,
     "metadata": {},
     "output_type": "execute_result"
    }
   ],
   "source": [
    "m = np.mean(data)\n",
    "m"
   ]
  },
  {
   "cell_type": "code",
   "execution_count": 6,
   "id": "0802ecff",
   "metadata": {},
   "outputs": [
    {
     "data": {
      "text/plain": [
       "2.7160817366198686"
      ]
     },
     "execution_count": 6,
     "metadata": {},
     "output_type": "execute_result"
    }
   ],
   "source": [
    "s = np.std(data)\n",
    "s"
   ]
  },
  {
   "cell_type": "markdown",
   "id": "c94dd0d0",
   "metadata": {},
   "source": [
    "Now the question is whether reporting the standard deviation of this dataset is useful as a descriptive statistic.\n",
    "I think it's OK -- it quantifies the spread of the distribution, just as it's intended to.\n",
    "\n",
    "The only problem is that when you report a mean and standard deviation, people often picture a normal distribution, and in this example, that picture is misleading.\n",
    "To see why, I'll plot the distribution of the data again, along with a normal distribution with the same mean and standard deviation."
   ]
  },
  {
   "cell_type": "code",
   "execution_count": 7,
   "id": "d4eb898f",
   "metadata": {},
   "outputs": [],
   "source": [
    "from scipy.stats import norm\n",
    "\n",
    "qs = np.linspace(m - 4*s, m+4*s)\n",
    "ps = norm(m, s).pdf(qs)"
   ]
  },
  {
   "cell_type": "code",
   "execution_count": 8,
   "id": "8e6f4b86",
   "metadata": {},
   "outputs": [
    {
     "data": {
      "image/png": "[encoded data removed]",
      "text/plain": [
       "<Figure size 450x262.5 with 1 Axes>"
      ]
     },
     "metadata": {},
     "output_type": "display_data"
    }
   ],
   "source": [
    "pmf.bar()\n",
    "plt.plot(qs, ps, color='C1')\n",
    "\n",
    "decorate(xlabel='Count data', ylabel='PMF')"
   ]
  },
  {
   "cell_type": "markdown",
   "id": "c5411bd5",
   "metadata": {},
   "source": [
    "The normal distribution is symmetric, unlike the distribution of the data, which is skewed to the right.\n",
    "And the normal distribution extends to negative values, which count data cannot.\n",
    "\n",
    "So, rather than reporting mean and standard deviation, it might be better to report a median and interquartile range (IQR)."
   ]
  },
  {
   "cell_type": "code",
   "execution_count": 9,
   "id": "003d1eec",
   "metadata": {},
   "outputs": [
    {
     "data": {
      "text/plain": [
       "(2.0, 4.0, 6.0)"
      ]
     },
     "execution_count": 9,
     "metadata": {},
     "output_type": "execute_result"
    }
   ],
   "source": [
    "low, median, high = np.percentile(data, [25, 50, 75])\n",
    "low, median, high"
   ]
  },
  {
   "cell_type": "code",
   "execution_count": 10,
   "id": "07dc52e3",
   "metadata": {},
   "outputs": [
    {
     "data": {
      "text/plain": [
       "(4.0, 4.0)"
      ]
     },
     "execution_count": 10,
     "metadata": {},
     "output_type": "execute_result"
    }
   ],
   "source": [
    "iqr = high - low\n",
    "median, iqr"
   ]
  },
  {
   "cell_type": "markdown",
   "id": "fa0572d3",
   "metadata": {},
   "source": [
    "A less common alternative would be to fit a negative binomial distribution to the data and report the estimated parameters.\n",
    "We can do that in this example by matching moments."
   ]
  },
  {
   "cell_type": "code",
   "execution_count": 11,
   "id": "15b5d6a2",
   "metadata": {},
   "outputs": [
    {
     "data": {
      "text/plain": [
       "(5.685520002542022, 0.5733960499383226)"
      ]
     },
     "execution_count": 11,
     "metadata": {},
     "output_type": "execute_result"
    }
   ],
   "source": [
    "p_estimate = m / (s ** 2)\n",
    "n_estimate = m * p_estimate / (1 - p_estimate)\n",
    "n_estimate, p_estimate"
   ]
  },
  {
   "cell_type": "markdown",
   "id": "d336f17d",
   "metadata": {},
   "source": [
    "With these parameters, we can compute the PMF of a negative binomial distribution, and see that it fits the data reasonably well."
   ]
  },
  {
   "cell_type": "code",
   "execution_count": 12,
   "id": "2ccf155f",
   "metadata": {},
   "outputs": [],
   "source": [
    "qs = np.arange(np.max(data) + 3)\n",
    "ps = nbinom(n_estimate, p_estimate).pmf(qs)"
   ]
  },
  {
   "cell_type": "code",
   "execution_count": 13,
   "id": "3f349651",
   "metadata": {},
   "outputs": [
    {
     "data": {
      "image/png": "[encoded data removed]",
      "text/plain": [
       "<Figure size 450x262.5 with 1 Axes>"
      ]
     },
     "metadata": {},
     "output_type": "display_data"
    }
   ],
   "source": [
    "pmf.bar()\n",
    "plt.plot(qs, ps, color='C1')\n",
    "\n",
    "decorate(xlabel='Count data', ylabel='PMF')"
   ]
  },
  {
   "cell_type": "markdown",
   "id": "1e9ba494",
   "metadata": {},
   "source": [
    "So that's my answer to the first question -- there's nothing wrong with reporting the standard deviation of a count variable, as long as we don't assume that the distribution is normal."
   ]
  },
  {
   "cell_type": "markdown",
   "id": "46b11cb0",
   "metadata": {},
   "source": [
    "## What about those error bars?\n",
    "\n",
    "OP also asked about showing \"SD error bars\".\n",
    "I'm not sure what they mean, but I think they are confusing standard deviation and standard error.\n",
    "\n",
    "* Standard deviation is a descriptive statistic that quantifies the spread of a dataset.\n",
    "\n",
    "* Standard error is an inferential statistic that quantifies the precision of an estimate.\n",
    "\n",
    "For example, suppose we use this sample to estimate the mean in the population.\n",
    "We might wonder how precise the estimate is.\n",
    "One way to answer that question is to ask how much the result varies if we run the experiment many times.\n",
    "We can answer that question by bootstrap resampling.\n",
    "\n",
    "The following function takes a dataset as a parameter, draws a random sample from it with replacement, and returns the mean of the resampled data."
   ]
  },
  {
   "cell_type": "code",
   "execution_count": 14,
   "id": "ed280c65",
   "metadata": {},
   "outputs": [],
   "source": [
    "def bootstrap_mean(data):\n",
    "    resampled = np.random.choice(data, size=len(data), replace=True)\n",
    "    return np.mean(resampled)"
   ]
  },
  {
   "cell_type": "markdown",
   "id": "dd9cc1df",
   "metadata": {},
   "source": [
    "If we call this function 1000 times, we get a sample from from sampling distribution of the mean."
   ]
  },
  {
   "cell_type": "code",
   "execution_count": 15,
   "id": "a2ff09c7",
   "metadata": {},
   "outputs": [],
   "source": [
    "sample = [bootstrap_mean(data) for i in range(1000)]"
   ]
  },
  {
   "cell_type": "markdown",
   "id": "faf01919",
   "metadata": {},
   "source": [
    "Here's what the sampling distribution looks like."
   ]
  },
  {
   "cell_type": "code",
   "execution_count": 16,
   "id": "719150f7",
   "metadata": {},
   "outputs": [
    {
     "data": {
      "image/png": "[encoded data removed]",
      "text/plain": [
       "<Figure size 450x262.5 with 1 Axes>"
      ]
     },
     "metadata": {},
     "output_type": "display_data"
    }
   ],
   "source": [
    "sns.kdeplot(sample)\n",
    "decorate(xlabel='Sample mean',\n",
    "         ylabel='Density',\n",
    "         title='Sampling distribution of the mean')"
   ]
  },
  {
   "cell_type": "markdown",
   "id": "4af0712c",
   "metadata": {},
   "source": [
    "This distribution shows how precise our estimate of the mean is.\n",
    "If we run the experiment again, the mean could plausibly be as low as 3.5 or as high as 5.0.\n",
    "\n",
    "There are two ways to summarize this distribution.\n",
    "First, the standard deviation of the sampling distribution is the standard error."
   ]
  },
  {
   "cell_type": "code",
   "execution_count": 17,
   "id": "64ac9b0d",
   "metadata": {},
   "outputs": [
    {
     "data": {
      "text/plain": [
       "0.26519081413201323"
      ]
     },
     "execution_count": 17,
     "metadata": {},
     "output_type": "execute_result"
    }
   ],
   "source": [
    "se = np.std(sample)\n",
    "se"
   ]
  },
  {
   "cell_type": "markdown",
   "id": "54c5ec1d",
   "metadata": {},
   "source": [
    "Second, the interval from the 5th to the 95th percentile is a 90% confidence interval."
   ]
  },
  {
   "cell_type": "code",
   "execution_count": 18,
   "id": "3863914e",
   "metadata": {},
   "outputs": [
    {
     "data": {
      "text/plain": [
       "array([3.82, 4.69])"
      ]
     },
     "execution_count": 18,
     "metadata": {},
     "output_type": "execute_result"
    }
   ],
   "source": [
    "ci90 = np.percentile(sample, [5, 95])\n",
    "ci90"
   ]
  },
  {
   "cell_type": "markdown",
   "id": "df30f7c9",
   "metadata": {},
   "source": [
    "To report the estimated mean and its standard error, you could write 4.23 ± 0.27.\n",
    "To report the estimated mean and its confidence interval, you could write 4.23 (CI90: 3.82, 4.69).\n",
    "\n",
    "The standard error and confidence interval contain pretty much the same information, so I think it's better to report one or the other, not both."
   ]
  },
  {
   "cell_type": "markdown",
   "id": "093f3f63",
   "metadata": {},
   "source": [
    "## Hypothesis testing\n",
    "\n",
    "Now let's get to the last part of the question, whether it's OK to run a t-test with count data.\n",
    "In general, a t-test works well if the variance of the data is not too big and the sample size is not too small.\n",
    "But it's not easy to say how big or how small.\n",
    "\n",
    "So, rather than worrying about when a t-test is OK or not, I suggest using simulations.\n",
    "To demonstrate, suppose we have count data from two groups."
   ]
  },
  {
   "cell_type": "code",
   "execution_count": 19,
   "id": "ce52e7d9",
   "metadata": {
    "tags": [
     "hide-cell"
    ]
   },
   "outputs": [],
   "source": [
    "np.random.seed(17)"
   ]
  },
  {
   "cell_type": "code",
   "execution_count": 20,
   "id": "2ba367a3",
   "metadata": {},
   "outputs": [
    {
     "data": {
      "text/plain": [
       "4.333333333333333"
      ]
     },
     "execution_count": 20,
     "metadata": {},
     "output_type": "execute_result"
    }
   ],
   "source": [
    "n = 4\n",
    "p = 0.5\n",
    "data1 = nbinom.rvs(n, p, size=30)\n",
    "m1 = np.mean(data1)\n",
    "m1"
   ]
  },
  {
   "cell_type": "code",
   "execution_count": 21,
   "id": "23ecc7b9",
   "metadata": {},
   "outputs": [
    {
     "data": {
      "text/plain": [
       "3.433333333333333"
      ]
     },
     "execution_count": 21,
     "metadata": {},
     "output_type": "execute_result"
    }
   ],
   "source": [
    "n = 4\n",
    "p = 0.55\n",
    "data2 = nbinom.rvs(n, p, size=30)\n",
    "m2 = np.mean(data2)\n",
    "m2"
   ]
  },
  {
   "cell_type": "code",
   "execution_count": 22,
   "id": "a825d343",
   "metadata": {},
   "outputs": [
    {
     "data": {
      "text/plain": [
       "0.8999999999999999"
      ]
     },
     "execution_count": 22,
     "metadata": {},
     "output_type": "execute_result"
    }
   ],
   "source": [
    "diff = m1 - m2\n",
    "diff"
   ]
  },
  {
   "cell_type": "markdown",
   "id": "14ed6361",
   "metadata": {},
   "source": [
    "It looks like there is a difference in the means, but we might wonder if it could be due to chance.\n",
    "To answer that question, we can simulate a world where there is actually no difference between the groups.\n",
    "One way to do that is a permutation test, where we combine the groups, shuffle, then split them again, and compute the difference in means."
   ]
  },
  {
   "cell_type": "code",
   "execution_count": 23,
   "id": "99f5915d",
   "metadata": {},
   "outputs": [],
   "source": [
    "def simulate_two_groups(data1, data2):\n",
    "    n, m = len(data1), len(data2)\n",
    "    data = np.append(data1, data2)\n",
    "    np.random.shuffle(data)\n",
    "    group1 = data[:n]\n",
    "    group2 = data[n:]\n",
    "    return group1.mean() - group2.mean()"
   ]
  },
  {
   "cell_type": "markdown",
   "id": "c65acd4b",
   "metadata": {},
   "source": [
    "Each time we call this function, it computes a difference in means under the null hypothesis that there is actually no difference between the groups."
   ]
  },
  {
   "cell_type": "code",
   "execution_count": 24,
   "id": "8d17eae5",
   "metadata": {},
   "outputs": [
    {
     "data": {
      "text/plain": [
       "-0.4333333333333331"
      ]
     },
     "execution_count": 24,
     "metadata": {},
     "output_type": "execute_result"
    }
   ],
   "source": [
    "simulate_two_groups(data1, data2)"
   ]
  },
  {
   "cell_type": "markdown",
   "id": "93689fcd",
   "metadata": {},
   "source": [
    "And if we run it 1000 times, we get a sample from the distribution of differences under the null hypothesis."
   ]
  },
  {
   "cell_type": "code",
   "execution_count": 25,
   "id": "75111961",
   "metadata": {},
   "outputs": [],
   "source": [
    "sample = [simulate_two_groups(data1, data2) for i in range(1000)]"
   ]
  },
  {
   "cell_type": "markdown",
   "id": "b5390307",
   "metadata": {},
   "source": [
    "Here's what that distribution looks like:"
   ]
  },
  {
   "cell_type": "code",
   "execution_count": 26,
   "id": "cfe0a172",
   "metadata": {},
   "outputs": [
    {
     "data": {
      "image/png": "[encoded data removed]",
      "text/plain": [
       "<Figure size 450x262.5 with 1 Axes>"
      ]
     },
     "metadata": {},
     "output_type": "display_data"
    }
   ],
   "source": [
    "sns.kdeplot(sample)\n",
    "decorate(xlabel='Difference in means',\n",
    "         ylabel='Density',\n",
    "         title='Distribution of the difference under the null hypothesis')"
   ]
  },
  {
   "cell_type": "markdown",
   "id": "8c7fe77c",
   "metadata": {},
   "source": [
    "The mean of this distribution is close to 0, as we expect if the two groups are actually the same."
   ]
  },
  {
   "cell_type": "code",
   "execution_count": 27,
   "id": "aff2d593",
   "metadata": {},
   "outputs": [
    {
     "data": {
      "text/plain": [
       "-0.0017333333333333326"
      ]
     },
     "execution_count": 27,
     "metadata": {},
     "output_type": "execute_result"
    }
   ],
   "source": [
    "np.mean(sample)"
   ]
  },
  {
   "cell_type": "markdown",
   "id": "e55a8e1d",
   "metadata": {},
   "source": [
    "Now we can ask -- under the null hypothesis, what is the probability that we would see a difference as big as the one we saw (in either direction)?"
   ]
  },
  {
   "cell_type": "code",
   "execution_count": 28,
   "id": "bfb5e55f",
   "metadata": {},
   "outputs": [
    {
     "data": {
      "text/plain": [
       "0.136"
      ]
     },
     "execution_count": 28,
     "metadata": {},
     "output_type": "execute_result"
    }
   ],
   "source": [
    "p_value = np.mean(np.abs(sample) > diff)\n",
    "p_value"
   ]
  },
  {
   "cell_type": "markdown",
   "id": "54bdd97d",
   "metadata": {},
   "source": [
    "The answer is about 14%, which means that if there is actually no difference between the groups, it would not be surprising to see a difference as big as `diff` by chance.\n",
    "We can conclude that this dataset does not provide strong evidence that there is a substantial difference between the groups."
   ]
  },
  {
   "cell_type": "markdown",
   "id": "c8ed6108",
   "metadata": {},
   "source": [
    "In the dataset I generated, the sample size in each group is 30.\n",
    "In the dataset the OP asked about, the sample size in each group is only 3.\n",
    "With such a small sample, the permutation test might not work well.\n",
    "But with such a small sample, there is not much point in running a hypothesis test of any kind.\n",
    "I think it would be better to consider the experiment exploratory and report descriptive statistics only."
   ]
  }
 ],
 "metadata": {
  "celltoolbar": "Tags",
  "kernelspec": {
   "display_name": "Python 3 (ipykernel)",
   "language": "python",
   "name": "python3"
  },
  "language_info": {
   "codemirror_mode": {
    "name": "ipython",
    "version": 3
   },
   "file_extension": ".py",
   "mimetype": "text/x-python",
   "name": "python",
   "nbconvert_exporter": "python",
   "pygments_lexer": "ipython3",
   "version": "3.10.14"
  }
 },
 "nbformat": 4,
 "nbformat_minor": 5
}
