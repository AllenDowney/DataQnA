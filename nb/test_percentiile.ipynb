{
 "cells": [
  {
   "cell_type": "markdown",
   "metadata": {},
   "source": [
    "# Testing percentiles\n",
    "\n",
    "Here's a [question from the Reddit statistics forum](https://www.reddit.com/r/statistics/comments/1cdpblu/comment/l1e9zaf/).\n",
    "\n",
    "> I have two different samples (about 100 observations per sample) drawn from the same population (or that's what I hypothesize; the populations may in fact be different). The samples and population are approximately normal in distribution.\n",
    ">\n",
    "> I want to estimate the 85th percentile value for both samples, and then see if there is a statistically significant difference between these two values. I cannot use a normal z- or t-test for this, can I? It's my current understanding that those tests would only work if I were comparing the means of the samples.\n",
    ">\n",
    "> As an extension of this, say I wanted to compare one of these 85th percentile values to a fixed value; again, if I was looking at the mean, I would just construct a confidence interval and see if the fixed value fell within it...but the percentile stuff is throwing me for a loop.\n",
    ">\n",
    "> This is [...] related to a research project I'm working on (in my job).\n",
    "\n",
    "\n",
    "There are two questions here.\n",
    "The first is about testing a difference in percentiles between two groups.\n",
    "The second is about the difference between a percentile from an observed sample and an expected value.\n",
    "Let's see what we can do."
   ]
  },
  {
   "cell_type": "markdown",
   "metadata": {
    "tags": [
     "remove-print"
    ]
   },
   "source": [
    "[Click here to run this notebook on Colab](https://colab.research.google.com/github/AllenDowney/DataQnA/blob/main/nb/test_percentile.ipynb)."
   ]
  },
  {
   "cell_type": "markdown",
   "metadata": {
    "tags": [
     "remove-print"
    ]
   },
   "source": [
    "I'll download a utilities module with some of my frequently-used functions, and then import the usual libraries."
   ]
  },
  {
   "cell_type": "code",
   "execution_count": 1,
   "metadata": {
    "tags": [
     "remove-print"
    ]
   },
   "outputs": [],
   "source": [
    "from os.path import basename, exists\n",
    "\n",
    "def download(url):\n",
    "    filename = basename(url)\n",
    "    if not exists(filename):\n",
    "        from urllib.request import urlretrieve\n",
    "\n",
    "        local, _ = urlretrieve(url, filename)\n",
    "        print(\"Downloaded \" + str(local))\n",
    "    return filename\n",
    "\n",
    "download('https://github.com/AllenDowney/DataQnA/raw/main/nb/utils.py')\n",
    "\n",
    "import numpy as np\n",
    "import matplotlib.pyplot as plt\n",
    "import pandas as pd\n",
    "import seaborn as sns\n",
    "\n",
    "from utils import decorate"
   ]
  },
  {
   "cell_type": "code",
   "execution_count": 2,
   "metadata": {
    "tags": [
     "hide-cell"
    ]
   },
   "outputs": [],
   "source": [
    "# install the empiricaldist library, if necessary\n",
    "\n",
    "try:\n",
    "    import empiricaldist\n",
    "except ImportError:\n",
    "    !pip install empiricaldist"
   ]
  },
  {
   "cell_type": "markdown",
   "metadata": {},
   "source": [
    "## Data\n",
    "\n",
    "Since OP didn't provide a dataset, we have to generate one.\n",
    "I'll draw two samples from Gaussian distributions with the same standard deviation and different means."
   ]
  },
  {
   "cell_type": "code",
   "execution_count": 3,
   "metadata": {},
   "outputs": [],
   "source": [
    "np.random.seed(17)\n",
    "\n",
    "mu = 10\n",
    "sigma = 2\n",
    "\n",
    "group1 = np.random.normal(mu, sigma, size=100)\n",
    "group2 = np.random.normal(mu+1, sigma, size=100)"
   ]
  },
  {
   "cell_type": "markdown",
   "metadata": {},
   "source": [
    "Here's what the distributions of the groups look like."
   ]
  },
  {
   "cell_type": "code",
   "execution_count": 4,
   "metadata": {},
   "outputs": [
    {
     "data": {
      "image/png": "[encoded data removed]",
      "text/plain": [
       "<Figure size 450x262.5 with 1 Axes>"
      ]
     },
     "metadata": {},
     "output_type": "display_data"
    }
   ],
   "source": [
    "sns.kdeplot(group1, label='Group1')\n",
    "sns.kdeplot(group2, label='Group2')\n",
    "\n",
    "decorate(xlabel='Quantity',\n",
    "         ylabel='Density',\n",
    "         title='Distributions of the data')"
   ]
  },
  {
   "cell_type": "markdown",
   "metadata": {},
   "source": [
    "If we compute the 85th percentile in both groups, we see a difference, as expected."
   ]
  },
  {
   "cell_type": "code",
   "execution_count": 5,
   "metadata": {},
   "outputs": [
    {
     "data": {
      "text/plain": [
       "(12.241826987876475, 13.057003640622057)"
      ]
     },
     "execution_count": 5,
     "metadata": {},
     "output_type": "execute_result"
    }
   ],
   "source": [
    "stat1 = np.percentile(group1, 85)\n",
    "stat2 = np.percentile(group2, 85)\n",
    "stat1, stat2"
   ]
  },
  {
   "cell_type": "markdown",
   "metadata": {},
   "source": [
    "And here's the size of the difference."
   ]
  },
  {
   "cell_type": "code",
   "execution_count": 6,
   "metadata": {},
   "outputs": [
    {
     "data": {
      "text/plain": [
       "0.8151766527455813"
      ]
     },
     "execution_count": 6,
     "metadata": {},
     "output_type": "execute_result"
    }
   ],
   "source": [
    "actual_diff = stat2 - stat1\n",
    "actual_diff"
   ]
  },
  {
   "cell_type": "markdown",
   "metadata": {},
   "source": [
    "Let's see if a difference of that size would be likely if the two samples were actually drawn from the same distribution."
   ]
  },
  {
   "cell_type": "markdown",
   "metadata": {},
   "source": [
    "## Testing the Difference\n",
    "\n",
    "When we test a difference between two groups, the usual model of the null hypothesis is that the groups are actually identical.\n",
    "If that's true, the two samples came from the same distribution, so we can combine them into a single sample."
   ]
  },
  {
   "cell_type": "code",
   "execution_count": 7,
   "metadata": {},
   "outputs": [],
   "source": [
    "pooled = np.concatenate([group1, group2])\n",
    "n, m = len(group1), len(group2)"
   ]
  },
  {
   "cell_type": "markdown",
   "metadata": {},
   "source": [
    "Now we can simulate the null hypothesis by permutation -- that is, by shuffling the pooled data and splitting it into two groups with the same sizes as the original.\n",
    "The following function generates two samples under this assumption, and returns the difference in their 85th percentiles."
   ]
  },
  {
   "cell_type": "code",
   "execution_count": 8,
   "metadata": {},
   "outputs": [],
   "source": [
    "def simulate_percentile_difference():\n",
    "    np.random.shuffle(pooled)\n",
    "    shuffled1 = pooled[:n]\n",
    "    shuffled2 = pooled[n:]\n",
    "    diff = np.percentile(shuffled1, 85) - np.percentile(shuffled2, 85)\n",
    "    return diff"
   ]
  },
  {
   "cell_type": "markdown",
   "metadata": {},
   "source": [
    "If we call it many times, the result is a sample from the distribution of differences under the null hypothesis."
   ]
  },
  {
   "cell_type": "code",
   "execution_count": 9,
   "metadata": {},
   "outputs": [],
   "source": [
    "np.random.seed(19)\n",
    "sample_diff = [simulate_percentile_difference() for i in range(1001)]"
   ]
  },
  {
   "cell_type": "markdown",
   "metadata": {},
   "source": [
    "Here's what it looks like, with a vertical line at the observed difference."
   ]
  },
  {
   "cell_type": "code",
   "execution_count": 10,
   "metadata": {},
   "outputs": [
    {
     "data": {
      "image/png": "[encoded data removed]",
      "text/plain": [
       "<Figure size 450x262.5 with 1 Axes>"
      ]
     },
     "metadata": {},
     "output_type": "display_data"
    }
   ],
   "source": [
    "sns.kdeplot(sample_diff, label='')\n",
    "plt.axvline(actual_diff, ls=':', color='gray')\n",
    "decorate(xlabel='Difference',\n",
    "         ylabel='Density',\n",
    "         title='Distribution of differences under H0')"
   ]
  },
  {
   "cell_type": "markdown",
   "metadata": {},
   "source": [
    "To estimate a one-sided p-value, we can compute the fraction of the sample that exceeds the actual difference."
   ]
  },
  {
   "cell_type": "code",
   "execution_count": 11,
   "metadata": {},
   "outputs": [
    {
     "data": {
      "text/plain": [
       "0.04195804195804196"
      ]
     },
     "execution_count": 11,
     "metadata": {},
     "output_type": "execute_result"
    }
   ],
   "source": [
    "p_value_one_sided = (sample_diff >= actual_diff).mean()\n",
    "p_value_one_sided"
   ]
  },
  {
   "cell_type": "markdown",
   "metadata": {},
   "source": [
    "Or, for a two-sided p-value, we can compute the fraction of the sample that exceeds the actual difference in absolute value."
   ]
  },
  {
   "cell_type": "code",
   "execution_count": 12,
   "metadata": {},
   "outputs": [
    {
     "data": {
      "text/plain": [
       "0.07892107892107893"
      ]
     },
     "execution_count": 12,
     "metadata": {},
     "output_type": "execute_result"
    }
   ],
   "source": [
    "p_value_two_sided = (np.abs(sample_diff) > actual_diff).mean()\n",
    "p_value_two_sided"
   ]
  },
  {
   "cell_type": "markdown",
   "metadata": {},
   "source": [
    "In this example, the result of the one-sided test would be considered significant at the 5% \"significance level\", but the two-sided test would not.\n",
    "So which is it?\n",
    "\n",
    "In my opinion, it is not worth worrying about.\n",
    "My interpretation of the results is the same either way: under the null hypothesis, a difference as big as the one we saw would be unlikely.\n",
    "But we can't rule out the possibility that the groups are actually identical, and the difference is due to random variation."
   ]
  },
  {
   "cell_type": "markdown",
   "metadata": {},
   "source": [
    "## Testing a fixed value\n",
    "\n",
    "Now let's turn to the second problem.\n",
    "Suppose we have reason to think that the actual value of the 85th percentile is 12.3, and we would like to know whether the data contradict this hypothesis."
   ]
  },
  {
   "cell_type": "code",
   "execution_count": 13,
   "metadata": {},
   "outputs": [],
   "source": [
    "expected = 12.3"
   ]
  },
  {
   "cell_type": "markdown",
   "metadata": {},
   "source": [
    "We'll test `group1` first.\n",
    "Here's the 85th percentile of `group1` and its difference from the expected value."
   ]
  },
  {
   "cell_type": "code",
   "execution_count": 14,
   "metadata": {},
   "outputs": [
    {
     "data": {
      "text/plain": [
       "(12.241826987876475, -0.058173012123525325)"
      ]
     },
     "execution_count": 14,
     "metadata": {},
     "output_type": "execute_result"
    }
   ],
   "source": [
    "stat1 = np.percentile(group1, 85)\n",
    "actual_diff1 = stat1 - expected\n",
    "stat1, actual_diff1"
   ]
  },
  {
   "cell_type": "markdown",
   "metadata": {},
   "source": [
    "Let's see if a difference of this magnitude is likely to happen under the null hypothesis.\n",
    "One way to model the null hypothesis is to create a dataset that is similar to the observed data, but where the 85th percentile is exactly as expected.\n",
    "We can do that by shifting the observed data by the observed distance."
   ]
  },
  {
   "cell_type": "code",
   "execution_count": 15,
   "metadata": {},
   "outputs": [
    {
     "data": {
      "text/plain": [
       "12.3"
      ]
     },
     "execution_count": 15,
     "metadata": {},
     "output_type": "execute_result"
    }
   ],
   "source": [
    "shifted = group1 - actual_diff1\n",
    "np.percentile(shifted, 85)"
   ]
  },
  {
   "cell_type": "markdown",
   "metadata": {},
   "source": [
    "The 85th percentile of the shifted data is the expected value, exactly.\n",
    "\n",
    "Now, to generate samples under the null hypothesis, we can use the following function, which takes a sample, shifts it to have the expected value of the 85th percentile, generates a bootstrap resample of the shifted values, and returns the difference between the 85th percentile of the sample and the expected value."
   ]
  },
  {
   "cell_type": "code",
   "execution_count": 39,
   "metadata": {},
   "outputs": [],
   "source": [
    "def bootstrap_percentile(group):\n",
    "    stat = np.percentile(group, 85) - expected\n",
    "    shifted = group - stat\n",
    "    resampled = np.random.choice(shifted, size=len(group), replace=True)\n",
    "    return np.percentile(resampled, 85) - expected"
   ]
  },
  {
   "cell_type": "markdown",
   "metadata": {},
   "source": [
    "If we call this function many times, we get a sample of the differences we expect under the null hypothesis."
   ]
  },
  {
   "cell_type": "code",
   "execution_count": 40,
   "metadata": {},
   "outputs": [],
   "source": [
    "np.random.seed(17)\n",
    "sample1 = [bootstrap_percentile(group1) for i in range(1001)]"
   ]
  },
  {
   "cell_type": "markdown",
   "metadata": {},
   "source": [
    "The following function shows the distribution of the sample with a vertical line at the observed value."
   ]
  },
  {
   "cell_type": "code",
   "execution_count": 41,
   "metadata": {},
   "outputs": [
    {
     "data": {
      "image/png": "[encoded data removed]",
      "text/plain": [
       "<Figure size 450x262.5 with 1 Axes>"
      ]
     },
     "metadata": {},
     "output_type": "display_data"
    }
   ],
   "source": [
    "sns.kdeplot(sample1, label='Sampling distribution')\n",
    "plt.axvline(actual_diff1, ls=':', color='gray')\n",
    "decorate(xlabel='Deviation',\n",
    "         ylabel='Density',\n",
    "         title='Distribution of deviations from expected under H0')"
   ]
  },
  {
   "cell_type": "markdown",
   "metadata": {},
   "source": [
    "Without computing a p-value, we can see that a difference as big as `actual_diff1` is entirely plausible until the null hypothesis.\n",
    "We can confirm that by computing a one-sided p-value."
   ]
  },
  {
   "cell_type": "code",
   "execution_count": 42,
   "metadata": {},
   "outputs": [
    {
     "data": {
      "text/plain": [
       "0.4405594405594406"
      ]
     },
     "execution_count": 42,
     "metadata": {},
     "output_type": "execute_result"
    }
   ],
   "source": [
    "p_value_one_side = (sample1 < actual_diff1).mean()\n",
    "p_value_one_side"
   ]
  },
  {
   "cell_type": "markdown",
   "metadata": {},
   "source": [
    "So the observed difference in the first group is not statistically significant.\n",
    "Now let's do the same thing for the second group."
   ]
  },
  {
   "cell_type": "code",
   "execution_count": 43,
   "metadata": {},
   "outputs": [
    {
     "data": {
      "text/plain": [
       "0.7570036406220559"
      ]
     },
     "execution_count": 43,
     "metadata": {},
     "output_type": "execute_result"
    }
   ],
   "source": [
    "stat2 = np.percentile(group2, 85)\n",
    "actual_diff2 = stat2 - expected\n",
    "actual_diff2"
   ]
  },
  {
   "cell_type": "code",
   "execution_count": 44,
   "metadata": {},
   "outputs": [],
   "source": [
    "np.random.seed(17)\n",
    "sample2 = [bootstrap_percentile(group2) for i in range(1001)]"
   ]
  },
  {
   "cell_type": "markdown",
   "metadata": {},
   "source": [
    "Here's what the distribution of difference looks like under the null hypothesis, with a vertical line at the observed value."
   ]
  },
  {
   "cell_type": "code",
   "execution_count": 45,
   "metadata": {},
   "outputs": [
    {
     "data": {
      "image/png": "[encoded data removed]",
      "text/plain": [
       "<Figure size 450x262.5 with 1 Axes>"
      ]
     },
     "metadata": {},
     "output_type": "display_data"
    }
   ],
   "source": [
    "sns.kdeplot(sample2, label='Group 2')\n",
    "plt.axvline(actual_diff2, ls=':', color='gray')\n",
    "decorate(xlabel='Deviation',\n",
    "         ylabel='Density',\n",
    "         title='Distribution of deviations from expected under H0')"
   ]
  },
  {
   "cell_type": "markdown",
   "metadata": {},
   "source": [
    "The KDE plot stretches the distribution a little, but actually there are no differences in the sample that exceed the observed value."
   ]
  },
  {
   "cell_type": "code",
   "execution_count": 46,
   "metadata": {},
   "outputs": [
    {
     "data": {
      "text/plain": [
       "(0.6391539586773582, 0.7570036406220559)"
      ]
     },
     "execution_count": 46,
     "metadata": {},
     "output_type": "execute_result"
    }
   ],
   "source": [
    "np.max(sample2), actual_diff2"
   ]
  },
  {
   "cell_type": "markdown",
   "metadata": {},
   "source": [
    "We can conclude that a difference as big as that is very unlikely under the null hypothesis.\n",
    "There's not much point in computing a p-value more precisely than that, but if it's required, we can estimate it if we assume that the tail of the sampling distribution is roughly Gaussian.\n",
    "In that case, we can fit a KDE to the sampling distribution like this."
   ]
  },
  {
   "cell_type": "code",
   "execution_count": 47,
   "metadata": {},
   "outputs": [],
   "source": [
    "from scipy.stats import gaussian_kde\n",
    "\n",
    "kde = gaussian_kde(sample2)"
   ]
  },
  {
   "cell_type": "markdown",
   "metadata": {},
   "source": [
    "And use a `Pmf` object to approximate the estimated density."
   ]
  },
  {
   "cell_type": "code",
   "execution_count": 48,
   "metadata": {},
   "outputs": [
    {
     "data": {
      "text/plain": [
       "49.99999999999998"
      ]
     },
     "execution_count": 48,
     "metadata": {},
     "output_type": "execute_result"
    }
   ],
   "source": [
    "from empiricaldist import Pmf\n",
    "\n",
    "qs = np.linspace(-2, 2, 201)\n",
    "ps = kde.evaluate(qs)\n",
    "pmf = Pmf(ps, qs)\n",
    "pmf.normalize()"
   ]
  },
  {
   "cell_type": "markdown",
   "metadata": {},
   "source": [
    "Then we can use the corresponding CDF to compute the probability of a value that exceeds the observed difference."
   ]
  },
  {
   "cell_type": "code",
   "execution_count": 49,
   "metadata": {},
   "outputs": [
    {
     "data": {
      "text/plain": [
       "3.319666203671634e-05"
      ]
     },
     "execution_count": 49,
     "metadata": {},
     "output_type": "execute_result"
    }
   ],
   "source": [
    "cdf = pmf.make_cdf()\n",
    "p_value = 1 - cdf(actual_diff)\n",
    "p_value"
   ]
  },
  {
   "cell_type": "markdown",
   "metadata": {},
   "source": [
    "So the p-value is quite small."
   ]
  },
  {
   "cell_type": "markdown",
   "metadata": {},
   "source": [
    "## Model-based resampling\n",
    "\n",
    "The bootstrap method in the previous section is a good choice if we are unsure about the distribution of the data, or if there are outliers.\n",
    "\n",
    "But there is another way we might model the null hypothesis: suppose we want to know if the data might have come from a Gaussian distribution with a given 85th percentile.\n",
    "\n",
    "We can compute a p-value under this version of the null hypothesis, but only if we make an assumption about the standard deviation of the hypothetical Gaussian distribution.\n",
    "One way to specify that part of the model is to use the standard deviation of the data."
   ]
  },
  {
   "cell_type": "code",
   "execution_count": 50,
   "metadata": {},
   "outputs": [],
   "source": [
    "s = np.std(group1)"
   ]
  },
  {
   "cell_type": "markdown",
   "metadata": {},
   "source": [
    "Now we need to find a Gaussian distribution with a given standard deviation that has the expected 85th percentile.\n",
    "We can do that by starting with a distribution that's centered at 0 and then shifting it."
   ]
  },
  {
   "cell_type": "code",
   "execution_count": 51,
   "metadata": {},
   "outputs": [
    {
     "data": {
      "text/plain": [
       "2.3232308032911324"
      ]
     },
     "execution_count": 51,
     "metadata": {},
     "output_type": "execute_result"
    }
   ],
   "source": [
    "from scipy.stats import norm\n",
    "\n",
    "dist0 = norm(0, s)\n",
    "quantile = dist0.ppf(0.85)\n",
    "quantile"
   ]
  },
  {
   "cell_type": "code",
   "execution_count": 52,
   "metadata": {},
   "outputs": [
    {
     "data": {
      "text/plain": [
       "12.3"
      ]
     },
     "execution_count": 52,
     "metadata": {},
     "output_type": "execute_result"
    }
   ],
   "source": [
    "center = expected - quantile\n",
    "dist = norm(center, s)\n",
    "dist.ppf(0.85)"
   ]
  },
  {
   "cell_type": "markdown",
   "metadata": {},
   "source": [
    "The following function takes one of the groups, fits a hypothetical model to it, generates a sample from the model, and returns the difference between the 85th percentile of the sample and the expected value."
   ]
  },
  {
   "cell_type": "code",
   "execution_count": 53,
   "metadata": {},
   "outputs": [],
   "source": [
    "def gaussian_percentile(group):\n",
    "    s = np.std(group)\n",
    "    dist0 = norm(0, s)\n",
    "    quantile = dist0.ppf(0.85)\n",
    "    center = expected - quantile\n",
    "    dist = norm(center, s)\n",
    "    sample = dist.rvs(size=len(group))\n",
    "    return np.percentile(sample, 85) - expected"
   ]
  },
  {
   "cell_type": "markdown",
   "metadata": {},
   "source": [
    "If we call this function many times, we get the sampling distribution of the test statistic under the null hypothesis."
   ]
  },
  {
   "cell_type": "code",
   "execution_count": 54,
   "metadata": {},
   "outputs": [],
   "source": [
    "np.random.seed(17)\n",
    "sample3 = [gaussian_percentile(group1) for i in range(1001)]"
   ]
  },
  {
   "cell_type": "markdown",
   "metadata": {},
   "source": [
    "Here's the distribution of the result, compared to the corresponding distribution from the bootstrapped model."
   ]
  },
  {
   "cell_type": "code",
   "execution_count": 55,
   "metadata": {},
   "outputs": [
    {
     "data": {
      "image/png": "[encoded data removed]",
      "text/plain": [
       "<Figure size 450x262.5 with 1 Axes>"
      ]
     },
     "metadata": {},
     "output_type": "display_data"
    }
   ],
   "source": [
    "sns.kdeplot(sample1, label='Bootstrap model')\n",
    "sns.kdeplot(sample3, label='Gaussian model')\n",
    "plt.axvline(actual_diff1, ls=':', color='gray')\n",
    "decorate(xlabel='Quantity',\n",
    "         ylabel='Density',\n",
    "         title='Distribution of deviations from expected under H0, Group 1')"
   ]
  },
  {
   "cell_type": "markdown",
   "metadata": {},
   "source": [
    "The shapes of the distributions are different, but their ranges are comparable.\n",
    "And the conclusion is the same: a difference as big as `actual_diff1` is entirely plausible under the null hypothesis."
   ]
  },
  {
   "cell_type": "code",
   "execution_count": 56,
   "metadata": {},
   "outputs": [
    {
     "data": {
      "text/plain": [
       "0.48451548451548454"
      ]
     },
     "execution_count": 56,
     "metadata": {},
     "output_type": "execute_result"
    }
   ],
   "source": [
    "p_value_one_side = (sample3 < actual_diff1).mean()\n",
    "p_value_one_side"
   ]
  },
  {
   "cell_type": "markdown",
   "metadata": {},
   "source": [
    "Now let's try the same test with Group 2."
   ]
  },
  {
   "cell_type": "code",
   "execution_count": 57,
   "metadata": {},
   "outputs": [],
   "source": [
    "np.random.seed(17)\n",
    "sample4 = [gaussian_percentile(group2) for i in range(1001)]"
   ]
  },
  {
   "cell_type": "markdown",
   "metadata": {},
   "source": [
    "Here's the result, along with the results from the bootstrap model."
   ]
  },
  {
   "cell_type": "code",
   "execution_count": 58,
   "metadata": {},
   "outputs": [
    {
     "data": {
      "image/png": "[encoded data removed]",
      "text/plain": [
       "<Figure size 450x262.5 with 1 Axes>"
      ]
     },
     "metadata": {},
     "output_type": "display_data"
    }
   ],
   "source": [
    "sns.kdeplot(sample2, label='Bootstrap model')\n",
    "sns.kdeplot(sample4, label='Gaussian model')\n",
    "decorate(xlabel='Quantity',\n",
    "         ylabel='Density',\n",
    "         title='Distribution of deviations from expected under H0, Group 2')"
   ]
  },
  {
   "cell_type": "markdown",
   "metadata": {},
   "source": [
    "Again, the shapes of the distributions are different, but the conclusion is the same.\n",
    "A difference as big as `actual_diff2` is unlikely under the null hypothesis."
   ]
  },
  {
   "cell_type": "code",
   "execution_count": 59,
   "metadata": {},
   "outputs": [
    {
     "data": {
      "text/plain": [
       "0.003996003996003996"
      ]
     },
     "execution_count": 59,
     "metadata": {},
     "output_type": "execute_result"
    }
   ],
   "source": [
    "p_value_one_side = (sample4 > actual_diff2).mean()\n",
    "p_value_one_side"
   ]
  },
  {
   "cell_type": "markdown",
   "metadata": {},
   "source": [
    "As usual, the two-sided p-value is bigger by a factor of two, roughly, but the difference never matters in practice."
   ]
  },
  {
   "cell_type": "code",
   "execution_count": 60,
   "metadata": {},
   "outputs": [
    {
     "data": {
      "text/plain": [
       "0.006993006993006993"
      ]
     },
     "execution_count": 60,
     "metadata": {},
     "output_type": "execute_result"
    }
   ],
   "source": [
    "p_value_two_sided = (np.abs(sample4) > actual_diff2).mean()\n",
    "p_value_two_sided"
   ]
  },
  {
   "cell_type": "markdown",
   "metadata": {},
   "source": [
    "Under this model of the null hypothesis, the probability is small that the 85th percentile of the data would exceed the expected value by so much."
   ]
  },
  {
   "cell_type": "markdown",
   "metadata": {},
   "source": [
    "## Discussion\n",
    "\n",
    "Coming soon"
   ]
  },
  {
   "cell_type": "markdown",
   "metadata": {},
   "source": [
    "*Data Q&A: Answering the real questions with Python*\n",
    "\n",
    "Copyright 2024 [Allen B. Downey](https://allendowney.com)\n",
    "\n",
    "License: [Creative Commons Attribution-NonCommercial-ShareAlike 4.0 International](https://creativecommons.org/licenses/by-nc-sa/4.0/)"
   ]
  }
 ],
 "metadata": {
  "celltoolbar": "Tags",
  "kernelspec": {
   "display_name": "Python 3 (ipykernel)",
   "language": "python",
   "name": "python3"
  },
  "language_info": {
   "codemirror_mode": {
    "name": "ipython",
    "version": 3
   },
   "file_extension": ".py",
   "mimetype": "text/x-python",
   "name": "python",
   "nbconvert_exporter": "python",
   "pygments_lexer": "ipython3",
   "version": "3.10.14"
  }
 },
 "nbformat": 4,
 "nbformat_minor": 2
}
