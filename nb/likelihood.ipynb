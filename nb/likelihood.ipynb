{
 "cells": [
  {
   "cell_type": "markdown",
   "metadata": {},
   "source": [
    "# Density and Likelihood\n",
    "\n",
    "Here's a [question from the Reddit statistics forum](https://www.reddit.com/r/statistics/comments/1dg7ji2/i_need_clarity_on_likelihood_and_probability/).\n",
    "\n",
    ">  I'm a math graduate and am partially self taught. I am really frustrated with likelihood and probability density, two concepts that I personally think are explained so disastrously that I've been struggling with them for an embarrassingly long time. Here's my current understanding and what I want to understand:\n",
    ">\n",
    "> *    probability density is the 'concentration of probability' or probability per unit and the value of the density in any particular interval depends on the density function used. When you integrate the density curve over all outcomes x in X where X is a random variable and x are its realizations then the result should be all the probability or 1.\n",
    ">\n",
    "> *    likelihood is the joint probability, in the discrete case, of observing fixed and known data depending on what parameter(s) value we choose. In the continuous case we do not have a nonzero probability of any single value but we do have nonzero probability within some infinitely small interval (containing infinite values?) [x, x+h] and maximizing the likelihood of observing this data is equivalent to maximizing the probability of observing it, which we can do by maximizing the density at x.\n",
    ">\n",
    "> My questions are:\n",
    ">\n",
    "> Is what I wrote above correct? Probability density and likelihood are not the same thing. But what the precise distinction is in the continuous case is not completely cut and dry to me. [...]\n",
    "\n",
    "I agree with OP -- these topics are confusing and not always explained well. So let's see what we can do."
   ]
  },
  {
   "cell_type": "markdown",
   "metadata": {
    "tags": [
     "remove-print"
    ]
   },
   "source": [
    "[Click here to run this notebook on Colab](https://colab.research.google.com/github/AllenDowney/DataQnA/blob/main/nb/likelihood.ipynb)."
   ]
  },
  {
   "cell_type": "markdown",
   "metadata": {
    "tags": [
     "remove-print"
    ]
   },
   "source": [
    "I'll download a utilities module with some of my frequently-used functions, and then import the usual libraries."
   ]
  },
  {
   "cell_type": "code",
   "execution_count": 1,
   "metadata": {
    "tags": [
     "remove-print",
     "hide-cell"
    ]
   },
   "outputs": [
    {
     "data": {
      "text/plain": [
       "'utils.py'"
      ]
     },
     "execution_count": 1,
     "metadata": {},
     "output_type": "execute_result"
    }
   ],
   "source": [
    "from os.path import basename, exists\n",
    "\n",
    "def download(url):\n",
    "    filename = basename(url)\n",
    "    if not exists(filename):\n",
    "        from urllib.request import urlretrieve\n",
    "\n",
    "        local, _ = urlretrieve(url, filename)\n",
    "        print(\"Downloaded \" + str(local))\n",
    "    return filename\n",
    "\n",
    "download('https://github.com/AllenDowney/DataQnA/raw/main/nb/utils.py')"
   ]
  },
  {
   "cell_type": "code",
   "execution_count": 2,
   "metadata": {
    "tags": [
     "hide-cell",
     "remove-print"
    ]
   },
   "outputs": [],
   "source": [
    "# install the empiricaldist library, if necessary\n",
    "\n",
    "try:\n",
    "    import empiricaldist\n",
    "except ImportError:\n",
    "    !pip install empiricaldist"
   ]
  },
  {
   "cell_type": "code",
   "execution_count": 3,
   "metadata": {
    "tags": [
     "remove-print",
     "hide-cell"
    ]
   },
   "outputs": [],
   "source": [
    "import numpy as np\n",
    "import matplotlib.pyplot as plt\n",
    "import pandas as pd\n",
    "import seaborn as sns\n",
    "\n",
    "from utils import decorate"
   ]
  },
  {
   "cell_type": "markdown",
   "metadata": {},
   "source": [
    "## Mass\n",
    "\n",
    "I'll start with a discrete distribution, so we can leave density out of it for now and focus on the difference between a probability mass function (PMF) and a likelihood function.\n",
    "\n",
    "As an example, suppose we know that a hockey team scores goals at a rate of 3 goals per game on average.\n",
    "If we model goal scoring as a Poisson process -- which is not a bad model -- the number of goals per game follows a Poisson distribution with parameter `mu=3`.\n",
    "\n",
    "The PMF of the Poisson distribution tells us the probability of scoring `k` goals in a game, for non-negative values of `k`."
   ]
  },
  {
   "cell_type": "code",
   "execution_count": 4,
   "metadata": {},
   "outputs": [],
   "source": [
    "from scipy.stats import poisson\n",
    "\n",
    "ks = np.arange(12)\n",
    "ps = poisson.pmf(ks, mu=3)"
   ]
  },
  {
   "cell_type": "markdown",
   "metadata": {},
   "source": [
    "Here's what it looks like."
   ]
  },
  {
   "cell_type": "code",
   "execution_count": 5,
   "metadata": {},
   "outputs": [
    {
     "data": {
      "image/png": "[encoded data removed]",
      "text/plain": [
       "<Figure size 450x262.5 with 1 Axes>"
      ]
     },
     "metadata": {},
     "output_type": "display_data"
    }
   ],
   "source": [
    "plt.bar(ks, ps)\n",
    "decorate(xlabel='Goals (k)', ylabel='Probability mass')"
   ]
  },
  {
   "cell_type": "markdown",
   "metadata": {},
   "source": [
    "The PMF is a function of `k`, with `mu` as a fixed parameter.\n",
    "\n",
    "The values in the distribution are probability masses, so if we want to know the probability of scoring exactly 5 goals, we can look it up like this."
   ]
  },
  {
   "cell_type": "code",
   "execution_count": 6,
   "metadata": {},
   "outputs": [
    {
     "data": {
      "text/plain": [
       "0.10081881344492458"
      ]
     },
     "execution_count": 6,
     "metadata": {},
     "output_type": "execute_result"
    }
   ],
   "source": [
    "ps[5]"
   ]
  },
  {
   "cell_type": "markdown",
   "metadata": {},
   "source": [
    "It's about 10%.\n",
    "\n",
    "The sum of the `ps` is close to 1."
   ]
  },
  {
   "cell_type": "code",
   "execution_count": 7,
   "metadata": {},
   "outputs": [
    {
     "data": {
      "text/plain": [
       "0.999928613371026"
      ]
     },
     "execution_count": 7,
     "metadata": {},
     "output_type": "execute_result"
    }
   ],
   "source": [
    "ps.sum()"
   ]
  },
  {
   "cell_type": "markdown",
   "metadata": {},
   "source": [
    "If we extend the `ks` to infinity, the sum is exactly 1.\n",
    "So this set of probability masses is a proper discrete distribution."
   ]
  },
  {
   "cell_type": "markdown",
   "metadata": {},
   "source": [
    "## Likelihood\n",
    "\n",
    "Now suppose we don't know the goal scoring rate, but we observe 4 goals in one game.\n",
    "There are several ways we can use this data to estimate `mu`.\n",
    "One is to find the maximum likelihood estimator (MLE), which is the value of `mu` that makes the observed data most likely.\n",
    "\n",
    "To find the MLE, we need to maximize the likelihood function, which is a function of `mu` with a fixed number of observed goals, `k`.\n",
    "To evaluate the likelihood function, we can use the PMF of the Poisson distribution again, this time with a single value of `k` and a range of values for `mu`."
   ]
  },
  {
   "cell_type": "code",
   "execution_count": 8,
   "metadata": {},
   "outputs": [],
   "source": [
    "k = 4\n",
    "mus = np.linspace(0, 20, 201)\n",
    "ls = poisson.pmf(k, mus)"
   ]
  },
  {
   "cell_type": "markdown",
   "metadata": {},
   "source": [
    "Here's what the likelihood function looks like."
   ]
  },
  {
   "cell_type": "code",
   "execution_count": 9,
   "metadata": {},
   "outputs": [
    {
     "data": {
      "image/png": "[encoded data removed]",
      "text/plain": [
       "<Figure size 450x262.5 with 1 Axes>"
      ]
     },
     "metadata": {},
     "output_type": "display_data"
    }
   ],
   "source": [
    "plt.plot(mus, ls)\n",
    "decorate(xlabel='mu', ylabel='Likelihood')"
   ]
  },
  {
   "cell_type": "markdown",
   "metadata": {},
   "source": [
    "To find the value of `mu` that maximizes the likelihood of the data, we can use `argmax` to find the index of the highest value in `ls`, and then look up the corresponding element of `mus`."
   ]
  },
  {
   "cell_type": "code",
   "execution_count": 10,
   "metadata": {},
   "outputs": [
    {
     "data": {
      "text/plain": [
       "4.0"
      ]
     },
     "execution_count": 10,
     "metadata": {},
     "output_type": "execute_result"
    }
   ],
   "source": [
    "i = np.argmax(ls)\n",
    "mus[i]"
   ]
  },
  {
   "cell_type": "markdown",
   "metadata": {},
   "source": [
    "In this case, the maximum likelihood estimator is equal to the number of goals we observed.\n",
    "\n",
    "That's the answer to the estimation problem, but now let's look more closely at those likelihoods.\n",
    "Here's the likelihood at the maximum of the likelihood function."
   ]
  },
  {
   "cell_type": "code",
   "execution_count": 11,
   "metadata": {},
   "outputs": [
    {
     "data": {
      "text/plain": [
       "0.19536681481316454"
      ]
     },
     "execution_count": 11,
     "metadata": {},
     "output_type": "execute_result"
    }
   ],
   "source": [
    "np.max(ls)"
   ]
  },
  {
   "cell_type": "markdown",
   "metadata": {},
   "source": [
    "This likelihood is a probability mass -- specifically, it is the probability of scoring 4 goals, given that the goal-scoring rate is exactly 4.0."
   ]
  },
  {
   "cell_type": "code",
   "execution_count": 12,
   "metadata": {},
   "outputs": [
    {
     "data": {
      "text/plain": [
       "0.19536681481316454"
      ]
     },
     "execution_count": 12,
     "metadata": {},
     "output_type": "execute_result"
    }
   ],
   "source": [
    "poisson.pmf(4, mu=4)"
   ]
  },
  {
   "cell_type": "markdown",
   "metadata": {},
   "source": [
    "So, some likelihoods are probability masses -- but not all."
   ]
  },
  {
   "cell_type": "markdown",
   "metadata": {},
   "source": [
    "## Density\n",
    "\n",
    "Now suppose, again, that we know the goal scoring rate is exactly 3,\n",
    "but now we want to know how long it will be until the next goal.\n",
    "If we model goal scoring as a Poisson process, the time until the next goal follows an exponential distribution with a rate parameter, `lam=3`.\n",
    "\n",
    "Because the exponential distribution is continuous, it has a probability density function (PDF) rather than a probability mass function (PMF).\n",
    "We can approximate the distribution by evaluating the exponential PDF at a set of equally-spaced times, `ts`.\n",
    "\n",
    "SciPy's implementation of the exponential distribution does not take `lam` as a parameter, so we have to set `scale=1/lam`."
   ]
  },
  {
   "cell_type": "code",
   "execution_count": 13,
   "metadata": {},
   "outputs": [],
   "source": [
    "from scipy.stats import expon\n",
    "\n",
    "lam = 3.0\n",
    "ts = np.linspace(0, 2.5, 201)\n",
    "ps = expon.pdf(ts, scale=1/lam)"
   ]
  },
  {
   "cell_type": "markdown",
   "metadata": {},
   "source": [
    "The PDF is a function of `t` with `lam` as a fixed parameter.\n",
    "Here's what it looks like."
   ]
  },
  {
   "cell_type": "code",
   "execution_count": 14,
   "metadata": {},
   "outputs": [
    {
     "data": {
      "image/png": "[encoded data removed]",
      "text/plain": [
       "<Figure size 450x262.5 with 1 Axes>"
      ]
     },
     "metadata": {},
     "output_type": "display_data"
    }
   ],
   "source": [
    "plt.plot(ts, ps)\n",
    "decorate(xlabel='Games until next goal', ylabel='Density')"
   ]
  },
  {
   "cell_type": "markdown",
   "metadata": {},
   "source": [
    "Notice that the values on the y-axis extend above 1. That would not be possible if they were probability masses, but it is possible because they are probability densities.\n",
    "\n",
    "By themselves, probability densities are hard to interpret.\n",
    "As an example, we can pick an arbitrary element from `ts` and the corresponding element from `ps`."
   ]
  },
  {
   "cell_type": "code",
   "execution_count": 15,
   "metadata": {},
   "outputs": [
    {
     "data": {
      "text/plain": [
       "(0.5, 0.6693904804452895)"
      ]
     },
     "execution_count": 15,
     "metadata": {},
     "output_type": "execute_result"
    }
   ],
   "source": [
    "ts[40], ps[40]"
   ]
  },
  {
   "cell_type": "markdown",
   "metadata": {},
   "source": [
    "So the probability density at `t=0.5` is about 0.67. What does that mean? Not much.\n",
    "\n",
    "To get something meaningful, we have to compute an area under the PDF.\n",
    "For example, if we want to know the probability that the first goal is scored during the first half of a game, we can compute the area under the curve from `t=0` to `t=0.5`.\n",
    "\n",
    "We can use a slice index to select the elements of `ps` and `ts` in this interval, and NumPy's `trapz` function, which uses the trapezoid method to compute the area under the curve."
   ]
  },
  {
   "cell_type": "code",
   "execution_count": 16,
   "metadata": {},
   "outputs": [
    {
     "data": {
      "text/plain": [
       "0.7769608771522626"
      ]
     },
     "execution_count": 16,
     "metadata": {},
     "output_type": "execute_result"
    }
   ],
   "source": [
    "np.trapz(ps[:41], ts[:41])"
   ]
  },
  {
   "cell_type": "markdown",
   "metadata": {},
   "source": [
    "The probability of a goal in the first half of the game is about 78%.\n",
    "To check that we got the right answer, we can compute the same probability using the exponential CDF."
   ]
  },
  {
   "cell_type": "code",
   "execution_count": 17,
   "metadata": {},
   "outputs": [
    {
     "data": {
      "text/plain": [
       "0.7768698398515702"
      ]
     },
     "execution_count": 17,
     "metadata": {},
     "output_type": "execute_result"
    }
   ],
   "source": [
    "expon.cdf(0.5, scale=1/lam)"
   ]
  },
  {
   "cell_type": "markdown",
   "metadata": {},
   "source": [
    "Considering that we used a discrete approximation of the PDF, our estimate is pretty close.\n",
    "\n",
    "This example provides an operational definition of a probability density: it's something you can add up over an interval -- or integrate -- to get a probability mass."
   ]
  },
  {
   "cell_type": "markdown",
   "metadata": {},
   "source": [
    "## Likelihood and Density\n",
    "\n",
    "Now let's suppose that we don't know the parameter `lam` and we want to use data to estimate it.\n",
    "And suppose we observe a game where the first goal is scored at `t=0.5`.\n",
    "As we did when we estimated the parameter `mu` of the Poisson distribution, we can find the value of `lam` that maximizes the likelihood of this data.\n",
    "\n",
    "First we'll define a range of possible values of `lam`."
   ]
  },
  {
   "cell_type": "code",
   "execution_count": 18,
   "metadata": {},
   "outputs": [],
   "source": [
    "lams = np.linspace(0, 20, 201)"
   ]
  },
  {
   "cell_type": "markdown",
   "metadata": {},
   "source": [
    "Then for each value of `lam`, we can evaluate the exponential PDF at the observed time `t=0.5` -- using `errstate` to ignore the \"division by zero\" warning when `lam` is 0."
   ]
  },
  {
   "cell_type": "code",
   "execution_count": 19,
   "metadata": {},
   "outputs": [],
   "source": [
    "t = 0.5\n",
    "\n",
    "with np.errstate(divide='ignore'):\n",
    "    ls = expon.pdf(t, scale=1/lams)"
   ]
  },
  {
   "cell_type": "markdown",
   "metadata": {},
   "source": [
    "The result is a likelihood function, which is a function of `lam` with a fixed values of `t`.\n",
    "Here's what it looks like."
   ]
  },
  {
   "cell_type": "code",
   "execution_count": 20,
   "metadata": {},
   "outputs": [
    {
     "data": {
      "image/png": "[encoded data removed]",
      "text/plain": [
       "<Figure size 450x262.5 with 1 Axes>"
      ]
     },
     "metadata": {},
     "output_type": "display_data"
    }
   ],
   "source": [
    "plt.plot(lams, ls)\n",
    "decorate(xlabel='Scoring rate (lam)', ylabel='Likelihood')"
   ]
  },
  {
   "cell_type": "markdown",
   "metadata": {},
   "source": [
    "Again, we can use `argmax` to find the index where the value of `ls` is maximized, and look up the corresponding value of `lams`."
   ]
  },
  {
   "cell_type": "code",
   "execution_count": 21,
   "metadata": {},
   "outputs": [
    {
     "data": {
      "text/plain": [
       "2.0"
      ]
     },
     "execution_count": 21,
     "metadata": {},
     "output_type": "execute_result"
    }
   ],
   "source": [
    "i = np.argmax(ls)\n",
    "lams[i]"
   ]
  },
  {
   "cell_type": "markdown",
   "metadata": {},
   "source": [
    "If the first goal is scored at `t=0.5`, the value of `lam` that maximizes the likelihood of this observation is 2.\n",
    "\n",
    "Now let's look more closely at those likelihoods.\n",
    "If we select the corresponding element of `ls`, the result is a probability density."
   ]
  },
  {
   "cell_type": "code",
   "execution_count": 22,
   "metadata": {},
   "outputs": [
    {
     "data": {
      "text/plain": [
       "0.7357588823428847"
      ]
     },
     "execution_count": 22,
     "metadata": {},
     "output_type": "execute_result"
    }
   ],
   "source": [
    "ls[i]"
   ]
  },
  {
   "cell_type": "markdown",
   "metadata": {},
   "source": [
    "Specifically, it's the value of the exponential PDF with parameter 2, evaluated at `t=0.5`."
   ]
  },
  {
   "cell_type": "code",
   "execution_count": 23,
   "metadata": {},
   "outputs": [
    {
     "data": {
      "text/plain": [
       "0.7357588823428847"
      ]
     },
     "execution_count": 23,
     "metadata": {},
     "output_type": "execute_result"
    }
   ],
   "source": [
    "expon.pdf(0.5, scale=1/2)"
   ]
  },
  {
   "cell_type": "markdown",
   "metadata": {},
   "source": [
    "So, some likelihoods are probability densities -- but as we've already seen, not all."
   ]
  },
  {
   "cell_type": "markdown",
   "metadata": {},
   "source": [
    "## Discussion\n",
    "\n",
    "What have we learned?\n",
    "\n",
    "* In the first example, we evaluated a Poisson PMF at discrete values of `k` with a fixed parameter, `mu`. The results were probability masses.\n",
    "\n",
    "* In the second example, we evaluated the same PMF for possible values of a parameter, `mu`, with a fixed value of `k`. The result was a likelihood function where each point is a probability mass.\n",
    "\n",
    "* In the third example, we evaluated an exponential PDF at possible values of `t` with a fixed parameter, `lam`. The results were probability densities, which we integrated over an interval to get a probability mass.\n",
    "\n",
    "* In the fourth example, we evaluated the same PDF at possible values of a parameter, `lam`, with a fixed value of `t`. The result was a likelihood function where each point is a probability density.\n",
    "\n",
    "A PDF is a function of an outcome -- like the number of goals scored or the time under the first goal -- given a fixed parameter.\n",
    "If you evaluate a PDF, you get a probability density.\n",
    "If you integrate density over an interval, you get a probability mass.\n",
    "\n",
    "A likelihood function is a function of a parameter, given a fixed outcome.\n",
    "If you evaluate a likelihood function, you might get a probability mass or a density, depending on whether the outcome is discrete or continuous.\n",
    "Either way, evaluating a likelihood function at a single point doesn't mean much by itself.\n",
    "A common use of a likelihood function is finding a maximum likelihood estimator.\n",
    "\n",
    "As OP says, \"Probability density and likelihood are not the same thing\", but the distinction is not clear because they are not completely distinct things, either.\n",
    "\n",
    "* A probability density can be a likelihood, but not all densities are likelihoods.\n",
    "\n",
    "* A likelihood can be a probability density, but not all likelihoods are densities.\n",
    "\n",
    "I hope that helps!"
   ]
  },
  {
   "cell_type": "markdown",
   "metadata": {},
   "source": [
    "### Technical Note\n",
    "\n",
    "In the scenarios so far, we have observed a single outcome -- the number of goals in a single game or the time until the first goal.\n",
    "So we've computed likelihoods by evaluating a PMF or PDF at a single point, and the result has been either a probability mass or a density.\n",
    "\n",
    "More generally, if a dataset has more than one observation, and the observations are independent, we compute a likelihood function for each observation and then multiply them together.\n",
    "In that case, the product is neither a probability mass or a density.\n",
    "\n",
    "And there are other cases where it is computationally efficient to compute likelihoods that are *proportional* to probability masses or densities, but not actually either one.\n",
    "\n",
    "So a likelihood can be a probability mass or a density, but it can also be neither."
   ]
  },
  {
   "cell_type": "markdown",
   "metadata": {},
   "source": [
    "[*Data Q&A: Answering the real questions with Python*](https://allendowney.github.io/DataQnA/index.html)\n",
    "\n",
    "Copyright 2024 [Allen B. Downey](https://allendowney.com)\n",
    "\n",
    "License: [Creative Commons Attribution-NonCommercial-ShareAlike 4.0 International](https://creativecommons.org/licenses/by-nc-sa/4.0/)"
   ]
  }
 ],
 "metadata": {
  "celltoolbar": "Tags",
  "kernelspec": {
   "display_name": "Python 3 (ipykernel)",
   "language": "python",
   "name": "python3"
  },
  "language_info": {
   "codemirror_mode": {
    "name": "ipython",
    "version": 3
   },
   "file_extension": ".py",
   "mimetype": "text/x-python",
   "name": "python",
   "nbconvert_exporter": "python",
   "pygments_lexer": "ipython3",
   "version": "3.10.14"
  }
 },
 "nbformat": 4,
 "nbformat_minor": 2
}
