{
 "cells": [
  {
   "cell_type": "markdown",
   "metadata": {},
   "source": [
    "# Correlation and slope\n",
    "\n",
    "Here's a [question from the Reddit statistics forum](https://www.reddit.com/r/statistics/comments/1c6wdyy/q_negative_correlation_but_a_positive_trend_line/).\n",
    "\n",
    "> I am currently doing a uni assignment and one of my tasks is analysing the correlation between two variables. When I use the correlation function in Excel, it returns a correlation of -0.0377. When I use the same data to create a scatter plot, the trend line is positive. I need to identify the correlation strength and direction and thereby, I am confused by these opposing outcomes. Can somebody please explain why the correlation is showing as negative but the trend line is positive? What does this indicate in terms of the strength and direction of the relationship between the two variables? "
   ]
  },
  {
   "cell_type": "markdown",
   "metadata": {},
   "source": [
    "To answer the immediate question, correlation and the slope of a linear regression line always have the same sign.\n",
    "Mathematically, they are both related to the dot product of the `x` and `y` variables.\n",
    "\n",
    "So there is something strange going on.\n",
    "It might be a simple error -- for example, maybe the correlation and regression were based on different data.\n",
    "Or it might be that the trend computed by Excel is something other than linear regression.\n",
    "For example, a line that minimizes mean absolute error (MAE) rather than mean squared error (MSE) can have a slope with the opposite sign of the correlation.\n",
    "\n",
    "Without more information it's hard to be sure what's going on, but for this example it might not matter.\n",
    "The computed correlation is negative but very small.\n",
    "If we fit a line (other than a regression line) to the same data and the slope is positive but similarly small, that is not necessarily inconsistent.\n",
    "Within statistical uncertainty, both are indistinguishable from zero.\n",
    "\n",
    "OP also asks, \"What does this indicate in terms of the strength and direction of the relationship between the two variables?\"\n",
    "So let's answer that question, too."
   ]
  },
  {
   "cell_type": "markdown",
   "metadata": {
    "tags": [
     "remove-print"
    ]
   },
   "source": [
    "[Click here to run this notebook on Colab](https://colab.research.google.com/github/AllenDowney/DataQnA/blob/main/nb/corr_trend.ipynb)."
   ]
  },
  {
   "cell_type": "markdown",
   "metadata": {
    "tags": [
     "remove-print"
    ]
   },
   "source": [
    "I'll download a utilities module with some of my frequently-used functions, and then import the usual libraries."
   ]
  },
  {
   "cell_type": "code",
   "execution_count": 1,
   "metadata": {
    "tags": [
     "remove-print"
    ]
   },
   "outputs": [],
   "source": [
    "from os.path import basename, exists\n",
    "\n",
    "def download(url):\n",
    "    filename = basename(url)\n",
    "    if not exists(filename):\n",
    "        from urllib.request import urlretrieve\n",
    "\n",
    "        local, _ = urlretrieve(url, filename)\n",
    "        print(\"Downloaded \" + str(local))\n",
    "    return filename\n",
    "\n",
    "download('https://github.com/AllenDowney/DataQnA/raw/main/nb/utils.py')\n",
    "\n",
    "import numpy as np\n",
    "import matplotlib.pyplot as plt\n",
    "import pandas as pd\n",
    "import seaborn as sns\n",
    "\n",
    "from utils import decorate"
   ]
  },
  {
   "cell_type": "markdown",
   "metadata": {},
   "source": [
    "## Interpreting correlation and slope\n",
    "\n",
    "When people talk about the strength of a relationship, they might mean correlation or they might mean the slope of a fitted line.\n",
    "But these measures of \"strength\" are not always consistent.\n",
    "\n",
    "For example, suppose we are concerned about the health effects of weight gain, so we plot weight versus age from 20 to 50 years old.\n",
    "I'll generate two fake datasets to demonstrate the point."
   ]
  },
  {
   "cell_type": "code",
   "execution_count": 2,
   "metadata": {},
   "outputs": [],
   "source": [
    "np.random.seed(18)\n",
    "xs1 = np.linspace(20, 50)\n",
    "ys1 = 75 + 0.02 * xs1 + np.random.normal(0, 0.15, len(xs1))"
   ]
  },
  {
   "cell_type": "code",
   "execution_count": 3,
   "metadata": {},
   "outputs": [],
   "source": [
    "np.random.seed(18)\n",
    "xs2 = np.linspace(20, 50)\n",
    "ys2 = 65 + 0.2 * xs2 + np.random.normal(0, 3, len(xs2))"
   ]
  },
  {
   "cell_type": "markdown",
   "metadata": {},
   "source": [
    "I used the same random seed to generate both, so they look similar, as we can see in these scatter plots."
   ]
  },
  {
   "cell_type": "code",
   "execution_count": 4,
   "metadata": {},
   "outputs": [],
   "source": [
    "from utils import underride\n",
    "\n",
    "def text(x, y, string, **options):\n",
    "    \"\"\"Plot text using axis coordinates.\n",
    "    \"\"\"\n",
    "    transform = plt.gca().transAxes\n",
    "    options = underride(options, transform=transform, ha='left', va='top')\n",
    "    plt.text(x, y, string, **options)"
   ]
  },
  {
   "cell_type": "code",
   "execution_count": 5,
   "metadata": {},
   "outputs": [
    {
     "data": {
      "image/png": "[encoded data removed]",
      "text/plain": [
       "<Figure size 450x262.5 with 1 Axes>"
      ]
     },
     "metadata": {},
     "output_type": "display_data"
    }
   ],
   "source": [
    "plt.plot(xs1, ys1, 'o', alpha=0.5)\n",
    "text(0.05, 0.9, 'Fake dataset A')\n",
    "decorate(xlabel='Age in years',\n",
    "         ylabel='Weight in kg')"
   ]
  },
  {
   "cell_type": "code",
   "execution_count": 6,
   "metadata": {},
   "outputs": [
    {
     "data": {
      "image/png": "[encoded data removed]",
      "text/plain": [
       "<Figure size 450x262.5 with 1 Axes>"
      ]
     },
     "metadata": {},
     "output_type": "display_data"
    }
   ],
   "source": [
    "plt.plot(xs2, ys2, 'o', alpha=0.5)\n",
    "text(0.05, 0.9, 'Fake dataset B')\n",
    "decorate(xlabel='Age in years',\n",
    "         ylabel='Weight in kg')"
   ]
  },
  {
   "cell_type": "markdown",
   "metadata": {},
   "source": [
    "Nevertheless, they have substantially different correlations."
   ]
  },
  {
   "cell_type": "code",
   "execution_count": 7,
   "metadata": {},
   "outputs": [
    {
     "data": {
      "text/plain": [
       "0.7579660563439401"
      ]
     },
     "execution_count": 7,
     "metadata": {},
     "output_type": "execute_result"
    }
   ],
   "source": [
    "rho1 = np.corrcoef(xs1, ys1)[0][1]\n",
    "rho1"
   ]
  },
  {
   "cell_type": "code",
   "execution_count": 8,
   "metadata": {},
   "outputs": [
    {
     "data": {
      "text/plain": [
       "0.4782776976576317"
      ]
     },
     "execution_count": 8,
     "metadata": {},
     "output_type": "execute_result"
    }
   ],
   "source": [
    "rho2 = np.corrcoef(xs2, ys2)[0][1]\n",
    "rho2"
   ]
  },
  {
   "cell_type": "markdown",
   "metadata": {},
   "source": [
    "In the first dataset, the correlation is close to `0.75`.\n",
    "In the second, it is close to `0.5`.\n",
    "So we might think the first relationship is stronger.\n",
    "\n",
    "But let's look at the slopes of the regression lines.\n",
    "For the first dataset, the estimated slope is about 0.019 kilograms per year or about 0.56 kilograms over the 30-year range."
   ]
  },
  {
   "cell_type": "code",
   "execution_count": 9,
   "metadata": {},
   "outputs": [
    {
     "data": {
      "text/plain": [
       "(0.018821034903244386, 0.5646310470973316)"
      ]
     },
     "execution_count": 9,
     "metadata": {},
     "output_type": "execute_result"
    }
   ],
   "source": [
    "from scipy.stats import linregress\n",
    "\n",
    "res1 = linregress(xs1, ys1)\n",
    "res1.slope, res1.slope * 30"
   ]
  },
  {
   "cell_type": "markdown",
   "metadata": {},
   "source": [
    "For the second dataset, the estimated slope is almost 10 times higher -- about 0.18 kilograms per year or 5.3 kilograms per 30 years."
   ]
  },
  {
   "cell_type": "code",
   "execution_count": 10,
   "metadata": {},
   "outputs": [
    {
     "data": {
      "text/plain": [
       "(0.17642069806488855, 5.292620941946657)"
      ]
     },
     "execution_count": 10,
     "metadata": {},
     "output_type": "execute_result"
    }
   ],
   "source": [
    "res2 = linregress(xs2, ys2)\n",
    "res2.slope, res2.slope * 30"
   ]
  },
  {
   "cell_type": "markdown",
   "metadata": {},
   "source": [
    "According to the correlations, the first relationship is stronger.\n",
    "According to the slopes, the second relationship is stronger.\n",
    "So which is it?\n",
    "The answer depends on context.\n",
    "\n",
    "In this example, the slope of the regression line indicates the magnitude of weight gain.\n",
    "If we are concerned about the health effects of weight gain, the second relationship is probably more important.\n",
    "\n",
    "On the other hand, correlation indicates how well we can predict one value based on the other.\n",
    "If, for some reason, we are trying to guess someone's weight, based on their age, the first relationship would be more important."
   ]
  },
  {
   "cell_type": "markdown",
   "metadata": {},
   "source": [
    "Here are all the results in the same plot."
   ]
  },
  {
   "cell_type": "code",
   "execution_count": 11,
   "metadata": {},
   "outputs": [],
   "source": [
    "def make_plot(xs, ys, title):\n",
    "    \"\"\"Make a scatter plot with fitted line.\n",
    "    \"\"\"\n",
    "    res = linregress(xs, ys)\n",
    "    plt.plot(xs, ys, 'o', alpha=0.5)\n",
    "\n",
    "    fx = np.array([xs.min(), xs.max()])\n",
    "    fy = res.intercept + res.slope * fx\n",
    "    plt.plot(fx, fy, '-')\n",
    "\n",
    "    text(0.05, 0.9, title)\n",
    "    text(0.05, 0.82, f'correlation = {res.rvalue:0.2f}')\n",
    "    text(0.05, 0.74, f'slope = {res.slope:0.3f} kg/yr')\n",
    "    decorate(xlabel='Age in years',\n",
    "             ylabel='Weight in kg')"
   ]
  },
  {
   "cell_type": "code",
   "execution_count": 12,
   "metadata": {},
   "outputs": [
    {
     "data": {
      "image/png": "[encoded data removed]",
      "text/plain": [
       "<Figure size 450x525 with 2 Axes>"
      ]
     },
     "metadata": {},
     "output_type": "display_data"
    }
   ],
   "source": [
    "plt.figure(figsize=(6, 7))\n",
    "\n",
    "plt.subplot(2, 1, 1)\n",
    "make_plot(xs1, ys1, 'Fake dataset A')\n",
    "\n",
    "plt.subplot(2, 1, 2)\n",
    "make_plot(xs2, ys2, 'Fake dataset B')"
   ]
  },
  {
   "cell_type": "markdown",
   "metadata": {},
   "source": [
    "Because of the way the plots are scaled, the slope looks smaller in the second figure, but that's misleading.\n",
    "So this example is a reminder to look at the labels of the `y` axis -- which is where the effect size often hides."
   ]
  },
  {
   "cell_type": "markdown",
   "metadata": {},
   "source": [
    "## Minimizing MAE\n",
    "\n",
    "Earlier I said a line that minimizes mean absolute error (MAE) rather than mean squared error (MSE) can have a slope with the opposite sign of the correlation.\n",
    "To demonstrate, I'll use the following function to minimize MAE."
   ]
  },
  {
   "cell_type": "code",
   "execution_count": 13,
   "metadata": {},
   "outputs": [],
   "source": [
    "from scipy.optimize import minimize\n",
    "\n",
    "def error_func(params, xs, ys):\n",
    "    intercept, slope = params\n",
    "    y_pred = intercept + slope * xs\n",
    "    return np.mean(np.abs(y_pred - ys))\n",
    "\n",
    "def minimize_mae(xs, ys):\n",
    "    param0 = [0, 0]\n",
    "    result = minimize(error_func, param0, args=(xs, ys), method='Nelder-Mead')\n",
    "    assert result.success\n",
    "    \n",
    "    return result.x"
   ]
  },
  {
   "cell_type": "markdown",
   "metadata": {},
   "source": [
    "Now I'll generate a dataset where `xs` and `ys` are actually uncorrelated."
   ]
  },
  {
   "cell_type": "code",
   "execution_count": 14,
   "metadata": {},
   "outputs": [],
   "source": [
    "n = 100\n",
    "\n",
    "np.random.seed(20)\n",
    "xs = np.random.normal(0, 1, n)\n",
    "ys = np.random.normal(0, 1, n)"
   ]
  },
  {
   "cell_type": "markdown",
   "metadata": {},
   "source": [
    "In this dataset, the correlation is slightly negative and the slope of the fitted line is slightly positive."
   ]
  },
  {
   "cell_type": "code",
   "execution_count": 15,
   "metadata": {},
   "outputs": [
    {
     "data": {
      "text/plain": [
       "(-0.08198650127894906, 0.04675271007547886)"
      ]
     },
     "execution_count": 15,
     "metadata": {},
     "output_type": "execute_result"
    }
   ],
   "source": [
    "corr = np.corrcoef(xs, ys)[0, 1]\n",
    "intercept, slope = minimize_mae(xs, ys)\n",
    "\n",
    "corr, slope"
   ]
  },
  {
   "cell_type": "markdown",
   "metadata": {},
   "source": [
    "Here's what the scatter plot looks like with the minimum MAE line. "
   ]
  },
  {
   "cell_type": "code",
   "execution_count": 16,
   "metadata": {},
   "outputs": [],
   "source": [
    "fxs = np.array([np.min(xs), np.max(xs)])\n",
    "fys = intercept + slope * fxs"
   ]
  },
  {
   "cell_type": "code",
   "execution_count": 17,
   "metadata": {},
   "outputs": [
    {
     "data": {
      "image/png": "[encoded data removed]",
      "text/plain": [
       "<Figure size 450x262.5 with 1 Axes>"
      ]
     },
     "metadata": {},
     "output_type": "display_data"
    }
   ],
   "source": [
    "plt.plot(xs, ys, '.')\n",
    "plt.plot(fxs, fys)\n",
    "decorate()"
   ]
  },
  {
   "cell_type": "markdown",
   "metadata": {},
   "source": [
    "To find this example, I generated datasets with different random number seeds.\n",
    "Out of the first 100 attempts, 19 yield correlation and slope with opposite signs."
   ]
  },
  {
   "cell_type": "code",
   "execution_count": 18,
   "metadata": {},
   "outputs": [
    {
     "data": {
      "text/plain": [
       "19"
      ]
     },
     "execution_count": 18,
     "metadata": {},
     "output_type": "execute_result"
    }
   ],
   "source": [
    "count = 0\n",
    "for i in range(100):\n",
    "    np.random.seed(i)\n",
    "    xs = np.random.normal(0, 1, n)\n",
    "    ys = np.random.normal(0, 1, n)\n",
    "    corr = np.corrcoef(xs, ys)[0, 1]\n",
    "    intercept, slope = minimize_mae(xs, ys)\n",
    "    if corr * slope < 0:\n",
    "        count += 1\n",
    "count"
   ]
  },
  {
   "cell_type": "markdown",
   "metadata": {},
   "source": [
    "So examples like this are not rare, if the actual correlation is close to zero."
   ]
  },
  {
   "cell_type": "markdown",
   "metadata": {},
   "source": [
    "*Data Q&A: Answering the real questions with Python*\n",
    "\n",
    "Copyright 2024 [Allen B. Downey](https://allendowney.com)\n",
    "\n",
    "License: [Creative Commons Attribution-NonCommercial-ShareAlike 4.0 International](https://creativecommons.org/licenses/by-nc-sa/4.0/)"
   ]
  },
  {
   "cell_type": "code",
   "execution_count": null,
   "metadata": {},
   "outputs": [],
   "source": []
  }
 ],
 "metadata": {
  "celltoolbar": "Tags",
  "kernelspec": {
   "display_name": "Python 3 (ipykernel)",
   "language": "python",
   "name": "python3"
  },
  "language_info": {
   "codemirror_mode": {
    "name": "ipython",
    "version": 3
   },
   "file_extension": ".py",
   "mimetype": "text/x-python",
   "name": "python",
   "nbconvert_exporter": "python",
   "pygments_lexer": "ipython3",
   "version": "3.10.14"
  }
 },
 "nbformat": 4,
 "nbformat_minor": 2
}
